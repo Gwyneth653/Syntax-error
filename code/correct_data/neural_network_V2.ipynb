{
 "cells": [
  {
   "cell_type": "markdown",
   "id": "d239e9af",
   "metadata": {},
   "source": [
    "# Neural Network \n",
    "\n",
    "In this notebook we are going to design a neural network algortihm for predicting housing prices. "
   ]
  },
  {
   "cell_type": "code",
   "execution_count": 45,
   "id": "56939b60",
   "metadata": {},
   "outputs": [],
   "source": [
    "import numpy as np\n",
    "import pandas as pd\n",
    "\n",
    "# importing data\n",
    "train_data = pd.read_csv('train.csv')"
   ]
  },
  {
   "cell_type": "markdown",
   "id": "7164f6c9",
   "metadata": {},
   "source": [
    "# Check missing values\n",
    "\n",
    "If certain features in the data have a lot of missing values it is best to remove these columns out of our data set. "
   ]
  },
  {
   "cell_type": "code",
   "execution_count": 35,
   "id": "9cfd0838",
   "metadata": {},
   "outputs": [
    {
     "name": "stdout",
     "output_type": "stream",
     "text": [
      "Features with missing values: \n",
      "\n",
      "          column  rows  percentage missing\n",
      "72        PoolQC  1453           99.520548\n",
      "74   MiscFeature  1406           96.301370\n",
      "6          Alley  1369           93.767123\n",
      "73         Fence  1179           80.753425\n",
      "57   FireplaceQu   690           47.260274\n",
      "3    LotFrontage   259           17.739726\n",
      "58    GarageType    81            5.547945\n",
      "59   GarageYrBlt    81            5.547945\n",
      "60  GarageFinish    81            5.547945\n",
      "63    GarageQual    81            5.547945\n",
      "64    GarageCond    81            5.547945\n",
      "32  BsmtExposure    38            2.602740\n",
      "35  BsmtFinType2    38            2.602740\n",
      "33  BsmtFinType1    37            2.534247\n",
      "31      BsmtCond    37            2.534247\n",
      "30      BsmtQual    37            2.534247\n",
      "26    MasVnrArea     8            0.547945\n",
      "25    MasVnrType     8            0.547945\n",
      "42    Electrical     1            0.068493\n"
     ]
    }
   ],
   "source": [
    "def show_missing_info(df):\n",
    "    \n",
    "    '''This function detects missing values in a dataframe and returns a dataframe of features with missing\n",
    "    values and the number of rows with and percentage of missing values within that feature in descending order.'''\n",
    "    \n",
    "    # Check all the NaN values in the dataframe and sum together\n",
    "    missing_info = df.isna().sum().reset_index(drop=False)\n",
    "    \n",
    "    # create new dataframe with column names\n",
    "    missing_info.columns = [\"column\",\"rows\"]\n",
    "    \n",
    "    # add a column to the dataframe with the percentage of missing values\n",
    "    missing_info[\"percentage missing\"] = (missing_info[\"rows\"]/train_data.shape[0])*100\n",
    "    \n",
    "    # sort the dataframe descending \n",
    "    missing_info = missing_info[missing_info[\"rows\"]>0].sort_values(by=\"percentage missing\",ascending=False)\n",
    "    \n",
    "    return missing_info\n",
    "\n",
    "\n",
    "# Show information about features with missing values in the train data\n",
    "missing_df = show_missing_info(train_data)\n",
    "print(f'Features with missing values: \\n')\n",
    "print(missing_df)\n",
    "\n",
    "# Make a list of the top 5 features with the most missing values in the train data\n",
    "all_missing = list(missing_df['column'])\n",
    "top5 = list(missing_df['column'].head(5))"
   ]
  },
  {
   "cell_type": "markdown",
   "id": "b24fa090",
   "metadata": {},
   "source": [
    "#### Replace missing values\n",
    "Other missing values in other columns are replaced by the mean of that feature (numerical data) or by the category which is most abundant (categorical data). "
   ]
  },
  {
   "cell_type": "code",
   "execution_count": 36,
   "id": "b71431e8",
   "metadata": {},
   "outputs": [
    {
     "name": "stderr",
     "output_type": "stream",
     "text": [
      "C:\\Users\\gwyne\\anaconda3\\envs\\progLab\\lib\\site-packages\\ipykernel_launcher.py:14: FutureWarning: In a future version of pandas all arguments of DataFrame.drop except for the argument 'labels' will be keyword-only\n",
      "  \n"
     ]
    }
   ],
   "source": [
    "from pandas.api.types import is_string_dtype\n",
    "from pandas.api.types import is_numeric_dtype\n",
    "\n",
    "def cleaning(df, top5):\n",
    "    \n",
    "    '''This function corrects any missing values in a pandas dataframe and\n",
    "    returns the cleaned dataframe.'''\n",
    "    \n",
    "    # Loop through all the features/columns in the training data\n",
    "    for column in df:\n",
    "        \n",
    "        # if column is in top 5 of columns with most missing data, drop column\n",
    "        if column in top5:\n",
    "            df = df.drop(column, 1)\n",
    "        \n",
    "        # check whether the data in each column is numerical\n",
    "        elif is_numeric_dtype(df[column]):\n",
    "\n",
    "            # if the data is numerical compute the mean of the whole column values\n",
    "            column_mean = df[column].mean()\n",
    "\n",
    "            # replace the missing values in this column with the mean of the column\n",
    "            df[column] = df[column].fillna(column_mean)\n",
    "\n",
    "        # replace categorical missing values with the most common categorical value\n",
    "        else:\n",
    "            df[column] = df[column].fillna(df[column].value_counts().index[0])\n",
    "    \n",
    "    return df\n",
    "\n",
    "# clean the imported training data \n",
    "train_data_cleaned = cleaning(train_data, top5)"
   ]
  },
  {
   "cell_type": "markdown",
   "id": "d826857a",
   "metadata": {},
   "source": [
    "#### One hot encode categorical data\n",
    "In order for a neural network to handle categorical data, the data is one hot encoded in the cell below. "
   ]
  },
  {
   "cell_type": "code",
   "execution_count": 37,
   "id": "4a6746ed",
   "metadata": {},
   "outputs": [],
   "source": [
    "from sklearn import preprocessing\n",
    "from sklearn.preprocessing import OneHotEncoder\n",
    "\n",
    "def one_hot_encoding(df):\n",
    "    \n",
    "    '''One hot encode categorical data from a dataframe.'''\n",
    "        \n",
    "    # Select all categorical features and numberical features\n",
    "    cat_data = df.select_dtypes(include=[object])\n",
    "    num_data = df.select_dtypes(exclude=[object])\n",
    "    \n",
    "    # Create a LabelEncoder object and apply it to each categorical feature in the data\n",
    "    le = preprocessing.LabelEncoder()\n",
    "    cat_data_2 = cat_data.apply(le.fit_transform)\n",
    "    \n",
    "    # Create an OneHotEncoder object and fit it to all categorical data\n",
    "    enc = preprocessing.OneHotEncoder()\n",
    "    enc.fit(cat_data_2)\n",
    "    onehotlabels = enc.transform(cat_data_2).toarray()\n",
    "    \n",
    "    # Get all possible categories from the data\n",
    "    all_categories = enc.get_feature_names(cat_data_2.columns)\n",
    "\n",
    "    # Create new dataframe with all possible categories as columns\n",
    "    cat_data = pd.DataFrame(onehotlabels, columns = all_categories)\n",
    "    \n",
    "    # Merge the numerical data with the one hot encoded categorical data again\n",
    "    result = pd.concat([cat_data, num_data], axis=1).reindex(num_data.index)\n",
    "        \n",
    "    return result\n",
    "\n",
    "# one hot encode the train data\n",
    "train_data_oh = one_hot_encoding(train_data_cleaned)"
   ]
  },
  {
   "cell_type": "markdown",
   "id": "7aa81e78",
   "metadata": {},
   "source": [
    "#### Divide the data in X and y subsets and in train and test data. "
   ]
  },
  {
   "cell_type": "code",
   "execution_count": 38,
   "id": "e81fc53f",
   "metadata": {},
   "outputs": [],
   "source": [
    "from sklearn.model_selection import train_test_split\n",
    "\n",
    "# select the Sale price from the training data = y \n",
    "y_train = train_data_oh['SalePrice']\n",
    "X_train = train_data_oh.iloc[:, :-1]\n",
    "\n",
    "# divide the data into train and test data\n",
    "train_X, test_X, train_y, test_y = train_test_split(X_train, y_train, test_size=0.2, random_state=42)"
   ]
  },
  {
   "cell_type": "markdown",
   "id": "486561e1",
   "metadata": {},
   "source": [
    "#### Normalize the data"
   ]
  },
  {
   "cell_type": "code",
   "execution_count": 39,
   "id": "ea65ba21",
   "metadata": {},
   "outputs": [],
   "source": [
    "from sklearn.preprocessing import StandardScaler\n",
    "\n",
    "scaler = StandardScaler()\n",
    "train_X = scaler.fit_transform(train_X)\n",
    "test_X = scaler.transform(test_X)"
   ]
  },
  {
   "cell_type": "markdown",
   "id": "ad251523",
   "metadata": {},
   "source": [
    "# Benchmark Neural Network\n",
    "\n",
    "In the code below, a basic neural network is made as a benchmark for further adjustments. \n",
    "We started with a simple neural network with 2 hidden layer and 20 epochs and implemented all 271 features."
   ]
  },
  {
   "cell_type": "code",
   "execution_count": 40,
   "id": "416c16dc",
   "metadata": {},
   "outputs": [
    {
     "data": {
      "image/png": "[encoded data removed]",
      "text/plain": [
       "<Figure size 432x288 with 1 Axes>"
      ]
     },
     "metadata": {
      "needs_background": "light"
     },
     "output_type": "display_data"
    },
    {
     "name": "stdout",
     "output_type": "stream",
     "text": [
      "MAE: 30812.215315309288\n",
      "RMSE: 42413.523631285796\n",
      "RMSE_log: 0.474595110612408\n"
     ]
    }
   ],
   "source": [
    "from tensorflow.keras import layers, models\n",
    "from keras.models import Sequential\n",
    "from keras.layers import Dense\n",
    "from sklearn.metrics import mean_squared_error\n",
    "from sklearn.metrics import mean_absolute_error\n",
    "import matplotlib.pyplot as plt\n",
    "import math\n",
    "from math import sqrt\n",
    "\n",
    "\n",
    "# neural network architecture\n",
    "model = Sequential()\n",
    "model.add(Dense(120, input_dim=271, activation= 'relu'))\n",
    "model.add(Dense(32, activation='relu'))\n",
    "model.add(Dense(1))\n",
    "\n",
    "# training the neural network\n",
    "model.compile(loss='mean_squared_error', optimizer= 'adam')\n",
    "history = model.fit(train_X, train_y, validation_data=(test_X, test_y), epochs = 80, verbose=0)\n",
    "\n",
    "\n",
    "# plot the training loss and the testing loss\n",
    "# model takes mean squared error, take root of mse\n",
    "for i in range(len(history.history['loss'])):\n",
    "    history.history['loss'][i] = np.sqrt(history.history['loss'][i])\n",
    "    history.history['val_loss'][i] = np.sqrt(history.history['val_loss'][i])\n",
    "plt.plot(history.history['loss'])\n",
    "plt.plot(history.history['val_loss'])\n",
    "plt.title('model loss')\n",
    "plt.ylabel('RMSE')\n",
    "plt.xlabel('epoch')\n",
    "plt.legend(['train', 'test'], loc='upper right')\n",
    "plt.show()\n",
    "\n",
    "\n",
    "# calculating the error of our model\n",
    "# with the MAE\n",
    "predictions = model.predict(test_X)\n",
    "MAE = mean_absolute_error(test_y, predictions)\n",
    "print(\"MAE:\", MAE)\n",
    "\n",
    "# The RMSE\n",
    "RMSE = sqrt(mean_squared_error(test_y, predictions))\n",
    "print(\"RMSE:\", RMSE)\n",
    "\n",
    "# and the RMSE with both y values in the logarithm\n",
    "RMSE_log = sqrt(mean_absolute_error(np.log(test_y), np.log(predictions)))\n",
    "print(\"RMSE_log:\", RMSE_log)"
   ]
  },
  {
   "cell_type": "markdown",
   "id": "c4a72c36",
   "metadata": {},
   "source": [
    "This very simple model (epoch = 20) resulted in an RMSE of 112,774.\n",
    "Increasing epochs to 80 resulted in a RMSE of 41,683. \n",
    "Our model shows relatively high bias and therefore, the next step was to make out model more complex with and extra hidden layer. "
   ]
  },
  {
   "cell_type": "markdown",
   "id": "7132d44f",
   "metadata": {},
   "source": [
    "# Neural Network 2\n",
    "\n",
    "In the network below, more layers are implemented."
   ]
  },
  {
   "cell_type": "code",
   "execution_count": 41,
   "id": "f81f6cea",
   "metadata": {
    "scrolled": false
   },
   "outputs": [
    {
     "data": {
      "image/png": "[encoded data removed]",
      "text/plain": [
       "<Figure size 432x288 with 1 Axes>"
      ]
     },
     "metadata": {
      "needs_background": "light"
     },
     "output_type": "display_data"
    },
    {
     "name": "stdout",
     "output_type": "stream",
     "text": [
      "MAE: 22260.110324807363\n",
      "RMSE: 32012.683126798096\n",
      "RMSE_log: 0.3712647659420237\n"
     ]
    }
   ],
   "source": [
    "# neural network architecture\n",
    "model = Sequential()\n",
    "model.add(Dense(200, input_dim=271, activation= 'relu'))\n",
    "model.add(Dense(100, activation='relu'))\n",
    "model.add(Dense(32, activation='relu'))\n",
    "model.add(Dense(1))\n",
    "\n",
    "# training the neural network\n",
    "model.compile(loss='mean_squared_error', optimizer= 'adam')\n",
    "history = model.fit(train_X, train_y, validation_data=(test_X, test_y), epochs = 80, verbose=0)\n",
    "\n",
    "\n",
    "# plot the training loss and the testing loss\n",
    "# model takes mean squared error, take root of mse\n",
    "for i in range(len(history.history['loss'])):\n",
    "    history.history['loss'][i] = np.sqrt(history.history['loss'][i])\n",
    "    history.history['val_loss'][i] = np.sqrt(history.history['val_loss'][i])\n",
    "plt.plot(history.history['loss'])\n",
    "plt.plot(history.history['val_loss'])\n",
    "plt.title('model loss')\n",
    "plt.ylabel('RMSE')\n",
    "plt.xlabel('epoch')\n",
    "plt.legend(['train', 'test'], loc='upper right')\n",
    "plt.show()\n",
    "\n",
    "# calculating the error of our model\n",
    "# with the MAE\n",
    "predictions = model.predict(test_X)\n",
    "MAE = mean_absolute_error(test_y, predictions)\n",
    "print(\"MAE:\", MAE)\n",
    "\n",
    "# The RMSE\n",
    "RMSE = sqrt(mean_squared_error(test_y, predictions))\n",
    "print(\"RMSE:\", RMSE)\n",
    "\n",
    "# and the RMSE with both y values in the logarithm\n",
    "RMSE_log = sqrt(mean_absolute_error(np.log(test_y), np.log(predictions)))\n",
    "print(\"RMSE_log:\", RMSE_log)"
   ]
  },
  {
   "cell_type": "markdown",
   "id": "bd5fb519",
   "metadata": {},
   "source": [
    "Increasing the number of hidden layers resulted in an RMSE of 31,788. Our model seems a bit overfit now as the performance of the model on the test data is less compared to the train data. The next step is to reduce overfitting by implementing dropout layers"
   ]
  },
  {
   "cell_type": "markdown",
   "id": "434f6ad6",
   "metadata": {},
   "source": [
    "# Neural network 3\n",
    "In the network below dropout is added to counter the overfitting in the model. \n",
    "\n",
    "We experimented with different dropout layers: \n",
    "- Dropout 10% 1x = 30,000 RMSE\n",
    "- Dropout 10% 2x = 29,999 RMSE = BEST OPTION\n",
    "\n",
    "- Dropout 30% 1x = 30,100 RMSE\n",
    "- Dropout 30% 2x = 31,100 RMSE\n",
    "\n",
    "- Dropout 50% 1x = 32,100 RMSE\n",
    "- Dropout 50% 2x = 31,500 RMSE\n",
    " \n",
    "Dropouts decreased the RMSE slightly but not significantly. \n",
    "\n",
    "Implementing stochastic gradient descent (SGD) with:\n",
    "- Learning rate = 0.01\n",
    "- Momentum = 0.9\n",
    "- Clipnorm = 1\n",
    "\n",
    "Resulted in RMSE of 26,658. "
   ]
  },
  {
   "cell_type": "code",
   "execution_count": 42,
   "id": "2d077b47",
   "metadata": {
    "scrolled": false
   },
   "outputs": [
    {
     "data": {
      "image/png": "[encoded data removed]",
      "text/plain": [
       "<Figure size 432x288 with 1 Axes>"
      ]
     },
     "metadata": {
      "needs_background": "light"
     },
     "output_type": "display_data"
    },
    {
     "name": "stdout",
     "output_type": "stream",
     "text": [
      "MAE: 16791.10592358733\n",
      "RMSE: 27094.8128569157\n",
      "RMSE_log: 0.3106575181045116\n"
     ]
    }
   ],
   "source": [
    "from tensorflow import keras\n",
    "from keras.layers import Dropout\n",
    "\n",
    "\n",
    "# neural network architecture\n",
    "model = Sequential()\n",
    "model.add(Dense(200, input_dim=271, activation= 'relu'))\n",
    "model.add(Dropout(0.1))\n",
    "model.add(Dense(150, activation='relu'))\n",
    "model.add(Dropout(0.1))\n",
    "model.add(Dense(75, activation='relu'))\n",
    "model.add(Dense(1))\n",
    "\n",
    "# training the neural network\n",
    "optimizer = keras.optimizers.SGD(learning_rate=0.01, name='SGD', momentum = 0.9, clipnorm=1)\n",
    "model.compile(loss='mean_squared_error', optimizer= optimizer)\n",
    "\n",
    "\n",
    "history = model.fit(train_X, train_y, validation_data=(test_X, test_y), epochs = 80, verbose=0)\n",
    "\n",
    "\n",
    "# plot the training loss and the testing loss\n",
    "# model takes mean squared error, take root of mse\n",
    "for i in range(len(history.history['loss'])):\n",
    "    history.history['loss'][i] = np.sqrt(history.history['loss'][i])\n",
    "    history.history['val_loss'][i] = np.sqrt(history.history['val_loss'][i])\n",
    "plt.plot(history.history['loss'])\n",
    "plt.plot(history.history['val_loss'])\n",
    "plt.title('model loss')\n",
    "plt.ylabel('RMSE')\n",
    "plt.xlabel('epoch')\n",
    "plt.legend(['train', 'test'], loc='upper right')\n",
    "plt.show()\n",
    "\n",
    "\n",
    "# calculating the error of our model\n",
    "# with the MAE\n",
    "predictions = model.predict(test_X)\n",
    "MAE = mean_absolute_error(test_y, predictions)\n",
    "print(\"MAE:\", MAE)\n",
    "\n",
    "# The RMSE\n",
    "RMSE = sqrt(mean_squared_error(test_y, predictions))\n",
    "print(\"RMSE:\", RMSE)\n",
    "\n",
    "# and the RMSE with both y values in the logarithm\n",
    "RMSE_log = sqrt(mean_absolute_error(np.log(test_y), np.log(predictions)))\n",
    "print(\"RMSE_log:\", RMSE_log)"
   ]
  },
  {
   "cell_type": "markdown",
   "id": "28663c97",
   "metadata": {},
   "source": [
    "Our model seems to be overfitting after 20 epochs. We tried to implement another activtion function which is LeakyReLU"
   ]
  },
  {
   "cell_type": "markdown",
   "id": "89d8bffc",
   "metadata": {},
   "source": [
    "### Model 4\n",
    "\n",
    "In the code below we implemented LeakyReLU as the activation function as this function can prevent dead nodes in our neural network. This resulted in an RMSE of 26,557.\n",
    "\n",
    "Furthermore, we experimented with the learning rate and the momentum to increase model performance: \n",
    "- lr=0.1, momentum=0.1 --> RMSE=26,777\n",
    "- lr=0.01, momentum=0.1 --> RMSE=31,743\n",
    "- lr=0.01, momentum=0.2 --> RMSE=31,223\n",
    "- lr=0.1, momentum=0.2 --> RMSE=26,351\n",
    "- lr=0.1, momentum=0.3 --> RMSE=27,139\n",
    "\n",
    "Next we tried changing the dropout layers as our model seemed overfit:\n",
    "- lr=0.1, momentum=0.3, dropout=0.3 -->  RMSE=27,116\n",
    "\n",
    "And added another layer:\n",
    "- lr=0.1, momentum=0.3, dropout=0.3, 1e hidden layer = 300 --> RMSE=26,759\n",
    "\n",
    "We experimented more with the learning rate and the amount of epochs:\n",
    "- lr=0.005, momentum=0.3, dropout=0.3 --> RMSE=43,786\n",
    "- lr=0.005, momentum=0.3, dropout=0.3, epochs=200 --> RMSE=28,700\n",
    "- lr=0.005, momentum=0.3, dropout=0.3, epochs=300 --> RMSE=27,900\n",
    "\n",
    "The model was in this case a bit underfit so we added 2 extra hidden layers:\n",
    "- lr=0.005, momentum=0.3, dropout=0.3, epochs=300 --> RMSE=27,900\n",
    "\n",
    "The mode became underfit so we changed the dropout layers:\n",
    "- lr=0.005, momentum=0.3, dropout=0.2, epochs=300 --> RMSE=28,219\n",
    "- lr=0.005, momentum=0.3, dropout=0.1, epochs=300 --> RMSE=27,476\n",
    "- lr=0.01, momentum=0.3, dropout=0.1, epochs=300 --> RMSE=27,093\n",
    "\n",
    "Finally we experimented some more with dropout layers, learning rate and the amount of epochs:\n",
    "- lr=0.01, momentum=0.3, dropout=0.1, epochs=300, --> RMSE=27,260\n",
    "- lr=0.005, momentum=0.4, dropout=0.1, epochs=300, --> RMSE=26,811\n",
    "- lr=0.005, momentum=0.4, dropout=0.1, epochs=100, --> RMSE=28,000\n",
    "- lr=0.005, momentum=0.4, dropout=0.1, epochs=150, --> RMSE=28,229\n",
    "- lr=0.005, momentum=0.4, dropout=0.1, epochs=200, --> RMSE=26,992 \n",
    "- lr=0.005, momentum=0.8, dropout=0.1, epochs=200, --> RMSE=26,992 \n",
    "\n",
    "The final model is written in the cell below:"
   ]
  },
  {
   "cell_type": "code",
   "execution_count": 43,
   "id": "e9814ef1",
   "metadata": {},
   "outputs": [
    {
     "data": {
      "image/png": "[encoded data removed]",
      "text/plain": [
       "<Figure size 432x288 with 1 Axes>"
      ]
     },
     "metadata": {
      "needs_background": "light"
     },
     "output_type": "display_data"
    }
   ],
   "source": [
    "from keras.layers import LeakyReLU\n",
    "\n",
    "\n",
    "# neural network architecture\n",
    "model = Sequential()\n",
    "model.add(Dense(271, input_dim=271))\n",
    "model.add(LeakyReLU(alpha=0.1))\n",
    "\n",
    "model.add(Dropout(0.1))\n",
    "model.add(Dense(300))\n",
    "model.add(LeakyReLU(alpha=0.1))\n",
    "\n",
    "model.add(Dropout(0.1))\n",
    "model.add(Dense(150))\n",
    "model.add(LeakyReLU(alpha=0.1))\n",
    "\n",
    "model.add(Dropout(0.1))\n",
    "model.add(Dense(75))\n",
    "model.add(LeakyReLU(alpha=0.1))\n",
    "\n",
    "model.add(Dropout(0.1))\n",
    "model.add(Dense(30))\n",
    "model.add(LeakyReLU(alpha=0.1))\n",
    "\n",
    "model.add(Dense(1))\n",
    "\n",
    "# training the neural network\n",
    "optimizer = keras.optimizers.SGD(learning_rate=0.005, name='SGD', momentum = 0.8, clipnorm=1)\n",
    "model.compile(loss='mean_squared_error', optimizer= optimizer)\n",
    "\n",
    "\n",
    "history = model.fit(train_X, train_y, validation_data=(test_X, test_y), epochs = 200, verbose=0)\n",
    "\n",
    "\n",
    "# plot the training loss and the testing loss\n",
    "# model takes mean squared error, take root of mse\n",
    "for i in range(len(history.history['loss'])):\n",
    "    history.history['loss'][i] = np.sqrt(history.history['loss'][i])\n",
    "    history.history['val_loss'][i] = np.sqrt(history.history['val_loss'][i])\n",
    "plt.plot(history.history['loss'])\n",
    "plt.plot(history.history['val_loss'])\n",
    "plt.title('model loss')\n",
    "plt.ylabel('RMSE')\n",
    "plt.xlabel('epoch')\n",
    "plt.legend(['train', 'test'], loc='upper right')\n",
    "plt.show()\n"
   ]
  },
  {
   "cell_type": "code",
   "execution_count": 44,
   "id": "b54c8801",
   "metadata": {},
   "outputs": [
    {
     "name": "stdout",
     "output_type": "stream",
     "text": [
      "MAE: 17086.04476134418\n",
      "RMSE: 26941.80197638695\n",
      "RMSE_log: 0.31248010952882715\n"
     ]
    }
   ],
   "source": [
    "# calculating the error of our model\n",
    "# with the MAE\n",
    "predictions = model.predict(test_X)\n",
    "MAE = mean_absolute_error(test_y, predictions)\n",
    "print(\"MAE:\", MAE)\n",
    "\n",
    "# The RMSE\n",
    "RMSE = sqrt(mean_squared_error(test_y, predictions))\n",
    "print(\"RMSE:\", RMSE)\n",
    "\n",
    "# and the RMSE with both y values in the logarithm\n",
    "RMSE_log = sqrt(mean_absolute_error(np.log(test_y), np.log(predictions)))\n",
    "print(\"RMSE_log:\", RMSE_log)\n"
   ]
  },
  {
   "cell_type": "markdown",
   "id": "a9f70411",
   "metadata": {},
   "source": [
    "We also tried to implement another loss function instead of the Mean Squared Error (MSE) as the MSE can give a relatively high weight to large errors. That is why we implemented the mean absolute error (MAE) in the code below. "
   ]
  },
  {
   "cell_type": "markdown",
   "id": "ca3b4ecb",
   "metadata": {},
   "source": [
    "# Different loss function\n",
    "\n",
    "implementing the Mean Absolute Error (MAE). "
   ]
  },
  {
   "cell_type": "code",
   "execution_count": 29,
   "id": "13bd0649",
   "metadata": {},
   "outputs": [
    {
     "data": {
      "image/png": "[encoded data removed]",
      "text/plain": [
       "<Figure size 432x288 with 1 Axes>"
      ]
     },
     "metadata": {
      "needs_background": "light"
     },
     "output_type": "display_data"
    },
    {
     "name": "stdout",
     "output_type": "stream",
     "text": [
      "MAE: 16656.70079730308\n",
      "RMSE: 26443.552474141343\n",
      "RMSE_log: 0.30997760099814564\n"
     ]
    }
   ],
   "source": [
    "# neural network architecture\n",
    "model = Sequential()\n",
    "model.add(Dense(300, input_dim=271))\n",
    "model.add(LeakyReLU(alpha=0.1))\n",
    "\n",
    "model.add(Dropout(0.1))\n",
    "model.add(Dense(200))\n",
    "model.add(LeakyReLU(alpha=0.1))\n",
    "\n",
    "model.add(Dropout(0.1))\n",
    "model.add(Dense(150))\n",
    "model.add(LeakyReLU(alpha=0.1))\n",
    "\n",
    "model.add(Dropout(0.1))\n",
    "model.add(Dense(75))\n",
    "model.add(LeakyReLU(alpha=0.1))\n",
    "\n",
    "model.add(Dropout(0.1))\n",
    "model.add(Dense(30))\n",
    "model.add(LeakyReLU(alpha=0.1))\n",
    "\n",
    "model.add(Dense(1))\n",
    "\n",
    "# training the neural network\n",
    "optimizer = keras.optimizers.SGD(learning_rate=0.005, name='SGD', momentum = 0.8, clipnorm=1)\n",
    "model.compile(loss='mean_absolute_error', optimizer= optimizer)\n",
    "\n",
    "\n",
    "history = model.fit(train_X, train_y, validation_data=(test_X, test_y), epochs = 200, verbose=0)\n",
    "\n",
    "\n",
    "# plot the training loss and the testing loss\n",
    "# model takes mean squared error, take root of mse\n",
    "for i in range(len(history.history['loss'])):\n",
    "    history.history['loss'][i] = np.sqrt(history.history['loss'][i])\n",
    "    history.history['val_loss'][i] = np.sqrt(history.history['val_loss'][i])\n",
    "plt.plot(history.history['loss'])\n",
    "plt.plot(history.history['val_loss'])\n",
    "plt.title('model loss')\n",
    "plt.ylabel('RMSE')\n",
    "plt.xlabel('epoch')\n",
    "plt.legend(['train', 'test'], loc='upper right')\n",
    "plt.show()\n",
    "\n",
    "# calculating the error of our model\n",
    "# with the MAE\n",
    "predictions = model.predict(test_X)\n",
    "MAE = mean_absolute_error(test_y, predictions)\n",
    "print(\"MAE:\", MAE)\n",
    "\n",
    "# The RMSE\n",
    "RMSE = sqrt(mean_squared_error(test_y, predictions))\n",
    "print(\"RMSE:\", RMSE)\n",
    "\n",
    "# and the RMSE with both y values in the logarithm\n",
    "RMSE_log = sqrt(mean_absolute_error(np.log(test_y), np.log(predictions)))\n",
    "print(\"RMSE_log:\", RMSE_log)"
   ]
  },
  {
   "cell_type": "markdown",
   "id": "c663dd19",
   "metadata": {},
   "source": [
    "We decided to not try to improve the model above by changing the parameters. Instead we aimed to try changing the input data by choosing a different amount of feaures. Till so far, we implemented all 271 features while it is possible not all those features contribute to the accuracy of our model. "
   ]
  },
  {
   "cell_type": "markdown",
   "id": "29f19816",
   "metadata": {},
   "source": [
    "### Best features\n",
    "\n",
    "We started with the best 20 features, which means these features have the top 20 highest correlation with the sales prices.\n",
    "\n",
    "In the cell below a subset of the data is created with only 20 features. "
   ]
  },
  {
   "cell_type": "code",
   "execution_count": 13,
   "id": "0d96e8a1",
   "metadata": {},
   "outputs": [],
   "source": [
    "def select_correlated_features(X_train, y_train, no_features):\n",
    "    \n",
    "    '''This function selects x features (=no_features) from X_train which are most correlated\n",
    "    with the SalePrice (y_train) and returns this subset of X_train.'''\n",
    "    \n",
    "    # Determine correlations of features with the sale price in descending order\n",
    "    correlations = X_train.corrwith(y_train).sort_values(ascending=False)\n",
    "    \n",
    "    # Create lists of features with the x highest correlations with the SalePrice\n",
    "    top_cor = list(correlations.head(no_features).index.values)\n",
    "\n",
    "    # Only remain features in df which are in that list\n",
    "    X_train_subset = X_train[X_train.columns.intersection(top_cor)]\n",
    "    \n",
    "    return X_train_subset\n",
    "\n",
    "# create subset of the data with 20 best features\n",
    "X_train_subset = select_correlated_features(X_train, y_train, 20)\n",
    "\n",
    "# split the data in test and train\n",
    "train_X, test_X, train_y, test_y = train_test_split(X_train_subset, y_train, test_size=0.3, random_state=42)\n",
    "\n",
    "# normalize the data\n",
    "scaler = StandardScaler()\n",
    "train_X = scaler.fit_transform(train_X)\n",
    "test_X = scaler.transform(test_X)\n"
   ]
  },
  {
   "cell_type": "markdown",
   "id": "79489b9a",
   "metadata": {},
   "source": [
    "#### Neural network architecture\n",
    "\n",
    "We started again with a simple neural net and adjusted the epochs and learningrate a bit: \n",
    "- Adam optimizer, ReLU, lr=0.1, 2 hidden layer, epochs=200 --> RMSE=33478\n",
    "- Adam optimizer, ReLU, lr=0.01, 2 hidden layer, epochs=200 --> RMSE=32,826\n",
    "- Adam optimizer, ReLU, lr=0.01, 2 hidden layer, epochs=300 --> RMSE=31,537\n",
    "\n",
    "The model seemed slightly underfit so we added another hidden layer:\n",
    "- Adam optimizer, ReLU, lr=0.01, 3 hidden layer, epochs=200 --> RMSE=32,586\n",
    "\n",
    "Then we implemented Leaky ReLU as activation function\n",
    "- Adam optimizer, LeakyReLU, lr=0.01, 2 hidden layer, epochs=200 --> RMSE=31,117\n",
    "\n",
    "We added another hidden layer as the model was stil underfit:\n",
    "- Adam optimizer, LeakyReLU, lr=0.01, 4 hidden layer, epochs=200 --> RMSE=34,571\n",
    "\n",
    "We decided a hidden layer less worked so we deleted 1 hidden layer and deleted 1 dropout layer 10%:\n",
    "- Adam optimizer, LeakyReLU, lr=0.01, 3 hidden layer, epochs=200 --> RMSE=32,631\n",
    "\n",
    "The we changed the optimizer in SGD:\n",
    "- SDG. lr=0.01, LeakyReLU, 4 hidden layers, epochs=200 --> RMSE=27,606\n",
    "- SDG, lr=0.01, LeakyReLU, 4 hidden layers, epochs=200, momentum=0.1 --> RMSE=27,718\n",
    "\n",
    "Overall the best model with 20 features resulted in:\n",
    "- SGD, lr=0.01, 5 hidden layers, epochs=200, momentum=0.1, clipnorm=0.9 --> RMSE=27,681"
   ]
  },
  {
   "cell_type": "code",
   "execution_count": 15,
   "id": "7b15b8d9",
   "metadata": {},
   "outputs": [
    {
     "data": {
      "image/png": "[encoded data removed]",
      "text/plain": [
       "<Figure size 432x288 with 1 Axes>"
      ]
     },
     "metadata": {
      "needs_background": "light"
     },
     "output_type": "display_data"
    },
    {
     "name": "stdout",
     "output_type": "stream",
     "text": [
      "MAE: 18667.309610445205\n",
      "RMSE: 27591.015187435758\n",
      "RMSE_log: 0.32811880146336464\n"
     ]
    }
   ],
   "source": [
    "# neural network architecture\n",
    "model = Sequential()\n",
    "model.add(Dense(20, input_dim=20))\n",
    "model.add(LeakyReLU(alpha=0.1))\n",
    "\n",
    "# model.add(Dropout(0.1))\n",
    "model.add(Dense(40))\n",
    "model.add(LeakyReLU(alpha=0.1))\n",
    "\n",
    "# model.add(Dropout(0.3))\n",
    "model.add(Dense(30))\n",
    "model.add(LeakyReLU(alpha=0.1))\n",
    "\n",
    "# model.add(Dropout(0.3))\n",
    "model.add(Dense(15))\n",
    "model.add(LeakyReLU(alpha=0.1))\n",
    "\n",
    "# model.add(Dropout(0.3))\n",
    "model.add(Dense(5))\n",
    "model.add(LeakyReLU(alpha=0.1))\n",
    "\n",
    "model.add(Dense(1))\n",
    "\n",
    "# training the neural network\n",
    "optimizer = keras.optimizers.SGD(learning_rate=0.01, name='SGD', momentum = 0.1, clipnorm=0.9)\n",
    "# optimizer = keras.optimizers.Adam(lr=0.01)\n",
    "model.compile(loss='mean_squared_error', optimizer= optimizer)\n",
    "\n",
    "history = model.fit(train_X, train_y, validation_data=(test_X, test_y), epochs = 300, verbose=0)\n",
    "\n",
    "# plot the training loss and the testing loss\n",
    "# model takes mean squared error, take root of mse\n",
    "for i in range(len(history.history['loss'])):\n",
    "    history.history['loss'][i] = np.sqrt(history.history['loss'][i])\n",
    "    history.history['val_loss'][i] = np.sqrt(history.history['val_loss'][i])\n",
    "plt.plot(history.history['loss'])\n",
    "plt.plot(history.history['val_loss'])\n",
    "plt.title('model loss')\n",
    "plt.ylabel('RMSE')\n",
    "plt.xlabel('epoch')\n",
    "plt.legend(['train', 'test'], loc='upper right')\n",
    "plt.show()\n",
    "\n",
    "\n",
    "# calculating the error of our model\n",
    "# with the MAE\n",
    "predictions = model.predict(test_X)\n",
    "MAE = mean_absolute_error(test_y, predictions)\n",
    "print(\"MAE:\", MAE)\n",
    "\n",
    "# The RMSE\n",
    "RMSE = sqrt(mean_squared_error(test_y, predictions))\n",
    "print(\"RMSE:\", RMSE)\n",
    "\n",
    "# and the RMSE with both y values in the logarithm\n",
    "RMSE_log = sqrt(mean_absolute_error(np.log(test_y), np.log(predictions)))\n",
    "print(\"RMSE_log:\", RMSE_log)"
   ]
  },
  {
   "cell_type": "markdown",
   "id": "19b38291",
   "metadata": {},
   "source": [
    "Choosing 20 features did not do out model justice, however, 20 was simply a guess. In the code below we wrote a code to choose the best amount of features for our model. "
   ]
  },
  {
   "cell_type": "markdown",
   "id": "41a10fdb",
   "metadata": {},
   "source": [
    "## Choose the best amount of features \n",
    "\n",
    "The code below is intended to choose the best amount of features in our neural network. the RMSE will be calculated for every model with a different number of features. The code is however to computational expensive for running it here. Therefore, the code is running in the Google Colab GPU. \n",
    "\n",
    "We started with a neural network with 3 hidden layers, Adam optimizer and 100 epochs. "
   ]
  },
  {
   "cell_type": "code",
   "execution_count": 16,
   "id": "23b32e03",
   "metadata": {
    "scrolled": true
   },
   "outputs": [
    {
     "ename": "KeyboardInterrupt",
     "evalue": "",
     "output_type": "error",
     "traceback": [
      "\u001b[1;31m---------------------------------------------------------------------------\u001b[0m",
      "\u001b[1;31mKeyboardInterrupt\u001b[0m                         Traceback (most recent call last)",
      "\u001b[1;32m~\\AppData\\Local\\Temp/ipykernel_1960/1272825371.py\u001b[0m in \u001b[0;36m<module>\u001b[1;34m\u001b[0m\n\u001b[0;32m     42\u001b[0m         \u001b[1;31m# training the neural network\u001b[0m\u001b[1;33m\u001b[0m\u001b[1;33m\u001b[0m\u001b[1;33m\u001b[0m\u001b[0m\n\u001b[0;32m     43\u001b[0m         \u001b[0mmodel\u001b[0m\u001b[1;33m.\u001b[0m\u001b[0mcompile\u001b[0m\u001b[1;33m(\u001b[0m\u001b[0mloss\u001b[0m\u001b[1;33m=\u001b[0m\u001b[1;34m'mean_squared_error'\u001b[0m\u001b[1;33m,\u001b[0m \u001b[0moptimizer\u001b[0m \u001b[1;33m=\u001b[0m \u001b[1;34m'adam'\u001b[0m\u001b[1;33m)\u001b[0m\u001b[1;33m\u001b[0m\u001b[1;33m\u001b[0m\u001b[0m\n\u001b[1;32m---> 44\u001b[1;33m         \u001b[0mmodel\u001b[0m\u001b[1;33m.\u001b[0m\u001b[0mfit\u001b[0m\u001b[1;33m(\u001b[0m\u001b[0mtrain_X\u001b[0m\u001b[1;33m,\u001b[0m \u001b[0mtrain_y\u001b[0m\u001b[1;33m,\u001b[0m \u001b[0mvalidation_data\u001b[0m\u001b[1;33m=\u001b[0m\u001b[1;33m(\u001b[0m\u001b[0mtest_X\u001b[0m\u001b[1;33m,\u001b[0m \u001b[0mtest_y\u001b[0m\u001b[1;33m)\u001b[0m\u001b[1;33m,\u001b[0m \u001b[0mepochs\u001b[0m \u001b[1;33m=\u001b[0m \u001b[1;36m100\u001b[0m\u001b[1;33m,\u001b[0m \u001b[0mverbose\u001b[0m\u001b[1;33m=\u001b[0m\u001b[1;36m0\u001b[0m\u001b[1;33m)\u001b[0m\u001b[1;33m\u001b[0m\u001b[1;33m\u001b[0m\u001b[0m\n\u001b[0m\u001b[0;32m     45\u001b[0m \u001b[1;33m\u001b[0m\u001b[0m\n\u001b[0;32m     46\u001b[0m         \u001b[1;31m# calculate the predictions and the RMSE:\u001b[0m\u001b[1;33m\u001b[0m\u001b[1;33m\u001b[0m\u001b[1;33m\u001b[0m\u001b[0m\n",
      "\u001b[1;32m~\\anaconda3\\envs\\progLab\\lib\\site-packages\\keras\\engine\\training.py\u001b[0m in \u001b[0;36mfit\u001b[1;34m(self, x, y, batch_size, epochs, verbose, callbacks, validation_split, validation_data, shuffle, class_weight, sample_weight, initial_epoch, steps_per_epoch, validation_steps, validation_freq, max_queue_size, workers, use_multiprocessing, **kwargs)\u001b[0m\n\u001b[0;32m   1211\u001b[0m         \u001b[1;32melse\u001b[0m\u001b[1;33m:\u001b[0m\u001b[1;33m\u001b[0m\u001b[1;33m\u001b[0m\u001b[0m\n\u001b[0;32m   1212\u001b[0m             \u001b[0mfit_inputs\u001b[0m \u001b[1;33m=\u001b[0m \u001b[0mx\u001b[0m \u001b[1;33m+\u001b[0m \u001b[0my\u001b[0m \u001b[1;33m+\u001b[0m \u001b[0msample_weights\u001b[0m\u001b[1;33m\u001b[0m\u001b[1;33m\u001b[0m\u001b[0m\n\u001b[1;32m-> 1213\u001b[1;33m         \u001b[0mself\u001b[0m\u001b[1;33m.\u001b[0m\u001b[0m_make_train_function\u001b[0m\u001b[1;33m(\u001b[0m\u001b[1;33m)\u001b[0m\u001b[1;33m\u001b[0m\u001b[1;33m\u001b[0m\u001b[0m\n\u001b[0m\u001b[0;32m   1214\u001b[0m         \u001b[0mfit_function\u001b[0m \u001b[1;33m=\u001b[0m \u001b[0mself\u001b[0m\u001b[1;33m.\u001b[0m\u001b[0mtrain_function\u001b[0m\u001b[1;33m\u001b[0m\u001b[1;33m\u001b[0m\u001b[0m\n\u001b[0;32m   1215\u001b[0m \u001b[1;33m\u001b[0m\u001b[0m\n",
      "\u001b[1;32m~\\anaconda3\\envs\\progLab\\lib\\site-packages\\keras\\engine\\training.py\u001b[0m in \u001b[0;36m_make_train_function\u001b[1;34m(self)\u001b[0m\n\u001b[0;32m    314\u001b[0m                     training_updates = self.optimizer.get_updates(\n\u001b[0;32m    315\u001b[0m                         \u001b[0mparams\u001b[0m\u001b[1;33m=\u001b[0m\u001b[0mself\u001b[0m\u001b[1;33m.\u001b[0m\u001b[0m_collected_trainable_weights\u001b[0m\u001b[1;33m,\u001b[0m\u001b[1;33m\u001b[0m\u001b[1;33m\u001b[0m\u001b[0m\n\u001b[1;32m--> 316\u001b[1;33m                         loss=self.total_loss)\n\u001b[0m\u001b[0;32m    317\u001b[0m                 \u001b[0mupdates\u001b[0m \u001b[1;33m=\u001b[0m \u001b[0mself\u001b[0m\u001b[1;33m.\u001b[0m\u001b[0mupdates\u001b[0m \u001b[1;33m+\u001b[0m \u001b[0mtraining_updates\u001b[0m\u001b[1;33m\u001b[0m\u001b[1;33m\u001b[0m\u001b[0m\n\u001b[0;32m    318\u001b[0m \u001b[1;33m\u001b[0m\u001b[0m\n",
      "\u001b[1;32m~\\anaconda3\\envs\\progLab\\lib\\site-packages\\keras\\legacy\\interfaces.py\u001b[0m in \u001b[0;36mwrapper\u001b[1;34m(*args, **kwargs)\u001b[0m\n\u001b[0;32m     89\u001b[0m                 warnings.warn('Update your `' + object_name + '` call to the ' +\n\u001b[0;32m     90\u001b[0m                               'Keras 2 API: ' + signature, stacklevel=2)\n\u001b[1;32m---> 91\u001b[1;33m             \u001b[1;32mreturn\u001b[0m \u001b[0mfunc\u001b[0m\u001b[1;33m(\u001b[0m\u001b[1;33m*\u001b[0m\u001b[0margs\u001b[0m\u001b[1;33m,\u001b[0m \u001b[1;33m**\u001b[0m\u001b[0mkwargs\u001b[0m\u001b[1;33m)\u001b[0m\u001b[1;33m\u001b[0m\u001b[1;33m\u001b[0m\u001b[0m\n\u001b[0m\u001b[0;32m     92\u001b[0m         \u001b[0mwrapper\u001b[0m\u001b[1;33m.\u001b[0m\u001b[0m_original_function\u001b[0m \u001b[1;33m=\u001b[0m \u001b[0mfunc\u001b[0m\u001b[1;33m\u001b[0m\u001b[1;33m\u001b[0m\u001b[0m\n\u001b[0;32m     93\u001b[0m         \u001b[1;32mreturn\u001b[0m \u001b[0mwrapper\u001b[0m\u001b[1;33m\u001b[0m\u001b[1;33m\u001b[0m\u001b[0m\n",
      "\u001b[1;32m~\\anaconda3\\envs\\progLab\\lib\\site-packages\\keras\\backend\\tensorflow_backend.py\u001b[0m in \u001b[0;36msymbolic_fn_wrapper\u001b[1;34m(*args, **kwargs)\u001b[0m\n\u001b[0;32m     73\u001b[0m         \u001b[1;32mif\u001b[0m \u001b[0m_SYMBOLIC_SCOPE\u001b[0m\u001b[1;33m.\u001b[0m\u001b[0mvalue\u001b[0m\u001b[1;33m:\u001b[0m\u001b[1;33m\u001b[0m\u001b[1;33m\u001b[0m\u001b[0m\n\u001b[0;32m     74\u001b[0m             \u001b[1;32mwith\u001b[0m \u001b[0mget_graph\u001b[0m\u001b[1;33m(\u001b[0m\u001b[1;33m)\u001b[0m\u001b[1;33m.\u001b[0m\u001b[0mas_default\u001b[0m\u001b[1;33m(\u001b[0m\u001b[1;33m)\u001b[0m\u001b[1;33m:\u001b[0m\u001b[1;33m\u001b[0m\u001b[1;33m\u001b[0m\u001b[0m\n\u001b[1;32m---> 75\u001b[1;33m                 \u001b[1;32mreturn\u001b[0m \u001b[0mfunc\u001b[0m\u001b[1;33m(\u001b[0m\u001b[1;33m*\u001b[0m\u001b[0margs\u001b[0m\u001b[1;33m,\u001b[0m \u001b[1;33m**\u001b[0m\u001b[0mkwargs\u001b[0m\u001b[1;33m)\u001b[0m\u001b[1;33m\u001b[0m\u001b[1;33m\u001b[0m\u001b[0m\n\u001b[0m\u001b[0;32m     76\u001b[0m         \u001b[1;32melse\u001b[0m\u001b[1;33m:\u001b[0m\u001b[1;33m\u001b[0m\u001b[1;33m\u001b[0m\u001b[0m\n\u001b[0;32m     77\u001b[0m             \u001b[1;32mreturn\u001b[0m \u001b[0mfunc\u001b[0m\u001b[1;33m(\u001b[0m\u001b[1;33m*\u001b[0m\u001b[0margs\u001b[0m\u001b[1;33m,\u001b[0m \u001b[1;33m**\u001b[0m\u001b[0mkwargs\u001b[0m\u001b[1;33m)\u001b[0m\u001b[1;33m\u001b[0m\u001b[1;33m\u001b[0m\u001b[0m\n",
      "\u001b[1;32m~\\anaconda3\\envs\\progLab\\lib\\site-packages\\keras\\optimizers.py\u001b[0m in \u001b[0;36mget_updates\u001b[1;34m(self, loss, params)\u001b[0m\n\u001b[0;32m    535\u001b[0m         \u001b[1;32mfor\u001b[0m \u001b[0mp\u001b[0m\u001b[1;33m,\u001b[0m \u001b[0mg\u001b[0m\u001b[1;33m,\u001b[0m \u001b[0mm\u001b[0m\u001b[1;33m,\u001b[0m \u001b[0mv\u001b[0m\u001b[1;33m,\u001b[0m \u001b[0mvhat\u001b[0m \u001b[1;32min\u001b[0m \u001b[0mzip\u001b[0m\u001b[1;33m(\u001b[0m\u001b[0mparams\u001b[0m\u001b[1;33m,\u001b[0m \u001b[0mgrads\u001b[0m\u001b[1;33m,\u001b[0m \u001b[0mms\u001b[0m\u001b[1;33m,\u001b[0m \u001b[0mvs\u001b[0m\u001b[1;33m,\u001b[0m \u001b[0mvhats\u001b[0m\u001b[1;33m)\u001b[0m\u001b[1;33m:\u001b[0m\u001b[1;33m\u001b[0m\u001b[1;33m\u001b[0m\u001b[0m\n\u001b[0;32m    536\u001b[0m             \u001b[0mm_t\u001b[0m \u001b[1;33m=\u001b[0m \u001b[1;33m(\u001b[0m\u001b[0mself\u001b[0m\u001b[1;33m.\u001b[0m\u001b[0mbeta_1\u001b[0m \u001b[1;33m*\u001b[0m \u001b[0mm\u001b[0m\u001b[1;33m)\u001b[0m \u001b[1;33m+\u001b[0m \u001b[1;33m(\u001b[0m\u001b[1;36m1.\u001b[0m \u001b[1;33m-\u001b[0m \u001b[0mself\u001b[0m\u001b[1;33m.\u001b[0m\u001b[0mbeta_1\u001b[0m\u001b[1;33m)\u001b[0m \u001b[1;33m*\u001b[0m \u001b[0mg\u001b[0m\u001b[1;33m\u001b[0m\u001b[1;33m\u001b[0m\u001b[0m\n\u001b[1;32m--> 537\u001b[1;33m             \u001b[0mv_t\u001b[0m \u001b[1;33m=\u001b[0m \u001b[1;33m(\u001b[0m\u001b[0mself\u001b[0m\u001b[1;33m.\u001b[0m\u001b[0mbeta_2\u001b[0m \u001b[1;33m*\u001b[0m \u001b[0mv\u001b[0m\u001b[1;33m)\u001b[0m \u001b[1;33m+\u001b[0m \u001b[1;33m(\u001b[0m\u001b[1;36m1.\u001b[0m \u001b[1;33m-\u001b[0m \u001b[0mself\u001b[0m\u001b[1;33m.\u001b[0m\u001b[0mbeta_2\u001b[0m\u001b[1;33m)\u001b[0m \u001b[1;33m*\u001b[0m \u001b[0mK\u001b[0m\u001b[1;33m.\u001b[0m\u001b[0msquare\u001b[0m\u001b[1;33m(\u001b[0m\u001b[0mg\u001b[0m\u001b[1;33m)\u001b[0m\u001b[1;33m\u001b[0m\u001b[1;33m\u001b[0m\u001b[0m\n\u001b[0m\u001b[0;32m    538\u001b[0m             \u001b[1;32mif\u001b[0m \u001b[0mself\u001b[0m\u001b[1;33m.\u001b[0m\u001b[0mamsgrad\u001b[0m\u001b[1;33m:\u001b[0m\u001b[1;33m\u001b[0m\u001b[1;33m\u001b[0m\u001b[0m\n\u001b[0;32m    539\u001b[0m                 \u001b[0mvhat_t\u001b[0m \u001b[1;33m=\u001b[0m \u001b[0mK\u001b[0m\u001b[1;33m.\u001b[0m\u001b[0mmaximum\u001b[0m\u001b[1;33m(\u001b[0m\u001b[0mvhat\u001b[0m\u001b[1;33m,\u001b[0m \u001b[0mv_t\u001b[0m\u001b[1;33m)\u001b[0m\u001b[1;33m\u001b[0m\u001b[1;33m\u001b[0m\u001b[0m\n",
      "\u001b[1;32m~\\anaconda3\\envs\\progLab\\lib\\site-packages\\tensorflow_core\\python\\ops\\variables.py\u001b[0m in \u001b[0;36m_run_op\u001b[1;34m(a, *args, **kwargs)\u001b[0m\n\u001b[0;32m   1080\u001b[0m     \u001b[1;32mdef\u001b[0m \u001b[0m_run_op\u001b[0m\u001b[1;33m(\u001b[0m\u001b[0ma\u001b[0m\u001b[1;33m,\u001b[0m \u001b[1;33m*\u001b[0m\u001b[0margs\u001b[0m\u001b[1;33m,\u001b[0m \u001b[1;33m**\u001b[0m\u001b[0mkwargs\u001b[0m\u001b[1;33m)\u001b[0m\u001b[1;33m:\u001b[0m\u001b[1;33m\u001b[0m\u001b[1;33m\u001b[0m\u001b[0m\n\u001b[0;32m   1081\u001b[0m       \u001b[1;31m# pylint: disable=protected-access\u001b[0m\u001b[1;33m\u001b[0m\u001b[1;33m\u001b[0m\u001b[1;33m\u001b[0m\u001b[0m\n\u001b[1;32m-> 1082\u001b[1;33m       \u001b[1;32mreturn\u001b[0m \u001b[0mtensor_oper\u001b[0m\u001b[1;33m(\u001b[0m\u001b[0ma\u001b[0m\u001b[1;33m.\u001b[0m\u001b[0mvalue\u001b[0m\u001b[1;33m(\u001b[0m\u001b[1;33m)\u001b[0m\u001b[1;33m,\u001b[0m \u001b[1;33m*\u001b[0m\u001b[0margs\u001b[0m\u001b[1;33m,\u001b[0m \u001b[1;33m**\u001b[0m\u001b[0mkwargs\u001b[0m\u001b[1;33m)\u001b[0m\u001b[1;33m\u001b[0m\u001b[1;33m\u001b[0m\u001b[0m\n\u001b[0m\u001b[0;32m   1083\u001b[0m \u001b[1;33m\u001b[0m\u001b[0m\n\u001b[0;32m   1084\u001b[0m     \u001b[0mfunctools\u001b[0m\u001b[1;33m.\u001b[0m\u001b[0mupdate_wrapper\u001b[0m\u001b[1;33m(\u001b[0m\u001b[0m_run_op\u001b[0m\u001b[1;33m,\u001b[0m \u001b[0mtensor_oper\u001b[0m\u001b[1;33m)\u001b[0m\u001b[1;33m\u001b[0m\u001b[1;33m\u001b[0m\u001b[0m\n",
      "\u001b[1;32m~\\anaconda3\\envs\\progLab\\lib\\site-packages\\tensorflow_core\\python\\ops\\resource_variable_ops.py\u001b[0m in \u001b[0;36mvalue\u001b[1;34m(self)\u001b[0m\n\u001b[0;32m    527\u001b[0m       \u001b[1;32mreturn\u001b[0m \u001b[0mself\u001b[0m\u001b[1;33m.\u001b[0m\u001b[0m_cached_value\u001b[0m\u001b[1;33m\u001b[0m\u001b[1;33m\u001b[0m\u001b[0m\n\u001b[0;32m    528\u001b[0m     \u001b[1;32mwith\u001b[0m \u001b[0mops\u001b[0m\u001b[1;33m.\u001b[0m\u001b[0mcolocate_with\u001b[0m\u001b[1;33m(\u001b[0m\u001b[1;32mNone\u001b[0m\u001b[1;33m,\u001b[0m \u001b[0mignore_existing\u001b[0m\u001b[1;33m=\u001b[0m\u001b[1;32mTrue\u001b[0m\u001b[1;33m)\u001b[0m\u001b[1;33m:\u001b[0m\u001b[1;33m\u001b[0m\u001b[1;33m\u001b[0m\u001b[0m\n\u001b[1;32m--> 529\u001b[1;33m       \u001b[1;32mreturn\u001b[0m \u001b[0mself\u001b[0m\u001b[1;33m.\u001b[0m\u001b[0m_read_variable_op\u001b[0m\u001b[1;33m(\u001b[0m\u001b[1;33m)\u001b[0m\u001b[1;33m\u001b[0m\u001b[1;33m\u001b[0m\u001b[0m\n\u001b[0m\u001b[0;32m    530\u001b[0m \u001b[1;33m\u001b[0m\u001b[0m\n\u001b[0;32m    531\u001b[0m   \u001b[1;32mdef\u001b[0m \u001b[0m_as_graph_element\u001b[0m\u001b[1;33m(\u001b[0m\u001b[0mself\u001b[0m\u001b[1;33m)\u001b[0m\u001b[1;33m:\u001b[0m\u001b[1;33m\u001b[0m\u001b[1;33m\u001b[0m\u001b[0m\n",
      "\u001b[1;32m~\\anaconda3\\envs\\progLab\\lib\\site-packages\\tensorflow_core\\python\\ops\\resource_variable_ops.py\u001b[0m in \u001b[0;36m_read_variable_op\u001b[1;34m(self)\u001b[0m\n\u001b[0;32m    611\u001b[0m     \u001b[0mvariable_accessed\u001b[0m\u001b[1;33m(\u001b[0m\u001b[0mself\u001b[0m\u001b[1;33m)\u001b[0m\u001b[1;33m\u001b[0m\u001b[1;33m\u001b[0m\u001b[0m\n\u001b[0;32m    612\u001b[0m     result = gen_resource_variable_ops.read_variable_op(self._handle,\n\u001b[1;32m--> 613\u001b[1;33m                                                         self._dtype)\n\u001b[0m\u001b[0;32m    614\u001b[0m     \u001b[0m_maybe_set_handle_data\u001b[0m\u001b[1;33m(\u001b[0m\u001b[0mself\u001b[0m\u001b[1;33m.\u001b[0m\u001b[0m_dtype\u001b[0m\u001b[1;33m,\u001b[0m \u001b[0mself\u001b[0m\u001b[1;33m.\u001b[0m\u001b[0m_handle\u001b[0m\u001b[1;33m,\u001b[0m \u001b[0mresult\u001b[0m\u001b[1;33m)\u001b[0m\u001b[1;33m\u001b[0m\u001b[1;33m\u001b[0m\u001b[0m\n\u001b[0;32m    615\u001b[0m \u001b[1;33m\u001b[0m\u001b[0m\n",
      "\u001b[1;32m~\\anaconda3\\envs\\progLab\\lib\\site-packages\\tensorflow_core\\python\\ops\\gen_resource_variable_ops.py\u001b[0m in \u001b[0;36mread_variable_op\u001b[1;34m(resource, dtype, name)\u001b[0m\n\u001b[0;32m    480\u001b[0m   \u001b[0mdtype\u001b[0m \u001b[1;33m=\u001b[0m \u001b[0m_execute\u001b[0m\u001b[1;33m.\u001b[0m\u001b[0mmake_type\u001b[0m\u001b[1;33m(\u001b[0m\u001b[0mdtype\u001b[0m\u001b[1;33m,\u001b[0m \u001b[1;34m\"dtype\"\u001b[0m\u001b[1;33m)\u001b[0m\u001b[1;33m\u001b[0m\u001b[1;33m\u001b[0m\u001b[0m\n\u001b[0;32m    481\u001b[0m   _, _, _op, _outputs = _op_def_library._apply_op_helper(\n\u001b[1;32m--> 482\u001b[1;33m         \"ReadVariableOp\", resource=resource, dtype=dtype, name=name)\n\u001b[0m\u001b[0;32m    483\u001b[0m   \u001b[0m_result\u001b[0m \u001b[1;33m=\u001b[0m \u001b[0m_outputs\u001b[0m\u001b[1;33m[\u001b[0m\u001b[1;33m:\u001b[0m\u001b[1;33m]\u001b[0m\u001b[1;33m\u001b[0m\u001b[1;33m\u001b[0m\u001b[0m\n\u001b[0;32m    484\u001b[0m   \u001b[1;32mif\u001b[0m \u001b[0m_execute\u001b[0m\u001b[1;33m.\u001b[0m\u001b[0mmust_record_gradient\u001b[0m\u001b[1;33m(\u001b[0m\u001b[1;33m)\u001b[0m\u001b[1;33m:\u001b[0m\u001b[1;33m\u001b[0m\u001b[1;33m\u001b[0m\u001b[0m\n",
      "\u001b[1;32m~\\anaconda3\\envs\\progLab\\lib\\site-packages\\tensorflow_core\\python\\framework\\op_def_library.py\u001b[0m in \u001b[0;36m_apply_op_helper\u001b[1;34m(op_type_name, name, **keywords)\u001b[0m\n\u001b[0;32m    740\u001b[0m       op = g._create_op_internal(op_type_name, inputs, dtypes=None,\n\u001b[0;32m    741\u001b[0m                                  \u001b[0mname\u001b[0m\u001b[1;33m=\u001b[0m\u001b[0mscope\u001b[0m\u001b[1;33m,\u001b[0m \u001b[0minput_types\u001b[0m\u001b[1;33m=\u001b[0m\u001b[0minput_types\u001b[0m\u001b[1;33m,\u001b[0m\u001b[1;33m\u001b[0m\u001b[1;33m\u001b[0m\u001b[0m\n\u001b[1;32m--> 742\u001b[1;33m                                  attrs=attr_protos, op_def=op_def)\n\u001b[0m\u001b[0;32m    743\u001b[0m \u001b[1;33m\u001b[0m\u001b[0m\n\u001b[0;32m    744\u001b[0m     \u001b[1;31m# `outputs` is returned as a separate return value so that the output\u001b[0m\u001b[1;33m\u001b[0m\u001b[1;33m\u001b[0m\u001b[1;33m\u001b[0m\u001b[0m\n",
      "\u001b[1;32m~\\anaconda3\\envs\\progLab\\lib\\site-packages\\tensorflow_core\\python\\framework\\func_graph.py\u001b[0m in \u001b[0;36m_create_op_internal\u001b[1;34m(self, op_type, inputs, dtypes, input_types, name, attrs, op_def, compute_device)\u001b[0m\n\u001b[0;32m    593\u001b[0m     return super(FuncGraph, self)._create_op_internal(  # pylint: disable=protected-access\n\u001b[0;32m    594\u001b[0m         \u001b[0mop_type\u001b[0m\u001b[1;33m,\u001b[0m \u001b[0minputs\u001b[0m\u001b[1;33m,\u001b[0m \u001b[0mdtypes\u001b[0m\u001b[1;33m,\u001b[0m \u001b[0minput_types\u001b[0m\u001b[1;33m,\u001b[0m \u001b[0mname\u001b[0m\u001b[1;33m,\u001b[0m \u001b[0mattrs\u001b[0m\u001b[1;33m,\u001b[0m \u001b[0mop_def\u001b[0m\u001b[1;33m,\u001b[0m\u001b[1;33m\u001b[0m\u001b[1;33m\u001b[0m\u001b[0m\n\u001b[1;32m--> 595\u001b[1;33m         compute_device)\n\u001b[0m\u001b[0;32m    596\u001b[0m \u001b[1;33m\u001b[0m\u001b[0m\n\u001b[0;32m    597\u001b[0m   \u001b[1;32mdef\u001b[0m \u001b[0mcapture\u001b[0m\u001b[1;33m(\u001b[0m\u001b[0mself\u001b[0m\u001b[1;33m,\u001b[0m \u001b[0mtensor\u001b[0m\u001b[1;33m,\u001b[0m \u001b[0mname\u001b[0m\u001b[1;33m=\u001b[0m\u001b[1;32mNone\u001b[0m\u001b[1;33m,\u001b[0m \u001b[0mshape\u001b[0m\u001b[1;33m=\u001b[0m\u001b[1;32mNone\u001b[0m\u001b[1;33m)\u001b[0m\u001b[1;33m:\u001b[0m\u001b[1;33m\u001b[0m\u001b[1;33m\u001b[0m\u001b[0m\n",
      "\u001b[1;32m~\\anaconda3\\envs\\progLab\\lib\\site-packages\\tensorflow_core\\python\\framework\\ops.py\u001b[0m in \u001b[0;36m_create_op_internal\u001b[1;34m(self, op_type, inputs, dtypes, input_types, name, attrs, op_def, compute_device)\u001b[0m\n\u001b[0;32m   3320\u001b[0m           \u001b[0minput_types\u001b[0m\u001b[1;33m=\u001b[0m\u001b[0minput_types\u001b[0m\u001b[1;33m,\u001b[0m\u001b[1;33m\u001b[0m\u001b[1;33m\u001b[0m\u001b[0m\n\u001b[0;32m   3321\u001b[0m           \u001b[0moriginal_op\u001b[0m\u001b[1;33m=\u001b[0m\u001b[0mself\u001b[0m\u001b[1;33m.\u001b[0m\u001b[0m_default_original_op\u001b[0m\u001b[1;33m,\u001b[0m\u001b[1;33m\u001b[0m\u001b[1;33m\u001b[0m\u001b[0m\n\u001b[1;32m-> 3322\u001b[1;33m           op_def=op_def)\n\u001b[0m\u001b[0;32m   3323\u001b[0m       \u001b[0mself\u001b[0m\u001b[1;33m.\u001b[0m\u001b[0m_create_op_helper\u001b[0m\u001b[1;33m(\u001b[0m\u001b[0mret\u001b[0m\u001b[1;33m,\u001b[0m \u001b[0mcompute_device\u001b[0m\u001b[1;33m=\u001b[0m\u001b[0mcompute_device\u001b[0m\u001b[1;33m)\u001b[0m\u001b[1;33m\u001b[0m\u001b[1;33m\u001b[0m\u001b[0m\n\u001b[0;32m   3324\u001b[0m     \u001b[1;32mreturn\u001b[0m \u001b[0mret\u001b[0m\u001b[1;33m\u001b[0m\u001b[1;33m\u001b[0m\u001b[0m\n",
      "\u001b[1;32m~\\anaconda3\\envs\\progLab\\lib\\site-packages\\tensorflow_core\\python\\framework\\ops.py\u001b[0m in \u001b[0;36m__init__\u001b[1;34m(self, node_def, g, inputs, output_types, control_inputs, input_types, original_op, op_def)\u001b[0m\n\u001b[0;32m   1784\u001b[0m           op_def, inputs, node_def.attr)\n\u001b[0;32m   1785\u001b[0m       self._c_op = _create_c_op(self._graph, node_def, grouped_inputs,\n\u001b[1;32m-> 1786\u001b[1;33m                                 control_input_ops)\n\u001b[0m\u001b[0;32m   1787\u001b[0m       \u001b[0mname\u001b[0m \u001b[1;33m=\u001b[0m \u001b[0mcompat\u001b[0m\u001b[1;33m.\u001b[0m\u001b[0mas_str\u001b[0m\u001b[1;33m(\u001b[0m\u001b[0mnode_def\u001b[0m\u001b[1;33m.\u001b[0m\u001b[0mname\u001b[0m\u001b[1;33m)\u001b[0m\u001b[1;33m\u001b[0m\u001b[1;33m\u001b[0m\u001b[0m\n\u001b[0;32m   1788\u001b[0m     \u001b[1;31m# pylint: enable=protected-access\u001b[0m\u001b[1;33m\u001b[0m\u001b[1;33m\u001b[0m\u001b[1;33m\u001b[0m\u001b[0m\n",
      "\u001b[1;32m~\\anaconda3\\envs\\progLab\\lib\\site-packages\\tensorflow_core\\python\\framework\\ops.py\u001b[0m in \u001b[0;36m_create_c_op\u001b[1;34m(graph, node_def, inputs, control_inputs)\u001b[0m\n\u001b[0;32m   1594\u001b[0m   \u001b[1;31m# pylint: disable=protected-access\u001b[0m\u001b[1;33m\u001b[0m\u001b[1;33m\u001b[0m\u001b[1;33m\u001b[0m\u001b[0m\n\u001b[0;32m   1595\u001b[0m   op_desc = c_api.TF_NewOperation(graph._c_graph, compat.as_str(node_def.op),\n\u001b[1;32m-> 1596\u001b[1;33m                                   compat.as_str(node_def.name))\n\u001b[0m\u001b[0;32m   1597\u001b[0m   \u001b[1;32mif\u001b[0m \u001b[0mnode_def\u001b[0m\u001b[1;33m.\u001b[0m\u001b[0mdevice\u001b[0m\u001b[1;33m:\u001b[0m\u001b[1;33m\u001b[0m\u001b[1;33m\u001b[0m\u001b[0m\n\u001b[0;32m   1598\u001b[0m     \u001b[0mc_api\u001b[0m\u001b[1;33m.\u001b[0m\u001b[0mTF_SetDevice\u001b[0m\u001b[1;33m(\u001b[0m\u001b[0mop_desc\u001b[0m\u001b[1;33m,\u001b[0m \u001b[0mcompat\u001b[0m\u001b[1;33m.\u001b[0m\u001b[0mas_str\u001b[0m\u001b[1;33m(\u001b[0m\u001b[0mnode_def\u001b[0m\u001b[1;33m.\u001b[0m\u001b[0mdevice\u001b[0m\u001b[1;33m)\u001b[0m\u001b[1;33m)\u001b[0m\u001b[1;33m\u001b[0m\u001b[1;33m\u001b[0m\u001b[0m\n",
      "\u001b[1;31mKeyboardInterrupt\u001b[0m: "
     ]
    }
   ],
   "source": [
    "# create empty lists to store the number of features and the average RMSE values \n",
    "n_features = []\n",
    "rmse_list = []\n",
    "\n",
    "# loop through ever number of features\n",
    "for i in range(1, 272):\n",
    "    \n",
    "    # save the number of the features in the empty list\n",
    "    n_features.append(i)\n",
    "    \n",
    "    # create a subset of the training data with that number of features\n",
    "    X_subset = select_correlated_features(X_train, y_train, i)\n",
    "    \n",
    "    avg_rmse = 0\n",
    "    \n",
    "    # let the model run the 10 times with the same amount of features and save the average RMSE\n",
    "    for j in range(1, 11):\n",
    "    \n",
    "        # split the data in test and train set\n",
    "        train_X, test_X, train_y, test_y = train_test_split(X_subset, y_train, test_size=0.3, random_state=42)\n",
    "        \n",
    "        # normalize the data\n",
    "        scaler = StandardScaler()\n",
    "        train_X = scaler.fit_transform(train_X)\n",
    "        test_X = scaler.transform(test_X)\n",
    "\n",
    "        # model architecture: start relatively simple\n",
    "        model = Sequential()\n",
    "        model.add(Dense(i, input_dim=i))\n",
    "        model.add(LeakyReLU(alpha=0.1))\n",
    "\n",
    "        model.add(Dropout(0.1))\n",
    "        model.add(Dense(50))\n",
    "        model.add(LeakyReLU(alpha=0.1))\n",
    "\n",
    "        model.add(Dropout(0.1))\n",
    "        model.add(Dense(30))\n",
    "        model.add(LeakyReLU(alpha=0.1))\n",
    "\n",
    "        model.add(Dense(1))\n",
    "\n",
    "        # training the neural network\n",
    "        model.compile(loss='mean_squared_error', optimizer = 'adam')\n",
    "        model.fit(train_X, train_y, validation_data=(test_X, test_y), epochs = 100, verbose=0)\n",
    "\n",
    "        # calculate the predictions and the RMSE:\n",
    "        predictions = model.predict(test_X)\n",
    "        RMSE = sqrt(mean_squared_error(test_y, predictions))\n",
    "        avg_rmse += RMSE\n",
    "    \n",
    "    # save the average RMSE to a list \n",
    "    avg_rmse = avg_rmse/10\n",
    "    rmse_list.append(avg_rmse)\n",
    "\n"
   ]
  },
  {
   "cell_type": "markdown",
   "id": "923d4612",
   "metadata": {},
   "source": [
    "The code written in the cell above was eventually to heavy to run for all the features also in the Google Colab. Therefore, this code was run separately in four runs and saved in an excel file manually. The list with all the number of features was also written by a for loop in the cell below. "
   ]
  },
  {
   "cell_type": "code",
   "execution_count": null,
   "id": "c4e75f8b",
   "metadata": {},
   "outputs": [],
   "source": [
    "# create the list of features \n",
    "n_features = []\n",
    "for i in range(1, 272):\n",
    "    n_features.append(i)\n",
    "\n",
    "# import the RMSE csv file list manually put together \n",
    "rmse_list = pd.read_csv(\"RMSElist.csv\")\n",
    "\n",
    "# find the lowest RMSE value\n",
    "min_rmse = rmse_list.min()\n",
    "\n",
    "# find the corresponding number of feature\n",
    "number_features = np.where(rmse_list==min_rmse)\n",
    "number_features = int(\"\".join(map(str, number_features[0])))\n",
    "print(f\"The number of features which resulted in the lowest RMSE is: {number_features}.\")\n",
    "\n",
    "# plot all the RMSE values versus the number of features for visualization of the process\n",
    "plt.plot(n_features, rmse_list, color=\"green\")\n",
    "plt.plot(number_features, min_rmse, \"o\", color=\"red\")\n",
    "plt.xlabel(\"Number of features\")\n",
    "plt.ylabel(\"Average RMSE\")\n",
    "plt.title(\"Average RMSE value per number of features\")\n",
    "plt.xlim(1, 271)\n",
    "plt.show()\n",
    "\n"
   ]
  },
  {
   "cell_type": "markdown",
   "id": "7aa6bca6",
   "metadata": {},
   "source": [
    "### Best amount of features implemented in our best neural network\n",
    "\n",
    "As seen in the cells above, our model seems to perform best on the 92 best features of the data set. Before we selected our features we had already created a model with the lowest RMSE till so far, so we decided to run this model again but then with only 92 features instead of 271. "
   ]
  },
  {
   "cell_type": "code",
   "execution_count": 31,
   "id": "063c7688",
   "metadata": {},
   "outputs": [],
   "source": [
    "def select_correlated_features(X_train, y_train, no_features):\n",
    "    \n",
    "    '''This function selects x features (=no_features) from X_train which are most correlated\n",
    "    with the SalePrice (y_train) and returns this subset of X_train.'''\n",
    "    \n",
    "    # Determine correlations of features with the sale price in descending order\n",
    "    correlations = X_train.corrwith(y_train).sort_values(ascending=False)\n",
    "    \n",
    "    # Create lists of features with the x highest correlations with the SalePrice\n",
    "    top_cor = list(correlations.head(no_features).index.values)\n",
    "\n",
    "    # Only remain features in df which are in that list\n",
    "    X_train_subset = X_train[X_train.columns.intersection(top_cor)]\n",
    "    \n",
    "    return X_train_subset\n",
    "\n",
    "# create the subset dataframe with 92 features\n",
    "X_train_subset = select_correlated_features(X_train, y_train, 92)\n",
    "\n",
    "# prepare the data\n",
    "train_X, test_X, train_y, test_y = train_test_split(X_train_subset, y_train, test_size=0.3, random_state=42)\n",
    "\n",
    "# normalize the data\n",
    "scaler = StandardScaler()\n",
    "train_X = scaler.fit_transform(train_X)\n",
    "test_X = scaler.transform(test_X)"
   ]
  },
  {
   "cell_type": "markdown",
   "id": "b7421e56",
   "metadata": {},
   "source": [
    "The best model with 92 features gave a RMSE of 25,540. We decided to tweak the parameters slightly. The final model is written in the cell below and the process to get there is listed at the end of the notebook."
   ]
  },
  {
   "cell_type": "code",
   "execution_count": 33,
   "id": "0cb9f269",
   "metadata": {},
   "outputs": [
    {
     "name": "stdout",
     "output_type": "stream",
     "text": [
      "Model: \"sequential_426\"\n",
      "_________________________________________________________________\n",
      "Layer (type)                 Output Shape              Param #   \n",
      "=================================================================\n",
      "dense_1706 (Dense)           (None, 200)               18600     \n",
      "_________________________________________________________________\n",
      "leaky_re_lu_1259 (LeakyReLU) (None, 200)               0         \n",
      "_________________________________________________________________\n",
      "dropout_842 (Dropout)        (None, 200)               0         \n",
      "_________________________________________________________________\n",
      "dense_1707 (Dense)           (None, 150)               30150     \n",
      "_________________________________________________________________\n",
      "leaky_re_lu_1260 (LeakyReLU) (None, 150)               0         \n",
      "_________________________________________________________________\n",
      "dropout_843 (Dropout)        (None, 150)               0         \n",
      "_________________________________________________________________\n",
      "dense_1708 (Dense)           (None, 100)               15100     \n",
      "_________________________________________________________________\n",
      "leaky_re_lu_1261 (LeakyReLU) (None, 100)               0         \n",
      "_________________________________________________________________\n",
      "dropout_844 (Dropout)        (None, 100)               0         \n",
      "_________________________________________________________________\n",
      "dense_1709 (Dense)           (None, 75)                7575      \n",
      "_________________________________________________________________\n",
      "leaky_re_lu_1262 (LeakyReLU) (None, 75)                0         \n",
      "_________________________________________________________________\n",
      "dense_1710 (Dense)           (None, 30)                2280      \n",
      "_________________________________________________________________\n",
      "leaky_re_lu_1263 (LeakyReLU) (None, 30)                0         \n",
      "_________________________________________________________________\n",
      "dense_1711 (Dense)           (None, 1)                 31        \n",
      "=================================================================\n",
      "Total params: 73,736\n",
      "Trainable params: 73,736\n",
      "Non-trainable params: 0\n",
      "_________________________________________________________________\n"
     ]
    },
    {
     "data": {
      "image/png": "[encoded data removed]",
      "text/plain": [
       "<Figure size 432x288 with 1 Axes>"
      ]
     },
     "metadata": {
      "needs_background": "light"
     },
     "output_type": "display_data"
    },
    {
     "name": "stdout",
     "output_type": "stream",
     "text": [
      "MAE: 16190.55512450057\n",
      "RMSE: 25091.210889918493\n",
      "RMSE_log: 0.30320171478112784\n"
     ]
    }
   ],
   "source": [
    "# neural network architecture\n",
    "model = Sequential()\n",
    "model.add(Dense(200, input_dim=92))\n",
    "model.add(LeakyReLU(alpha=0.1))\n",
    "\n",
    "model.add(Dropout(0.2))\n",
    "model.add(Dense(150))\n",
    "model.add(LeakyReLU(alpha=0.1))\n",
    "\n",
    "model.add(Dropout(0.1))\n",
    "model.add(Dense(100))\n",
    "model.add(LeakyReLU(alpha=0.1))\n",
    "\n",
    "model.add(Dropout(0.1))\n",
    "model.add(Dense(75))\n",
    "model.add(LeakyReLU(alpha=0.1))\n",
    "\n",
    "model.add(Dense(30))\n",
    "model.add(LeakyReLU(alpha=0.1))\n",
    "\n",
    "model.add(Dense(1))\n",
    "model.summary()\n",
    "\n",
    "# training the neural network\n",
    "optimizer = keras.optimizers.SGD(learning_rate=0.005, name='SGD', momentum = 0.8, clipnorm=1)\n",
    "model.compile(loss='mean_absolute_error', optimizer= optimizer)\n",
    "\n",
    "history = model.fit(train_X, train_y, validation_data=(test_X, test_y), epochs = 250, verbose=0)\n",
    "\n",
    "# plot the training loss and the testing loss\n",
    "# model takes mean squared error, take root of mse\n",
    "for i in range(len(history.history['loss'])):\n",
    "    history.history['loss'][i] = np.sqrt(history.history['loss'][i])\n",
    "    history.history['val_loss'][i] = np.sqrt(history.history['val_loss'][i])\n",
    "plt.plot(history.history['loss'])\n",
    "plt.plot(history.history['val_loss'])\n",
    "plt.title('model loss')\n",
    "plt.ylabel('RMSE')\n",
    "plt.xlabel('epoch')\n",
    "plt.legend(['train', 'test'], loc='upper right')\n",
    "plt.show()\n",
    "\n",
    "# calculating the error of our model\n",
    "# with the MAE\n",
    "predictions = model.predict(test_X)\n",
    "MAE = mean_absolute_error(test_y, predictions)\n",
    "print(\"MAE:\", MAE)\n",
    "\n",
    "# The RMSE\n",
    "RMSE = sqrt(mean_squared_error(test_y, predictions))\n",
    "print(\"RMSE:\", RMSE)\n",
    "\n",
    "# and the RMSE with both y values in the logarithm\n",
    "RMSE_log = sqrt(mean_absolute_error(np.log(test_y), np.log(predictions)))\n",
    "print(\"RMSE_log:\", RMSE_log)"
   ]
  },
  {
   "cell_type": "markdown",
   "id": "7b7f192c",
   "metadata": {},
   "source": [
    "Tweak parameters:\n",
    "\n",
    "1. We changed the amount of nodes between the hidden layers to get a more diamond shaped neural network: \n",
    "Layers: 92 input --> 150 --> 100 --> 75 --> 30 --> 1 output, which gave a RMSE of 24,800\n",
    "\n",
    "2. The model seemed after this change quite underfit so we trained the model for 250 epochs instead of 200 and removed the dropout layers. This resulted in an RMSE of 25,678 and a very overfit model. \n",
    "\n",
    "3. We increased the dropout layers again by 1 dropout of 10% after the first layers which resulted in an RMSE of 24,928. The model was still overfit.\n",
    "\n",
    "4. We added another dropout layer after the first hidden layer of 10% which resulted in an RMSE of 24,678 and the model was still slightly overfit. \n",
    "\n",
    "5. We changed the first dropout layer to 20% which resulted in a RMSE of 24,562, the model was still slightly overfit. \n",
    "\n",
    "6. We added another dropout layer after the second hidden layer of 10% which resulted in an RMSE of 24,484. \n",
    "\n",
    "We decided to leave the model at this stage "
   ]
  }
 ],
 "metadata": {
  "kernelspec": {
   "display_name": "Python 3 (ipykernel)",
   "language": "python",
   "name": "python3"
  },
  "language_info": {
   "codemirror_mode": {
    "name": "ipython",
    "version": 3
   },
   "file_extension": ".py",
   "mimetype": "text/x-python",
   "name": "python",
   "nbconvert_exporter": "python",
   "pygments_lexer": "ipython3",
   "version": "3.7.11"
  }
 },
 "nbformat": 4,
 "nbformat_minor": 5
}
