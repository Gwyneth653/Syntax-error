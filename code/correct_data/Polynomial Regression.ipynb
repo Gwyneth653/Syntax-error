{
 "cells": [
  {
   "cell_type": "markdown",
   "id": "5333f702",
   "metadata": {},
   "source": [
    "# Multivariate polynomial regression \n",
    "\n",
    "Because our linear regression model could predict house prices with negative sale prices, we decided to try polynomial regression. "
   ]
  },
  {
   "cell_type": "code",
   "execution_count": 125,
   "id": "a9aa7bc0",
   "metadata": {},
   "outputs": [],
   "source": [
    "import pandas as pd\n",
    "import numpy as np\n",
    "import seaborn as sns\n",
    "from sklearn.utils import shuffle\n",
    "\n",
    "# import the data \n",
    "train_data = pd.read_csv('train.csv')\n",
    "test_data = pd.read_csv('test.csv')\n",
    "test_data_submission = pd.read_csv('sample_submission.csv')"
   ]
  },
  {
   "cell_type": "markdown",
   "id": "dac3fc02",
   "metadata": {},
   "source": [
    "#### Visualize the train and test data"
   ]
  },
  {
   "cell_type": "code",
   "execution_count": 126,
   "id": "43c0e331",
   "metadata": {},
   "outputs": [
    {
     "name": "stderr",
     "output_type": "stream",
     "text": [
      "C:\\Users\\gwyne\\anaconda3\\envs\\progLab\\lib\\site-packages\\seaborn\\distributions.py:2619: FutureWarning: `distplot` is a deprecated function and will be removed in a future version. Please adapt your code to use either `displot` (a figure-level function with similar flexibility) or `histplot` (an axes-level function for histograms).\n",
      "  warnings.warn(msg, FutureWarning)\n",
      "C:\\Users\\gwyne\\anaconda3\\envs\\progLab\\lib\\site-packages\\seaborn\\distributions.py:2619: FutureWarning: `distplot` is a deprecated function and will be removed in a future version. Please adapt your code to use either `displot` (a figure-level function with similar flexibility) or `histplot` (an axes-level function for histograms).\n",
      "  warnings.warn(msg, FutureWarning)\n"
     ]
    },
    {
     "data": {
      "text/plain": [
       "<AxesSubplot:xlabel='SalePrice', ylabel='Density'>"
      ]
     },
     "execution_count": 126,
     "metadata": {},
     "output_type": "execute_result"
    },
    {
     "data": {
      "image/png": "[encoded data removed]",
      "text/plain": [
       "<Figure size 432x288 with 1 Axes>"
      ]
     },
     "metadata": {
      "needs_background": "light"
     },
     "output_type": "display_data"
    }
   ],
   "source": [
    "# select the Sale price from the training data = y \n",
    "y_train = train_data['SalePrice']\n",
    "\n",
    "# select the Sale price from the test data = y \n",
    "y_test = test_data_submission['SalePrice']\n",
    "\n",
    "# create histogram with seaborn of the Sale price (y) from train and test data\n",
    "sns.distplot(y_train)\n",
    "sns.distplot(y_test)"
   ]
  },
  {
   "cell_type": "markdown",
   "id": "836fe4af",
   "metadata": {},
   "source": [
    "## Prepare data\n",
    "\n",
    "Because it has been discovered that the test data is distributed very differently than the training data, we are going to redivide the data set. In addition, we will make some adjustments in the data set in order to make the data useful as input to the model.\n",
    "\n",
    "1. Merge train and test data set\n",
    "1. One hot encode the categorical data\n",
    "2. Clean data\n",
    "    - Replace missing numerical data with the mean value of that feature\n",
    "    - Replace missing categorical data with the most common category of that feature)\n",
    "3. Ramdomly devide merged data set into 70% train data and 30% test data"
   ]
  },
  {
   "cell_type": "code",
   "execution_count": 127,
   "id": "287abcd5",
   "metadata": {},
   "outputs": [],
   "source": [
    "from pandas.api.types import is_string_dtype\n",
    "from pandas.api.types import is_numeric_dtype\n",
    "\n",
    "def cleaning(dataframe):\n",
    "    \"\"\"\n",
    "    This function corrects any missing values in a pandas dataframe\n",
    "    returns the cleaned dataframe\n",
    "    \"\"\"\n",
    "    \n",
    "    # loop through all the features/columns in the training data\n",
    "    for column in dataframe:\n",
    "\n",
    "        # check whether the data in each column is numerical\n",
    "        if is_numeric_dtype(dataframe[column]):\n",
    "\n",
    "            # if the data is numerical compute the mean of the whole column values\n",
    "            column_mean = dataframe[column].mean()\n",
    "\n",
    "            # replace the missing values in this column with the mean of the column\n",
    "            dataframe[column] = dataframe[column].fillna(column_mean)\n",
    "\n",
    "        # also replace categorical missing values\n",
    "        # check this approach!\n",
    "        else:\n",
    "            dataframe[column] = dataframe[column].fillna(dataframe[column].value_counts().index[0])\n",
    "    \n",
    "    return dataframe"
   ]
  },
  {
   "cell_type": "markdown",
   "id": "d28d233d",
   "metadata": {},
   "source": [
    "#### Redivide the dataset"
   ]
  },
  {
   "cell_type": "code",
   "execution_count": 128,
   "id": "adf53c8c",
   "metadata": {},
   "outputs": [],
   "source": [
    "from sklearn.model_selection import train_test_split\n",
    "\n",
    "def shuffle_data(train_data_df, test_data_df, test_data_submission_df):\n",
    "    \"\"\"\n",
    "    Function to randomly shuffle the train and test data\n",
    "    \"\"\"\n",
    "    # drop the house Id, as this is already in the test_data_df\n",
    "    test_data_submission_df = test_data_submission_df.drop('Id', axis=1)\n",
    "\n",
    "    # add the saleprice (y) to the test data\n",
    "    test_data_df.insert(80, \"SalePrice\", test_data_submission_df, True)\n",
    "\n",
    "    # 'glue' the test data and train data together\n",
    "    merged_df = pd.concat([train_data_df, test_data_df], ignore_index=True)\n",
    "    \n",
    "    # clean data in dataframe\n",
    "    total_df = cleaning(merged_df)\n",
    "        \n",
    "    return total_df\n",
    "    \n",
    "# compute the total shuffled dataframe\n",
    "total_df = shuffle_data(train_data, test_data, test_data_submission)\n"
   ]
  },
  {
   "cell_type": "markdown",
   "id": "2b094017",
   "metadata": {},
   "source": [
    "# Garage cars\n",
    "\n",
    "As we did with the linear regression model, we created a polynomial model for the top 3 features which correlated the most with the sale price; GagarageCars, GrLivArea, OverallQual. "
   ]
  },
  {
   "cell_type": "code",
   "execution_count": 129,
   "id": "33e7cb03",
   "metadata": {},
   "outputs": [
    {
     "data": {
      "image/png": "[encoded data removed]",
      "text/plain": [
       "<Figure size 432x288 with 1 Axes>"
      ]
     },
     "metadata": {
      "needs_background": "light"
     },
     "output_type": "display_data"
    }
   ],
   "source": [
    "import matplotlib.pyplot as plt# select only GarageCars\n",
    "train_cars = total_df[[\"GarageCars\", \"SalePrice\"]].sort_values(by=[\"GarageCars\"])\n",
    "\n",
    "# select x and y, keep same shape\n",
    "X_train = train_cars.iloc[:, 0:1].values\n",
    "y_train = train_cars.iloc[:, 1:2].values\n",
    "\n",
    "# plot data\n",
    "plt.plot(X_train, y_train, \".\")\n",
    "plt.show()\n",
    "\n",
    "from sklearn.preprocessing import MinMaxScaler\n",
    "\n"
   ]
  },
  {
   "cell_type": "code",
   "execution_count": 130,
   "id": "eb5d4dd8",
   "metadata": {},
   "outputs": [
    {
     "name": "stdout",
     "output_type": "stream",
     "text": [
      "RMSE: 55183.38122692956\n",
      "RMSLE: 0.24902052632930183\n"
     ]
    }
   ],
   "source": [
    "from sklearn.linear_model import LinearRegression\n",
    "from sklearn.preprocessing import PolynomialFeatures\n",
    "from sklearn.metrics import mean_squared_error\n",
    "from sklearn.metrics import mean_squared_log_error\n",
    "from sklearn.model_selection import train_test_split\n",
    "\n",
    "# transform X to polynomial \n",
    "poly_train = PolynomialFeatures(degree=3)\n",
    "poly_train_features = poly_train.fit_transform(X_train)\n",
    "\n",
    "# split data in test and train\n",
    "X_train_cars, X_test_cars, y_train_cars, y_test_cars = train_test_split(poly_train_features, y_train, test_size=0.3, random_state=42)\n",
    "\n",
    "# create model\n",
    "cars_model = LinearRegression()\n",
    "\n",
    "# train the model\n",
    "cars_model.fit(X_train_cars, y_train_cars)\n",
    "\n",
    "# predict y \n",
    "y_cars_predicted = cars_model.predict(X_test_cars)\n",
    "\n",
    "# compute error of the model with RMSE and RMSLE\n",
    "cars_rmse = np.sqrt(mean_squared_error(y_test_cars, y_cars_predicted))\n",
    "print(\"RMSE:\", cars_rmse)\n",
    "\n",
    "cars_rmsle = np.sqrt(mean_squared_log_error(y_test_cars, y_cars_predicted))\n",
    "print(\"RMSLE:\", cars_rmsle)"
   ]
  },
  {
   "cell_type": "markdown",
   "id": "a13409f8",
   "metadata": {},
   "source": [
    "# Overall quality"
   ]
  },
  {
   "cell_type": "code",
   "execution_count": 131,
   "id": "a060d5e9",
   "metadata": {},
   "outputs": [
    {
     "data": {
      "image/png": "[encoded data removed]",
      "text/plain": [
       "<Figure size 432x288 with 1 Axes>"
      ]
     },
     "metadata": {
      "needs_background": "light"
     },
     "output_type": "display_data"
    }
   ],
   "source": [
    "# select only GarageCars\n",
    "train_qual = total_df[[\"OverallQual\", \"SalePrice\"]].sort_values(by=[\"OverallQual\"])\n",
    "\n",
    "# select x and y, keep same shape\n",
    "X_train = train_qual.iloc[:, 0:1].values\n",
    "y_train = train_qual.iloc[:, 1:2].values\n",
    "\n",
    "# plot data\n",
    "plt.plot(X_train, y_train, \".\")\n",
    "plt.show()"
   ]
  },
  {
   "cell_type": "code",
   "execution_count": 132,
   "id": "80403ffa",
   "metadata": {},
   "outputs": [
    {
     "name": "stdout",
     "output_type": "stream",
     "text": [
      "RMSE: 46087.867348838074\n",
      "RMSLE: 0.2260025846987532\n"
     ]
    }
   ],
   "source": [
    "# transform X in polynomial \n",
    "poly_train_qual = PolynomialFeatures(degree=3)\n",
    "poly_train_features_qual = poly_train_qual.fit_transform(X_train)\n",
    "\n",
    "# select test and train\n",
    "X_train_qual, X_test_qual, y_train_qual, y_test_qual = train_test_split(poly_train_features_qual, y_train, test_size=0.3, random_state=42)\n",
    "\n",
    "# compute the model\n",
    "qual_model = LinearRegression()\n",
    "\n",
    "# train the model\n",
    "qual_model.fit(X_train_qual, y_train_qual)\n",
    "\n",
    "# predict y \n",
    "y_qual_predicted = qual_model.predict(X_test_qual)\n",
    "\n",
    "# compute error of the model RMSE and RMSLE\n",
    "qual_rmse = np.sqrt(mean_squared_error(y_test_qual, y_qual_predicted))\n",
    "print(\"RMSE:\", qual_rmse)\n",
    "\n",
    "qual_rmsle = np.sqrt(mean_squared_log_error(y_test_qual, y_qual_predicted))\n",
    "print(\"RMSLE:\", qual_rmsle)"
   ]
  },
  {
   "cell_type": "markdown",
   "id": "a9409119",
   "metadata": {},
   "source": [
    "# GrLivArea"
   ]
  },
  {
   "cell_type": "code",
   "execution_count": 133,
   "id": "dcdd12cd",
   "metadata": {},
   "outputs": [
    {
     "data": {
      "image/png": "[encoded data removed]",
      "text/plain": [
       "<Figure size 432x288 with 1 Axes>"
      ]
     },
     "metadata": {
      "needs_background": "light"
     },
     "output_type": "display_data"
    }
   ],
   "source": [
    "# select only GrLivArea\n",
    "train_area = total_df[[\"GrLivArea\", \"SalePrice\"]].sort_values(by=[\"GrLivArea\"])\n",
    "\n",
    "# select x and y, keep same shape\n",
    "X_train = train_area.iloc[:, 0:1].values\n",
    "y_train = train_area.iloc[:, 1:2].values\n",
    "\n",
    "# plot data\n",
    "plt.plot(X_train, y_train, \".\")\n",
    "plt.show()\n"
   ]
  },
  {
   "cell_type": "code",
   "execution_count": 134,
   "id": "6b65aebe",
   "metadata": {},
   "outputs": [
    {
     "name": "stdout",
     "output_type": "stream",
     "text": [
      "RMSE: 50961.011641784775\n",
      "RMSLE: 0.23609160780755595\n"
     ]
    }
   ],
   "source": [
    "# transform X in polynomidal\n",
    "poly_train_area = PolynomialFeatures(degree=3)\n",
    "poly_train_features_area = poly_train_area.fit_transform(X_train)\n",
    "\n",
    "# split data in test and train\n",
    "X_train_area, X_test_area, y_train_area, y_test_area = train_test_split(poly_train_features_area, y_train, test_size=0.3, random_state=42)\n",
    "\n",
    "# create model\n",
    "area_model = LinearRegression()\n",
    "\n",
    "# train model\n",
    "area_model.fit(X_train_area, y_train_area)\n",
    "\n",
    "# predict y \n",
    "y_area_predicted = area_model.predict(X_test_area)\n",
    "\n",
    "# compute error of the model RMSE and RMSLE\n",
    "area_rmse = np.sqrt(mean_squared_error(y_test_area, y_area_predicted))\n",
    "print(\"RMSE:\", area_rmse)\n",
    "\n",
    "area_rmsle = np.sqrt(mean_squared_log_error(y_test_area, y_area_predicted))\n",
    "print(\"RMSLE:\", area_rmsle)"
   ]
  },
  {
   "cell_type": "markdown",
   "id": "1ed7d450",
   "metadata": {},
   "source": [
    "The RMSE of all three features were:\n",
    "- GrLivArea: RMSE = 50,961\n",
    "- OverallQual: RMSE = 46,088\n",
    "- GarageCars: RMSE = 55,183\n",
    "\n",
    "The RSME values were all between 40.000 and 50.000. These values are in a similar range as the univariate linear models."
   ]
  },
  {
   "cell_type": "markdown",
   "id": "2d35e3ae",
   "metadata": {},
   "source": [
    "# Multivariate polynomial regression \n",
    "\n",
    "The next step was to create a polynomial regression model for multiple features to see if adding more features to our model would improve the performance of the model. \n",
    "\n",
    "We created two models, the first one with the three features from above combined: GrLivArea, OverallQual and GarageCars."
   ]
  },
  {
   "cell_type": "code",
   "execution_count": 135,
   "id": "98938dca",
   "metadata": {},
   "outputs": [],
   "source": [
    "# select top 3 features\n",
    "top_3 = total_df[[\"GrLivArea\", \"OverallQual\", \"GarageCars\", \"SalePrice\"]]\n",
    "\n",
    "# split data in X and y\n",
    "X3, y3 = top_3[[\"GrLivArea\", \"OverallQual\", \"GarageCars\"]], top_3[\"SalePrice\"]"
   ]
  },
  {
   "cell_type": "code",
   "execution_count": 136,
   "id": "ec43f141",
   "metadata": {},
   "outputs": [],
   "source": [
    "# transform X into polynomial \n",
    "poly3 = PolynomialFeatures(degree=3)\n",
    "poly3_features = poly3.fit_transform(X3)\n",
    "\n",
    "# split data in test and train \n",
    "X3_train, X3_test, y3_train, y3_test = train_test_split(poly3_features, y3, test_size=0.3, random_state=42)\n",
    "\n",
    "# scale the training data\n",
    "scaler3 = MinMaxScaler()\n",
    "\n",
    "# scale the train data\n",
    "X3_train = scaler3.fit_transform(X3_train)\n",
    "\n",
    "# apply same scale on test data\n",
    "X3_test = scaler3.transform(X3_test)"
   ]
  },
  {
   "cell_type": "code",
   "execution_count": 137,
   "id": "81397215",
   "metadata": {},
   "outputs": [
    {
     "name": "stdout",
     "output_type": "stream",
     "text": [
      "RMSE: 44512.34284709058\n",
      "RMSLE: 0.2428517566015189\n"
     ]
    }
   ],
   "source": [
    "# create the model \n",
    "multi_poly3 = LinearRegression()\n",
    "\n",
    "# train the model\n",
    "multi_poly3.fit(X3_train, y3_train)\n",
    "\n",
    "# predict y \n",
    "y3_predicted = multi_poly3.predict(X3_test)\n",
    "\n",
    "# compute error of the model with RMSE and RMSLE\n",
    "poly3_rmse = np.sqrt(mean_squared_error(y3_test, y3_predicted))\n",
    "print(\"RMSE:\", poly3_rmse)\n",
    "\n",
    "poly3_rmsle = np.sqrt(mean_squared_log_error(y3_test, y3_predicted))\n",
    "print(\"RMSLE:\", poly3_rmsle)"
   ]
  },
  {
   "cell_type": "markdown",
   "id": "229e8ad3",
   "metadata": {},
   "source": [
    "Adding all three features to our polynomial model did not decrease the RMSE of our model"
   ]
  },
  {
   "cell_type": "markdown",
   "id": "60f9ecbb",
   "metadata": {},
   "source": [
    "# Polynomial regression: correct data\n",
    "\n",
    "In the previous model we decided to merge the given train and test data and redivide it in order to get a more normal distribution of the data. After a while, we realized that test data is not intended to be used in training a model. Contrary to our expectations, the submission data was not the sales price of the test data, but it is a benchmark submission from a linear regression on year and month of sale, lot square footage, and number of bedrooms (which still contains information).\n",
    "\n",
    "\n",
    "Therefore, the models created in the cells above are briefly repeated on the correct data. \n"
   ]
  },
  {
   "cell_type": "markdown",
   "id": "32f27298",
   "metadata": {},
   "source": [
    "### Univariate polynomial model: GarageCars"
   ]
  },
  {
   "cell_type": "code",
   "execution_count": 138,
   "id": "ab4c3432",
   "metadata": {},
   "outputs": [
    {
     "name": "stdout",
     "output_type": "stream",
     "text": [
      "RMSE: 57244.87133387005\n",
      "RMSLE: 0.2933545123711488\n"
     ]
    }
   ],
   "source": [
    "# import the train data\n",
    "train_data = pd.read_csv('train.csv')\n",
    "\n",
    "# clean data from missing values\n",
    "train_data = cleaning(train_data)\n",
    "\n",
    "# select only GarageCars\n",
    "train_cars = train_data[[\"GarageCars\", \"SalePrice\"]].sort_values(by=[\"GarageCars\"])\n",
    "\n",
    "# select x and y, keep same shape\n",
    "X_train = train_cars.iloc[:, 0:1].values\n",
    "y_train = train_cars.iloc[:, 1:2].values\n",
    "\n",
    "\n",
    "# compute the model\n",
    "# transform X to polynomial \n",
    "poly_train = PolynomialFeatures(degree=3)\n",
    "poly_train_features = poly_train.fit_transform(X_train)\n",
    "\n",
    "# split data in test and train\n",
    "X_train_cars, X_test_cars, y_train_cars, y_test_cars = train_test_split(poly_train_features, y_train, test_size=0.3, random_state=42)\n",
    "\n",
    "# create model\n",
    "cars_model = LinearRegression()\n",
    "\n",
    "# train the model\n",
    "cars_model.fit(X_train_cars, y_train_cars)\n",
    "\n",
    "# predict y \n",
    "y_cars_predicted = cars_model.predict(X_test_cars)\n",
    "\n",
    "# compute error of the model with RMSE and RMSLE\n",
    "cars_rmse = np.sqrt(mean_squared_error(y_test_cars, y_cars_predicted))\n",
    "print(\"RMSE:\", cars_rmse)\n",
    "\n",
    "cars_rmsle = np.sqrt(mean_squared_log_error(y_test_cars, y_cars_predicted))\n",
    "print(\"RMSLE:\", cars_rmsle)\n",
    "\n"
   ]
  },
  {
   "cell_type": "markdown",
   "id": "34c1f3a4",
   "metadata": {},
   "source": [
    "### Univariate polynomial model: OverallQual"
   ]
  },
  {
   "cell_type": "code",
   "execution_count": 142,
   "id": "d4afadc7",
   "metadata": {},
   "outputs": [
    {
     "name": "stdout",
     "output_type": "stream",
     "text": [
      "RMSE: 39145.500245969044\n",
      "RMSLE: 0.21695003749058472\n"
     ]
    }
   ],
   "source": [
    "# select only GarageCars\n",
    "train_qual = train_data[[\"OverallQual\", \"SalePrice\"]].sort_values(by=[\"OverallQual\"])\n",
    "\n",
    "# select x and y, keep same shape\n",
    "X_train = train_qual.iloc[:, 0:1].values\n",
    "y_train = train_qual.iloc[:, 1:2].values\n",
    "\n",
    "# transform X in polynomial \n",
    "poly_train_qual = PolynomialFeatures(degree=3)\n",
    "poly_train_features_qual = poly_train_qual.fit_transform(X_train)\n",
    "\n",
    "# select test and train\n",
    "X_train_qual, X_test_qual, y_train_qual, y_test_qual = train_test_split(poly_train_features_qual, y_train, test_size=0.3, random_state=42)\n",
    "\n",
    "# compute the model\n",
    "qual_model = LinearRegression()\n",
    "\n",
    "# train the model\n",
    "qual_model.fit(X_train_qual, y_train_qual)\n",
    "\n",
    "# predict y \n",
    "y_qual_predicted = qual_model.predict(X_test_qual)\n",
    "\n",
    "# compute error of the model RMSE and RMSLE\n",
    "qual_rmse = np.sqrt(mean_squared_error(y_test_qual, y_qual_predicted))\n",
    "print(\"RMSE:\", qual_rmse)\n",
    "\n",
    "qual_rmsle = np.sqrt(mean_squared_log_error(y_test_qual, y_qual_predicted))\n",
    "print(\"RMSLE:\", qual_rmsle)"
   ]
  },
  {
   "cell_type": "markdown",
   "id": "f27766b3",
   "metadata": {},
   "source": [
    "### Univariate polynomial model: GrLivArea"
   ]
  },
  {
   "cell_type": "code",
   "execution_count": 140,
   "id": "5f67f03a",
   "metadata": {},
   "outputs": [
    {
     "name": "stdout",
     "output_type": "stream",
     "text": [
      "RMSE: 52485.01336569829\n",
      "RMSLE: 0.26326723748316033\n"
     ]
    }
   ],
   "source": [
    "# select only GrLivArea\n",
    "train_area = train_data[[\"GrLivArea\", \"SalePrice\"]].sort_values(by=[\"GrLivArea\"])\n",
    "\n",
    "# select x and y, keep same shape\n",
    "X_train = train_area.iloc[:, 0:1].values\n",
    "y_train = train_area.iloc[:, 1:2].values\n",
    "\n",
    "# transform X in polynomidal\n",
    "poly_train_area = PolynomialFeatures(degree=3)\n",
    "poly_train_features_area = poly_train_area.fit_transform(X_train)\n",
    "\n",
    "# split data in test and train\n",
    "X_train_area, X_test_area, y_train_area, y_test_area = train_test_split(poly_train_features_area, y_train, test_size=0.3, random_state=42)\n",
    "\n",
    "# create model\n",
    "area_model = LinearRegression()\n",
    "\n",
    "# train model\n",
    "area_model.fit(X_train_area, y_train_area)\n",
    "\n",
    "# predict y \n",
    "y_area_predicted = area_model.predict(X_test_area)\n",
    "\n",
    "# compute error of the model RMSE and RMSLE\n",
    "area_rmse = np.sqrt(mean_squared_error(y_test_area, y_area_predicted))\n",
    "print(\"RMSE:\", area_rmse)\n",
    "\n",
    "area_rmsle = np.sqrt(mean_squared_log_error(y_test_area, y_area_predicted))\n",
    "print(\"RMSLE:\", area_rmsle)"
   ]
  },
  {
   "cell_type": "markdown",
   "id": "d58ed7ad",
   "metadata": {},
   "source": [
    "### Multivariate polynomial model: GarageCars, OverallQual & GrLivArea"
   ]
  },
  {
   "cell_type": "code",
   "execution_count": 141,
   "id": "2d552368",
   "metadata": {},
   "outputs": [
    {
     "name": "stdout",
     "output_type": "stream",
     "text": [
      "RMSE: 34838.577240752995\n",
      "RMSLE: 0.21878112227266272\n"
     ]
    }
   ],
   "source": [
    "# select top 3 features\n",
    "top_3 = train_data[[\"GrLivArea\", \"OverallQual\", \"GarageCars\", \"SalePrice\"]]\n",
    "\n",
    "# split data in X and y\n",
    "X3, y3 = train_data[[\"GrLivArea\", \"OverallQual\", \"GarageCars\"]], top_3[\"SalePrice\"]\n",
    "\n",
    "# transform X into polynomial \n",
    "poly3 = PolynomialFeatures(degree=3)\n",
    "poly3_features = poly3.fit_transform(X3)\n",
    "\n",
    "# split data in test and train \n",
    "X3_train, X3_test, y3_train, y3_test = train_test_split(poly3_features, y3, test_size=0.3, random_state=42)\n",
    "\n",
    "# scale the training data\n",
    "scaler3 = MinMaxScaler()\n",
    "\n",
    "# scale the train data\n",
    "X3_train = scaler3.fit_transform(X3_train)\n",
    "\n",
    "# apply same scale on test data\n",
    "X3_test = scaler3.transform(X3_test)\n",
    "\n",
    "# create the model \n",
    "multi_poly3 = LinearRegression()\n",
    "\n",
    "# train the model\n",
    "multi_poly3.fit(X3_train, y3_train)\n",
    "\n",
    "# predict y \n",
    "y3_predicted = multi_poly3.predict(X3_test)\n",
    "\n",
    "# compute error of the model with RMSE and RMSLE\n",
    "poly3_rmse = np.sqrt(mean_squared_error(y3_test, y3_predicted))\n",
    "print(\"RMSE:\", poly3_rmse)\n",
    "\n",
    "poly3_rmsle = np.sqrt(mean_squared_log_error(y3_test, y3_predicted))\n",
    "print(\"RMSLE:\", poly3_rmsle)"
   ]
  },
  {
   "cell_type": "markdown",
   "id": "f4d8d0fd",
   "metadata": {},
   "source": [
    "## Summary\n",
    "\n",
    "WRONG data univarita RMSE:\n",
    "- GarageCars: RMSE = 55,183\n",
    "- OverallQual: RMSE = 46,088\n",
    "- GrLivArea: RMSE = 50,961\n",
    "\n",
    "WRONG data multivariate RMSE:\n",
    "- GarageCars, OverallQual & GrLivArea: RMSE = 44,512\n",
    "\n",
    "\n",
    "\n",
    "CORRECT data univarita RMSE:\n",
    "- GarageCars: RMSE = 57,245\n",
    "- OverallQual: RMSE = 39,146\n",
    "- GrLivArea: RMSE = 52,485\n",
    "\n",
    "CORRECT data multivariate RMSE:\n",
    "- GarageCars, OverallQual & GrLivArea: RMSE = 34,839\n",
    "\n",
    "\n",
    "The RMSE values of the correct data seem slightly better, but still not as low as we would have hoped. Therefore, in the next step we will implement a completely different model; Random Regressor Trees. \n",
    "\n"
   ]
  },
  {
   "cell_type": "code",
   "execution_count": null,
   "id": "024048bc",
   "metadata": {},
   "outputs": [],
   "source": []
  }
 ],
 "metadata": {
  "kernelspec": {
   "display_name": "Python 3 (ipykernel)",
   "language": "python",
   "name": "python3"
  },
  "language_info": {
   "codemirror_mode": {
    "name": "ipython",
    "version": 3
   },
   "file_extension": ".py",
   "mimetype": "text/x-python",
   "name": "python",
   "nbconvert_exporter": "python",
   "pygments_lexer": "ipython3",
   "version": "3.7.11"
  }
 },
 "nbformat": 4,
 "nbformat_minor": 5
}
