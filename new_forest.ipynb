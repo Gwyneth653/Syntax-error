{
 "cells": [
  {
   "cell_type": "markdown",
   "id": "f4fb96f9",
   "metadata": {},
   "source": [
    "# Predicting House Prices\n",
    "\n",
    "Nowadays, housing prices are extremely on the rise due to the increase in demand. It is really hard to get your hands on a house and even if you do, it has become normal to pay much more than the original sales price of the house.\n",
    "\n",
    "When thinking about the sales price of a house, most people think this is a combination of the size of the lot, the amount of bedrooms and the location. However, many more unfamiliar features determine the sales price of a house. Given a dataset with 79 features, both a mixture of categorical and numerical features, we are going to estimate the value of houses in Ames Iowa. Creating a model which predicts housing prices will help to solve real world problems because housing prices can in this way be computed in a more rational way."
   ]
  },
  {
   "cell_type": "markdown",
   "id": "8499bcf1",
   "metadata": {},
   "source": [
    "## Import the necessary modules and libraries"
   ]
  },
  {
   "cell_type": "code",
   "execution_count": 1,
   "id": "13743a01",
   "metadata": {},
   "outputs": [],
   "source": [
    "import pandas as pd \n",
    "import seaborn as sns\n",
    "import matplotlib.pyplot as plt\n",
    "import numpy as np\n",
    "from math import sqrt\n",
    "from pandas.api.types import is_string_dtype\n",
    "from pandas.api.types import is_numeric_dtype\n",
    "from sklearn import preprocessing\n",
    "from sklearn.preprocessing import OneHotEncoder\n",
    "from sklearn.preprocessing import MinMaxScaler\n",
    "from sklearn.linear_model import LinearRegression\n",
    "from sklearn.metrics import mean_squared_error\n",
    "from sklearn.utils import shuffle\n",
    "from sklearn.model_selection import train_test_split\n",
    "from sklearn.ensemble import RandomForestRegressor\n",
    "from sklearn import tree\n",
    "from sklearn.tree import DecisionTreeRegressor\n"
   ]
  },
  {
   "cell_type": "markdown",
   "id": "ba1c546d",
   "metadata": {},
   "source": [
    "## Import data"
   ]
  },
  {
   "cell_type": "code",
   "execution_count": 2,
   "id": "e48cf275",
   "metadata": {},
   "outputs": [],
   "source": [
    "train_data = pd.read_csv('train.csv')"
   ]
  },
  {
   "cell_type": "markdown",
   "id": "69a19e3a",
   "metadata": {},
   "source": [
    "## Inspect data"
   ]
  },
  {
   "cell_type": "code",
   "execution_count": 3,
   "id": "ccfd8888",
   "metadata": {},
   "outputs": [],
   "source": [
    "# train_data.info()"
   ]
  },
  {
   "cell_type": "code",
   "execution_count": 4,
   "id": "ad328905",
   "metadata": {},
   "outputs": [],
   "source": [
    "def show_missing_info(df):\n",
    "    missing_info = df.isna().sum().reset_index(drop=False)\n",
    "    missing_info.columns = [\"column\",\"rows\"]\n",
    "    missing_info[\"missing_pct\"] = (missing_info[\"rows\"]/train_data.shape[0])*100\n",
    "    missing_info = missing_info[missing_info[\"rows\"]>0].sort_values(by=\"missing_pct\",ascending=False)\n",
    "    return missing_info\n",
    "\n",
    "# missing_df = show_missing_info(train_data)\n",
    "# print(missing_df)"
   ]
  },
  {
   "cell_type": "markdown",
   "id": "a558fbe2",
   "metadata": {},
   "source": [
    "As the first 5 features ('Alley','PoolQC','Fence','MiscFeature','FireplaceQu') include a lot of missing data, we decided to drop the columns of this features from the data set."
   ]
  },
  {
   "cell_type": "markdown",
   "id": "1bf0ae3a",
   "metadata": {},
   "source": [
    "## Visualize sale prices"
   ]
  },
  {
   "cell_type": "code",
   "execution_count": 5,
   "id": "64184387",
   "metadata": {},
   "outputs": [
    {
     "name": "stderr",
     "output_type": "stream",
     "text": [
      "/Users/miucciasmit/opt/anaconda3/envs/progLab/lib/python3.7/site-packages/seaborn/distributions.py:2619: FutureWarning: `distplot` is a deprecated function and will be removed in a future version. Please adapt your code to use either `displot` (a figure-level function with similar flexibility) or `histplot` (an axes-level function for histograms).\n",
      "  warnings.warn(msg, FutureWarning)\n"
     ]
    },
    {
     "data": {
      "text/plain": [
       "<AxesSubplot:xlabel='SalePrice', ylabel='Density'>"
      ]
     },
     "execution_count": 5,
     "metadata": {},
     "output_type": "execute_result"
    },
    {
     "data": {
      "image/png": "[encoded data removed]",
      "text/plain": [
       "<Figure size 432x288 with 1 Axes>"
      ]
     },
     "metadata": {
      "needs_background": "light"
     },
     "output_type": "display_data"
    }
   ],
   "source": [
    "# select the Sale price from the training data = y \n",
    "y_train = train_data['SalePrice']\n",
    "X_train = train_data.iloc[:, :-1]\n",
    "\n",
    "# create histogram with seaborn of the Sale price (y) from train and test data\n",
    "sns.distplot(y_train)"
   ]
  },
  {
   "cell_type": "markdown",
   "id": "ee0c83f0",
   "metadata": {},
   "source": [
    "## Prepare data\n",
    "\n",
    "Because it has been discovered that the test data is distributed very differently than the training data, we are going to redivide the data set. In addition, we will make some adjustments in the data set in order to make the data useful as input to the model.\n",
    "\n",
    "1. One hot encode the categorical data\n",
    "2. Clean data\n",
    "    - Replace missing numerical data with the mean value of that feature\n",
    "    - Replace missing categorical data with the most common category of that feature)\n",
    "3. Ramdomly devide merged data set into 70% train data and 30% test data? --> validation?"
   ]
  },
  {
   "cell_type": "code",
   "execution_count": 6,
   "id": "cdcbb04a",
   "metadata": {},
   "outputs": [],
   "source": [
    "def cleaning(dataframe):\n",
    "    \"\"\"\n",
    "    This function corrects any missing values in a pandas dataframe\n",
    "    returns the cleaned dataframe\n",
    "    \"\"\"\n",
    "    \n",
    "    # loop through all the features/columns in the training data\n",
    "    for column in dataframe:\n",
    "        \n",
    "        # if column is in top 5 of columns with most missing data, drop column\n",
    "        if column in ['Alley','PoolQC','Fence','MiscFeature','FireplaceQu']:\n",
    "            dataframe.drop[column]\n",
    "        \n",
    "        # check whether the data in each column is numerical\n",
    "        if is_numeric_dtype(dataframe[column]):\n",
    "\n",
    "            # if the data is numerical compute the mean of the whole column values\n",
    "            column_mean = dataframe[column].mean()\n",
    "\n",
    "            # replace the missing values in this column with the mean of the column\n",
    "            dataframe[column] = dataframe[column].fillna(column_mean)\n",
    "\n",
    "        # also replace categorical missing values\n",
    "        # check this approach!\n",
    "        else:\n",
    "            dataframe[column] = dataframe[column].fillna(dataframe[column].value_counts().index[0])\n",
    "    \n",
    "    return dataframe\n"
   ]
  },
  {
   "cell_type": "markdown",
   "id": "d9a84f3b",
   "metadata": {},
   "source": [
    "## One hot encode categorical data"
   ]
  },
  {
   "cell_type": "code",
   "execution_count": 7,
   "id": "1ed3d77a",
   "metadata": {},
   "outputs": [],
   "source": [
    "def one_hot_encoding(df):\n",
    "    \n",
    "    \"\"\"One hot encode categorical data from a dataframe.\"\"\"\n",
    "        \n",
    "    # select all categorical features\n",
    "    cat_data = df.select_dtypes(include=[object])\n",
    "    num_data = df.select_dtypes(exclude=[object])\n",
    "    \n",
    "    # create a LabelEncoder object and apply it to each categorical feature in the data\n",
    "    le = preprocessing.LabelEncoder()\n",
    "    cat_data_2 = cat_data.apply(le.fit_transform)\n",
    "    \n",
    "    # create a OneHotEncoder object and fit it to all categorical data\n",
    "    enc = preprocessing.OneHotEncoder()\n",
    "    enc.fit(cat_data_2)\n",
    "    onehotlabels = enc.transform(cat_data_2).toarray()\n",
    "    \n",
    "    # get all possible categories from the data\n",
    "    all_categories = enc.get_feature_names(cat_data_2.columns)\n",
    "\n",
    "    # create new dataframe with all possible categories as columns\n",
    "    cat_data = pd.DataFrame(onehotlabels, columns = all_categories)\n",
    "    \n",
    "    num_data = num_data.set_index('Id')\n",
    "    \n",
    "    # merge the numerical data with the one hot encoded categorical data again\n",
    "    result = pd.concat([cat_data, num_data], axis=1).reindex(cat_data.index)\n",
    "        \n",
    "    return result\n",
    "\n",
    "\n",
    "# one hot encode categorical data in dataframe\n",
    "X_train_cleaned = one_hot_encoding(X_train)   \n",
    "    \n",
    "# clean data in dataframe\n",
    "X_train_cleaned = cleaning(X_train_cleaned)"
   ]
  },
  {
   "cell_type": "markdown",
   "id": "78187c09",
   "metadata": {},
   "source": [
    "## Divide the dataset\n",
    "\n",
    "Train and validation set"
   ]
  },
  {
   "cell_type": "code",
   "execution_count": 8,
   "id": "90872102",
   "metadata": {},
   "outputs": [],
   "source": [
    "# split between test data and train data\n",
    "X_train, X_test, y_train, y_test = train_test_split(X_train_cleaned, y_train, test_size=0.2, random_state=42)\n",
    "\n"
   ]
  },
  {
   "cell_type": "markdown",
   "id": "5de812a1",
   "metadata": {},
   "source": [
    "## Regression tree\n",
    "\n",
    "* Have a look at possible parameters!!!! https://scikit-learn.org/stable/modules/generated/sklearn.tree.DecisionTreeRegressor.html"
   ]
  },
  {
   "cell_type": "code",
   "execution_count": 9,
   "id": "da0c8c2c",
   "metadata": {},
   "outputs": [
    {
     "name": "stdout",
     "output_type": "stream",
     "text": [
      "RMSE: 57539.603292080275\n"
     ]
    }
   ],
   "source": [
    "# Fit regression model\n",
    "regr_1 = DecisionTreeRegressor(max_depth=5, splitter=\"best\")\n",
    "regr_1.fit(X_train, y_train)\n",
    "\n",
    "# Predict\n",
    "y_pred1 = regr_1.predict(X_test)\n",
    "\n",
    "# Compute root mean squared error \n",
    "rmse = np.sqrt(mean_squared_error(y_pred1, y_test))\n",
    "print(\"RMSE:\", rmse)\n",
    "\n",
    "# Visualize the Decision Tree\n",
    "text_representation = tree.export_text(regr_1)\n",
    "# print(text_representation)\n"
   ]
  },
  {
   "cell_type": "markdown",
   "id": "f966ab48",
   "metadata": {},
   "source": [
    "### Determine the optimal max_depth"
   ]
  },
  {
   "cell_type": "code",
   "execution_count": 10,
   "id": "46b6d2f4",
   "metadata": {},
   "outputs": [
    {
     "name": "stdout",
     "output_type": "stream",
     "text": [
      "Optimal max_depth = 6\n",
      "Optimal RMSE = 55494.77510267733\n"
     ]
    },
    {
     "data": {
      "image/png": "[encoded data removed]",
      "text/plain": [
       "<Figure size 432x288 with 1 Axes>"
      ]
     },
     "metadata": {
      "needs_background": "light"
     },
     "output_type": "display_data"
    }
   ],
   "source": [
    "model = DecisionTreeRegressor()\n",
    "estimators = np.arange(1, 50)\n",
    "rmses = []\n",
    "optimal_rmse = float(\"inf\")\n",
    "optimal_max_depth = 0\n",
    "\n",
    "for n in estimators:\n",
    "    \n",
    "    # Fit regression model\n",
    "    model.set_params(max_depth=n)\n",
    "    model.fit(X_train, y_train)\n",
    "    \n",
    "    # Predict\n",
    "    y_pred = model.predict(X_test)\n",
    "    \n",
    "    # Compute root mean squared error \n",
    "    rmse = np.sqrt(mean_squared_error(y_pred, y_test))\n",
    "    rmses.append(rmse)\n",
    "    \n",
    "    if rmse < optimal_rmse:\n",
    "        optimal_rmse = rmse\n",
    "        optimal_max_depth = n\n",
    "        \n",
    "    \n",
    "plt.title(\"Effect of max_depth\")\n",
    "plt.xlabel(\"max_depth\")\n",
    "plt.ylabel(\"RMSE\")\n",
    "plt.plot(estimators, rmses)\n",
    "\n",
    "print(f\"Optimal max_depth =\", optimal_max_depth)\n",
    "print(f\"Optimal RMSE =\", optimal_rmse)\n"
   ]
  },
  {
   "cell_type": "markdown",
   "id": "61a90309",
   "metadata": {},
   "source": [
    "## Random forest regression"
   ]
  },
  {
   "cell_type": "code",
   "execution_count": 11,
   "id": "759b6c09",
   "metadata": {},
   "outputs": [
    {
     "name": "stdout",
     "output_type": "stream",
     "text": [
      "RMSE: 46611.972606783056\n"
     ]
    }
   ],
   "source": [
    "regressor = RandomForestRegressor(n_estimators=140, random_state=0)\n",
    "regressor.fit(X_train.values, y_train)\n",
    "\n",
    "y_pred = regressor.predict(X_test)\n",
    "\n",
    "# compute root mean squared error \n",
    "rmse = np.sqrt(mean_squared_error(y_pred, y_test))\n",
    "print(\"RMSE:\", rmse)\n"
   ]
  },
  {
   "cell_type": "markdown",
   "id": "b2bd02d8",
   "metadata": {},
   "source": [
    "### Determine the optimal number of estimators"
   ]
  },
  {
   "cell_type": "code",
   "execution_count": 12,
   "id": "5993418c",
   "metadata": {},
   "outputs": [
    {
     "name": "stdout",
     "output_type": "stream",
     "text": [
      "Optimal n_estimators = 10\n",
      "Optimal RMSE = 45007.414889207765\n"
     ]
    },
    {
     "data": {
      "image/png": "[encoded data removed]",
      "text/plain": [
       "<Figure size 432x288 with 1 Axes>"
      ]
     },
     "metadata": {
      "needs_background": "light"
     },
     "output_type": "display_data"
    }
   ],
   "source": [
    "model = RandomForestRegressor()\n",
    "estimators = np.arange(10, 200, 10)\n",
    "rmses = []\n",
    "optimal_rmse = float(\"inf\")\n",
    "optimal_n_estimators = 0\n",
    "\n",
    "for n in estimators:\n",
    "    \n",
    "    # Fit regression model\n",
    "    model.set_params(n_estimators=n)\n",
    "    model.fit(X_train, y_train)\n",
    "    \n",
    "    # Predict\n",
    "    y_pred = model.predict(X_test)\n",
    "    \n",
    "    # Compute root mean squared error \n",
    "    rmse = np.sqrt(mean_squared_error(y_pred, y_test))\n",
    "    rmses.append(rmse)\n",
    "    \n",
    "    if rmse < optimal_rmse:\n",
    "        optimal_rmse = rmse\n",
    "        optimal_n_estimators = n\n",
    "    \n",
    "plt.title(\"Effect of n_estimators\")\n",
    "plt.xlabel(\"n_estimator\")\n",
    "plt.ylabel(\"RMSE\")\n",
    "plt.plot(estimators, rmses)\n",
    "\n",
    "print(f\"Optimal n_estimators =\", optimal_n_estimators)\n",
    "print(f\"Optimal RMSE =\", optimal_rmse)"
   ]
  },
  {
   "cell_type": "markdown",
   "id": "ea44c4fe",
   "metadata": {},
   "source": [
    "## Extra trees"
   ]
  },
  {
   "cell_type": "code",
   "execution_count": 13,
   "id": "5ed35c8f",
   "metadata": {},
   "outputs": [],
   "source": [
    "from sklearn.ensemble import ExtraTreesClassifier"
   ]
  },
  {
   "cell_type": "code",
   "execution_count": 32,
   "id": "0523d0de",
   "metadata": {},
   "outputs": [
    {
     "name": "stdout",
     "output_type": "stream",
     "text": [
      "RMSE: 51129.60263339263\n"
     ]
    }
   ],
   "source": [
    "#min samples split, max features, max samples, leave nodes and parameter die uitzoekt welke features belangrijk zijn.\n",
    "\n",
    "clf = ExtraTreesClassifier(n_estimators=160, random_state = 0, max_features = 20) \n",
    "                           #min_samples_split = 4, max_leaf_nodes = 100)\n",
    "clf.fit(X_train, y_train)\n",
    "y_pred = clf.predict(X_test)\n",
    "\n",
    "rmse = np.sqrt(mean_squared_error(y_pred, y_test))\n",
    "print(\"RMSE:\", rmse )"
   ]
  },
  {
   "cell_type": "code",
   "execution_count": null,
   "id": "1b3f3e73",
   "metadata": {},
   "outputs": [],
   "source": []
  }
 ],
 "metadata": {
  "kernelspec": {
   "display_name": "Python 3 (ipykernel)",
   "language": "python",
   "name": "python3"
  },
  "language_info": {
   "codemirror_mode": {
    "name": "ipython",
    "version": 3
   },
   "file_extension": ".py",
   "mimetype": "text/x-python",
   "name": "python",
   "nbconvert_exporter": "python",
   "pygments_lexer": "ipython3",
   "version": "3.7.11"
  }
 },
 "nbformat": 4,
 "nbformat_minor": 5
}
