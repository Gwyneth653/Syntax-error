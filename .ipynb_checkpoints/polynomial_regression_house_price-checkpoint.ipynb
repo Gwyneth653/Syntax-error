{
 "cells": [
  {
   "cell_type": "code",
   "execution_count": 329,
   "id": "a9aa7bc0",
   "metadata": {},
   "outputs": [
    {
     "name": "stdout",
     "output_type": "stream",
     "text": [
      "        Id  MSSubClass MSZoning  LotFrontage  LotArea Street Alley LotShape  \\\n",
      "1863  1864          90       RL          NaN     7976   Pave   NaN      Reg   \n",
      "110    111          50       RL         75.0     9525   Pave   NaN      Reg   \n",
      "2851  2852          60       RL         90.0    11250   Pave   NaN      IR1   \n",
      "35      36          60       RL        108.0    13418   Pave   NaN      Reg   \n",
      "1731  1732          20       RL          NaN     8499   Pave   NaN      IR1   \n",
      "...    ...         ...      ...          ...      ...    ...   ...      ...   \n",
      "1242  1243          85       RL         85.0    10625   Pave   NaN      Reg   \n",
      "2035  2036         160       FV         24.0     2645   Pave  Pave      Reg   \n",
      "503    504          20       RL        100.0    15602   Pave   NaN      IR1   \n",
      "1505  1506          20       RL          NaN    10456   Pave   NaN      IR1   \n",
      "2238  2239          20       RL         77.0     9278   Pave   NaN      Reg   \n",
      "\n",
      "     LandContour Utilities  ... PoolArea PoolQC  Fence MiscFeature MiscVal  \\\n",
      "1863         Lvl    AllPub  ...        0    NaN    NaN         NaN       0   \n",
      "110          Lvl    AllPub  ...        0    NaN    NaN         NaN       0   \n",
      "2851         Lvl    AllPub  ...        0    NaN    NaN         NaN       0   \n",
      "35           Lvl    AllPub  ...        0    NaN    NaN         NaN       0   \n",
      "1731         Lvl    AllPub  ...        0    NaN    NaN         NaN       0   \n",
      "...          ...       ...  ...      ...    ...    ...         ...     ...   \n",
      "1242         Lvl    AllPub  ...        0    NaN  MnPrv         NaN       0   \n",
      "2035         Lvl    AllPub  ...        0    NaN    NaN         NaN       0   \n",
      "503          Lvl    AllPub  ...        0    NaN   GdWo         NaN       0   \n",
      "1505         Lvl    AllPub  ...        0    NaN    NaN         NaN       0   \n",
      "2238         Lvl    AllPub  ...        0    NaN    NaN         NaN       0   \n",
      "\n",
      "     MoSold YrSold  SaleType  SaleCondition    SalePrice  \n",
      "1863     10   2009        WD         Normal  220522.3521  \n",
      "110      10   2006        WD         Normal  136900.0000  \n",
      "2851      5   2006        WD         Normal  184306.6376  \n",
      "35        9   2006        WD         Normal  309000.0000  \n",
      "1731      6   2009        WD         Normal  177304.4258  \n",
      "...     ...    ...       ...            ...          ...  \n",
      "1242      1   2010        WD         Family  170000.0000  \n",
      "2035     12   2008        WD         Normal  173310.5615  \n",
      "503       3   2010        WD         Normal  289000.0000  \n",
      "1505      5   2010        WD         Normal  192429.1873  \n",
      "2238      2   2008        WD        Abnorml  162039.7543  \n",
      "\n",
      "[2919 rows x 81 columns]\n"
     ]
    }
   ],
   "source": [
    "import pandas as pd\n",
    "from scipy.stats import norm\n",
    "import math\n",
    "from pandas.api.types import is_string_dtype\n",
    "from pandas.api.types import is_numeric_dtype\n",
    "import numpy as np\n",
    "import matplotlib.pyplot as plt\n",
    "from sklearn.linear_model import LinearRegression\n",
    "from sklearn.preprocessing import PolynomialFeatures\n",
    "from sklearn.metrics import mean_squared_error\n",
    "from sklearn.metrics import mean_squared_log_error\n",
    "from sklearn.model_selection import train_test_split\n",
    "from sklearn.utils import shuffle\n",
    "\n",
    "# # import the csv files into a pandas dataframe \n",
    "# train_data = pd.read_csv('train.csv')\n",
    "\n",
    "# # for now skip last row of training data as it contains 1 extra data point then the test data\n",
    "# # train_data = train_data.iloc[:-1, :]\n",
    "\n",
    "# test_data = pd.read_csv('test.csv')\n",
    "# test_data_submission = pd.read_csv('sample_submission.csv')\n",
    "\n",
    "# y_test = test_data_submission.iloc[:, 1:2].values\n",
    "# # print(y_test)\n",
    "\n",
    "# print(train_data.shape)\n",
    "# print(test_data.shape)\n",
    "# print(test_data_submission)\n",
    "\n",
    "total_data = pd.read_csv('total_data.csv', sep=\";\")\n",
    "total_data = shuffle(total_data)\n",
    "print(total_data)"
   ]
  },
  {
   "cell_type": "code",
   "execution_count": 291,
   "id": "287abcd5",
   "metadata": {},
   "outputs": [],
   "source": [
    "def cleaning(dataframe):\n",
    "    \"\"\"\n",
    "    This function corrects any missing values in a pandas dataframe\n",
    "    returns the cleaned dataframe\n",
    "    \"\"\"\n",
    "    \n",
    "    # loop through all the features/columns in the training data\n",
    "    for column in dataframe:\n",
    "\n",
    "        # check whether the data in each column is numerical\n",
    "        if is_numeric_dtype(dataframe[column]):\n",
    "\n",
    "            # if the data is numerical compute the mean of the whole column values\n",
    "            column_mean = dataframe[column].mean()\n",
    "\n",
    "            # replace the missing values in this column with the mean of the column\n",
    "            dataframe[column] = dataframe[column].fillna(column_mean)\n",
    "\n",
    "        # also replace categorical missing values\n",
    "        # check this approach!\n",
    "        else:\n",
    "            dataframe[column] = dataframe[column].fillna(dataframe[column].value_counts().index[0])\n",
    "    \n",
    "    return dataframe"
   ]
  },
  {
   "cell_type": "markdown",
   "id": "2b094017",
   "metadata": {},
   "source": [
    "# Garage cars"
   ]
  },
  {
   "cell_type": "code",
   "execution_count": 292,
   "id": "33e7cb03",
   "metadata": {},
   "outputs": [],
   "source": [
    "# # select only GarageCars\n",
    "# cars = train_data[[\"GarageCars\", \"SalePrice\"]].sort_values(by=[\"GarageCars\"])\n",
    "# print(cars.shape)\n",
    "\n",
    "# # clean the data \n",
    "# clean_cars = cleaning(cars)\n",
    "\n",
    "# # select x and y, keep same shape\n",
    "# x_cars = clean_cars.iloc[:, 0:1].values\n",
    "# y_cars = clean_cars.iloc[:, 1:2].values\n",
    "\n",
    "# print(x_cars.shape)\n",
    "# print(y_cars.shape)\n",
    "\n",
    "# # plot data\n",
    "# plt.plot(x_cars, y_cars, \".\")\n",
    "# plt.show()\n"
   ]
  },
  {
   "cell_type": "code",
   "execution_count": 293,
   "id": "eb5d4dd8",
   "metadata": {},
   "outputs": [],
   "source": [
    "\n",
    "\n",
    "# poly_cars = PolynomialFeatures(degree=3)\n",
    "# x_poly_cars = poly_cars.fit_transform(x_cars)\n",
    "\n",
    "# poly_cars.fit(x_poly_cars, y_cars)\n",
    "# linear2 = LinearRegression()\n",
    "# linear2.fit(x_poly_cars, y_cars)\n",
    "# poly_predict_cars = linear2.predict(poly_cars.fit_transform(x_cars))"
   ]
  },
  {
   "cell_type": "code",
   "execution_count": 294,
   "id": "dea9f807",
   "metadata": {},
   "outputs": [],
   "source": [
    "# # Visualising the Polynomial Regression results\n",
    "# plt.scatter(x_cars, y_cars, color = 'blue')\n",
    " \n",
    "# plt.plot(x_cars, poly_predict_cars, \"r-\")\n",
    "# plt.title('Polynomial Regression')\n",
    "# plt.xlabel('Garage cars')\n",
    "# plt.ylabel('Sale Price')\n",
    " \n",
    "# plt.show()"
   ]
  },
  {
   "cell_type": "code",
   "execution_count": 295,
   "id": "199aaa70",
   "metadata": {},
   "outputs": [],
   "source": [
    "# rmse_cars = np.sqrt(mean_squared_error(poly_predict_cars, y_test))\n",
    "# print(\"RMSE:\", rmse_cars)\n",
    "\n",
    "# rmsle_cars = np.sqrt(mean_squared_log_error(poly_predict_cars, y_test))\n",
    "# print(\"RMSLE:\", rmsle_cars)"
   ]
  },
  {
   "cell_type": "markdown",
   "id": "a13409f8",
   "metadata": {},
   "source": [
    "# Overall quality"
   ]
  },
  {
   "cell_type": "code",
   "execution_count": 296,
   "id": "a060d5e9",
   "metadata": {},
   "outputs": [],
   "source": [
    "# # select only OverallQual\n",
    "# qual = train_data[[\"OverallQual\", \"SalePrice\"]].sort_values(by=[\"OverallQual\"])\n",
    "# print(qual.shape)\n",
    "\n",
    "# # clean the data \n",
    "# clean_qual = cleaning(qual)\n",
    "\n",
    "# # select x and y, keep same shape\n",
    "# x_qual = clean_qual.iloc[:, 0:1].values\n",
    "# y_qual = clean_qual.iloc[:, 1:2].values\n",
    "\n",
    "# print(x_qual.shape)\n",
    "# print(y_qual.shape)\n",
    "\n",
    "# # plot data\n",
    "# plt.plot(x_qual, y_qual, \".\")\n",
    "# plt.show()\n"
   ]
  },
  {
   "cell_type": "code",
   "execution_count": 297,
   "id": "3975b8c0",
   "metadata": {},
   "outputs": [],
   "source": [
    "# poly_qual = PolynomialFeatures(degree=3)\n",
    "# x_poly_qual = poly_qual.fit_transform(x_qual)\n",
    "\n",
    "# poly_qual.fit(x_poly_qual, y_qual)\n",
    "# linear2 = LinearRegression()\n",
    "# linear2.fit(x_poly_qual, y_qual)\n",
    "# poly_predict_qual = linear2.predict(poly_qual.fit_transform(x_qual))"
   ]
  },
  {
   "cell_type": "code",
   "execution_count": 298,
   "id": "27881be1",
   "metadata": {},
   "outputs": [],
   "source": [
    "# # Visualising the Polynomial Regression results\n",
    "# plt.scatter(x_qual, y_qual, color = 'blue')\n",
    " \n",
    "# plt.plot(x_qual, poly_predict_qual, \"r-\")\n",
    "# plt.title('Polynomial Regression')\n",
    "# plt.xlabel('Overall Quality')\n",
    "# plt.ylabel('Sale Price')\n",
    " \n",
    "# plt.show()"
   ]
  },
  {
   "cell_type": "code",
   "execution_count": 299,
   "id": "80403ffa",
   "metadata": {},
   "outputs": [],
   "source": [
    "# rmse_qual = np.sqrt(mean_squared_error(poly_predict_qual, y_test))\n",
    "# print(\"RMSE:\", rmse_qual)\n",
    "\n",
    "# rmsle_qual = np.sqrt(mean_squared_log_error(poly_predict_qual, y_test))\n",
    "# print(\"RMSLE:\", rmsle_qual)"
   ]
  },
  {
   "cell_type": "markdown",
   "id": "02ccd532",
   "metadata": {},
   "source": [
    "# GrLivArea\n",
    "\n",
    "Deze is correct uitgevoerd verander de bovenste 2"
   ]
  },
  {
   "cell_type": "code",
   "execution_count": 300,
   "id": "88f170ff",
   "metadata": {},
   "outputs": [],
   "source": [
    "# # select only GrLivArea\n",
    "# area_train = train_data[[\"GrLivArea\", \"SalePrice\"]].sort_values(by=[\"GrLivArea\"])\n",
    "# print(area_train.shape)\n",
    "\n",
    "# x_area_test = test_data[\"GrLivArea\"].sort_values().reset_index()\n",
    "# print(x_area_test.shape)\n",
    "\n",
    "# # clean the data \n",
    "# clean_area_train = cleaning(area_train)\n",
    "# clean_area_test = cleaning(x_area_test)\n",
    "\n",
    "# # select x and y, keep same shape\n",
    "# x_area_train = clean_area.iloc[:, 0:1].values\n",
    "# y_area_train = clean_area.iloc[:, 1:2].values\n",
    "# x_area_test = clean_area_test.iloc[:, 1:2].values\n",
    "\n",
    "# print(x_area_train.shape)\n",
    "# print(y_area_train.shape)\n",
    "# print(x_area_test.shape)\n",
    "\n",
    "# # plot data\n",
    "# plt.plot(x_area_train, y_area_train, \".\")\n",
    "# plt.show()\n"
   ]
  },
  {
   "cell_type": "code",
   "execution_count": 301,
   "id": "3ebfe92c",
   "metadata": {},
   "outputs": [],
   "source": [
    "# poly = PolynomialFeatures(degree=3)\n",
    "# x_train = poly.fit_transform(x_area_train)\n",
    "\n",
    "# print(x_train.shape)\n",
    "# print(y_area_train.shape)\n",
    "\n",
    "# # create model\n",
    "# model = LinearRegression()\n",
    "\n",
    "# # fit (train) model on our training data \n",
    "# model.fit(x_train, y_area_train)\n",
    "\n",
    "# # predict y \n",
    "# # y_predict_area = model.predict(x_train)\n",
    "\n",
    "# y_predict_test = model.predict(x_test)"
   ]
  },
  {
   "cell_type": "code",
   "execution_count": 302,
   "id": "dcdd12cd",
   "metadata": {},
   "outputs": [],
   "source": [
    "# # Visualising the Polynomial Regression results train\n",
    "# plt.scatter(x_area_train, y_area_train, color = 'blue')\n",
    "\n",
    "# plt.plot(x_area_test, y_predict_test, \"r-\")\n",
    "# plt.title('Polynomial Regression')\n",
    "# plt.xlabel('Garage cars')\n",
    "# plt.ylabel('Sale Price')\n",
    " \n",
    "# plt.show()\n"
   ]
  },
  {
   "cell_type": "code",
   "execution_count": 303,
   "id": "6b65aebe",
   "metadata": {},
   "outputs": [],
   "source": [
    "# poly_RMSE_area = np.sqrt(mean_squared_error(y_predict_test, y_test))\n",
    "# print(\"RMSE train:\", poly_RMSE_area)\n",
    "\n",
    "# rmsle_area = np.sqrt(mean_squared_log_error(y_predict_test, y_test))\n",
    "# print(\"RMSLE train:\", rmsle_area)\n"
   ]
  },
  {
   "cell_type": "markdown",
   "id": "2d35e3ae",
   "metadata": {},
   "source": [
    "# Multivariate polynomial regression "
   ]
  },
  {
   "cell_type": "code",
   "execution_count": 304,
   "id": "ca0f146b",
   "metadata": {},
   "outputs": [],
   "source": [
    "# top_3 = train_data[[\"GrLivArea\", \"OverallQual\", \"GarageCars\", \"SalePrice\"]]\n",
    "# top_3 = cleaning(top_3)\n",
    "# # print(top_3.shape)\n",
    "\n",
    "# X_train = top_3.iloc[:, 0:3].values\n",
    "# y_train = top_3.iloc[:, 3:4].values\n",
    "\n",
    "# # print(X_train)\n",
    "# # print(X_train.shape)\n",
    "\n",
    "# # print(y_train)\n",
    "# # print(y_train.shape)\n",
    "\n",
    "# top_3_test = test_data[[\"GrLivArea\", \"OverallQual\", \"GarageCars\"]]\n",
    "# top_3_test = cleaning(top_3_test)\n",
    "# # print(top_3_test)\n",
    "\n",
    "# X_test = top_3_test.iloc[:, 0:3].values\n",
    "\n",
    "# # print(X_test)\n",
    "# # print(X_test.shape)\n",
    "# # print(y_test)\n",
    "# # prnt(y_test.shape)"
   ]
  },
  {
   "cell_type": "code",
   "execution_count": 305,
   "id": "79e20393",
   "metadata": {},
   "outputs": [],
   "source": [
    "# poly = PolynomialFeatures(degree=3)\n",
    "# poly_features = poly.fit_transform(X_train)\n",
    "\n",
    "# # create polynomial regression model\n",
    "# multi_model = LinearRegression()\n",
    "# multi_model.fit(X_train, y_train)\n",
    "\n",
    "\n",
    "# # test on testing data\n",
    "# y_predict = multi_model.predict(X_test)\n",
    "\n",
    "# # RMSE\n",
    "# rmse = np.sqrt(mean_squared_error(y_test, y_predict))\n",
    "# print(rmse)"
   ]
  },
  {
   "cell_type": "markdown",
   "id": "f68a1d69",
   "metadata": {},
   "source": [
    "# With total data set"
   ]
  },
  {
   "cell_type": "code",
   "execution_count": 352,
   "id": "3a4417b1",
   "metadata": {},
   "outputs": [
    {
     "name": "stdout",
     "output_type": "stream",
     "text": [
      "(2919, 4)\n",
      "(2919, 3)\n",
      "(2919,)\n"
     ]
    },
    {
     "name": "stderr",
     "output_type": "stream",
     "text": [
      "C:\\Users\\gwyne\\anaconda3\\envs\\progLab\\lib\\site-packages\\ipykernel_launcher.py:17: SettingWithCopyWarning: \n",
      "A value is trying to be set on a copy of a slice from a DataFrame.\n",
      "Try using .loc[row_indexer,col_indexer] = value instead\n",
      "\n",
      "See the caveats in the documentation: https://pandas.pydata.org/pandas-docs/stable/user_guide/indexing.html#returning-a-view-versus-a-copy\n"
     ]
    }
   ],
   "source": [
    "top_3 = total_data[[\"GrLivArea\", \"OverallQual\", \"GarageCars\", \"SalePrice\"]]\n",
    "top_3 = cleaning(top_3)\n",
    "# print(top_3)\n",
    "print(top_3.shape)\n",
    "\n",
    "X3, y3 = top_3[[\"GrLivArea\", \"OverallQual\", \"GarageCars\"]], top_3[\"SalePrice\"]\n",
    "print(X3.shape)\n",
    "print(y3.shape)"
   ]
  },
  {
   "cell_type": "code",
   "execution_count": 353,
   "id": "4266afb3",
   "metadata": {},
   "outputs": [],
   "source": [
    "poly3 = PolynomialFeatures(degree=3)\n",
    "poly3_features = poly3.fit_transform(X3)\n",
    "\n",
    "X3_train, X3_test, y3_train, y3_test = train_test_split(poly3_features, y3, test_size=0.3, random_state=42)"
   ]
  },
  {
   "cell_type": "code",
   "execution_count": 354,
   "id": "0e8cd12c",
   "metadata": {},
   "outputs": [
    {
     "name": "stdout",
     "output_type": "stream",
     "text": [
      "38621.52658115808\n"
     ]
    }
   ],
   "source": [
    "multi_poly3 = LinearRegression()\n",
    "multi_poly3.fit(X3_train, y3_train)\n",
    "\n",
    "y3_predicted = multi_poly3.predict(X3_test)\n",
    "\n",
    "\n",
    "poly3_rmse = np.sqrt(mean_squared_error(y3_test, y3_predicted))\n",
    "print(poly3_rmse)\n"
   ]
  },
  {
   "cell_type": "markdown",
   "id": "d36c08fe",
   "metadata": {},
   "source": [
    "### 8 best features "
   ]
  },
  {
   "cell_type": "code",
   "execution_count": 351,
   "id": "22119f62",
   "metadata": {},
   "outputs": [
    {
     "name": "stdout",
     "output_type": "stream",
     "text": [
      "(2919, 9)\n",
      "(2919, 8)\n",
      "(2919,)\n"
     ]
    },
    {
     "name": "stderr",
     "output_type": "stream",
     "text": [
      "C:\\Users\\gwyne\\anaconda3\\envs\\progLab\\lib\\site-packages\\ipykernel_launcher.py:17: SettingWithCopyWarning: \n",
      "A value is trying to be set on a copy of a slice from a DataFrame.\n",
      "Try using .loc[row_indexer,col_indexer] = value instead\n",
      "\n",
      "See the caveats in the documentation: https://pandas.pydata.org/pandas-docs/stable/user_guide/indexing.html#returning-a-view-versus-a-copy\n"
     ]
    }
   ],
   "source": [
    "top_8 = total_data[[\"OverallQual\", \"GrLivArea\", \"GarageCars\", \"GarageArea\", \"TotalBsmtSF\", \"1stFlrSF\", \"FullBath\", \"TotRmsAbvGrd\", \"SalePrice\"]]\n",
    "top_8 = cleaning(top_8)\n",
    "# print(top_8)\n",
    "print(top_8.shape)\n",
    "\n",
    "X8, y8 = top_8[[\"OverallQual\", \"GrLivArea\", \"GarageCars\", \"GarageArea\", \"TotalBsmtSF\", \"1stFlrSF\", \"FullBath\", \"TotRmsAbvGrd\"]], top_8[\"SalePrice\"]\n",
    "print(X8.shape)\n",
    "print(y8.shape)"
   ]
  },
  {
   "cell_type": "code",
   "execution_count": 359,
   "id": "e91edd88",
   "metadata": {},
   "outputs": [],
   "source": [
    "poly8 = PolynomialFeatures(degree=3)\n",
    "poly8_features = poly8.fit_transform(X8)\n",
    "\n",
    "X8_train, X8_test, y8_train, y8_test = train_test_split(poly8_features, y8, test_size=0.3, random_state=42)"
   ]
  },
  {
   "cell_type": "code",
   "execution_count": 360,
   "id": "97113bcc",
   "metadata": {},
   "outputs": [
    {
     "name": "stdout",
     "output_type": "stream",
     "text": [
      "209535.20300867027\n"
     ]
    }
   ],
   "source": [
    "multi_poly8 = LinearRegression()\n",
    "multi_poly8.fit(X8_train, y8_train)\n",
    "\n",
    "y8_predicted = multi_poly8.predict(X8_test)\n",
    "\n",
    "\n",
    "poly8_rmse = np.sqrt(mean_squared_error(y8_test, y8_predicted))\n",
    "print(poly8_rmse)"
   ]
  },
  {
   "cell_type": "code",
   "execution_count": null,
   "id": "f26b718b",
   "metadata": {},
   "outputs": [],
   "source": []
  }
 ],
 "metadata": {
  "kernelspec": {
   "display_name": "Python 3 (ipykernel)",
   "language": "python",
   "name": "python3"
  },
  "language_info": {
   "codemirror_mode": {
    "name": "ipython",
    "version": 3
   },
   "file_extension": ".py",
   "mimetype": "text/x-python",
   "name": "python",
   "nbconvert_exporter": "python",
   "pygments_lexer": "ipython3",
   "version": "3.7.11"
  }
 },
 "nbformat": 4,
 "nbformat_minor": 5
}
