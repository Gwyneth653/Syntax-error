{
 "cells": [
  {
   "cell_type": "markdown",
   "id": "f4fb96f9",
   "metadata": {},
   "source": [
    "# Predicting House Prices\n",
    "\n",
    "Nowadays, housing prices are extremely on the rise due to the increase in demand. It is really hard to get your hands on a house and even if you do, it has become normal to pay much more than the original sales price of the house.\n",
    "\n",
    "When thinking about the sales price of a house, most people think this is a combination of the size of the lot, the amount of bedrooms and the location. However, many more unfamiliar features determine the sales price of a house. Given a dataset with 79 features, both a mixture of categorical and numerical features, we are going to estimate the value of houses in Ames Iowa. Creating a model which predicts housing prices will help to solve real world problems because housing prices can in this way be computed in a more rational way."
   ]
  },
  {
   "cell_type": "markdown",
   "id": "8499bcf1",
   "metadata": {},
   "source": [
    "## Import the necessary modules and libraries"
   ]
  },
  {
   "cell_type": "code",
   "execution_count": 1,
   "id": "13743a01",
   "metadata": {},
   "outputs": [],
   "source": [
    "import pandas as pd \n",
    "\n",
    "import seaborn as sns\n",
    "\n",
    "import matplotlib.pyplot as plt\n",
    "\n",
    "import numpy as np\n",
    "\n",
    "from math import sqrt\n",
    "\n",
    "from pandas.api.types import is_string_dtype\n",
    "from pandas.api.types import is_numeric_dtype\n",
    "\n",
    "from sklearn import preprocessing\n",
    "from sklearn.preprocessing import OneHotEncoder\n",
    "from sklearn.preprocessing import MinMaxScaler\n",
    "from sklearn.linear_model import LinearRegression\n",
    "from sklearn.metrics import mean_squared_error\n",
    "from sklearn.utils import shuffle\n",
    "from sklearn.model_selection import train_test_split\n",
    "from sklearn.ensemble import RandomForestRegressor\n",
    "from sklearn import tree\n",
    "from sklearn.tree import DecisionTreeRegressor\n"
   ]
  },
  {
   "cell_type": "markdown",
   "id": "ba1c546d",
   "metadata": {},
   "source": [
    "## Import data"
   ]
  },
  {
   "cell_type": "code",
   "execution_count": 2,
   "id": "e48cf275",
   "metadata": {},
   "outputs": [],
   "source": [
    "train_data = pd.read_csv('train.csv')\n",
    "test_data = pd.read_csv('test.csv')\n",
    "test_data_submission = pd.read_csv('sample_submission.csv')\n"
   ]
  },
  {
   "cell_type": "markdown",
   "id": "69a19e3a",
   "metadata": {},
   "source": [
    "## Inspect data"
   ]
  },
  {
   "cell_type": "code",
   "execution_count": 3,
   "id": "ccfd8888",
   "metadata": {},
   "outputs": [
    {
     "name": "stdout",
     "output_type": "stream",
     "text": [
      "<class 'pandas.core.frame.DataFrame'>\n",
      "RangeIndex: 1460 entries, 0 to 1459\n",
      "Data columns (total 81 columns):\n",
      " #   Column         Non-Null Count  Dtype  \n",
      "---  ------         --------------  -----  \n",
      " 0   Id             1460 non-null   int64  \n",
      " 1   MSSubClass     1460 non-null   int64  \n",
      " 2   MSZoning       1460 non-null   object \n",
      " 3   LotFrontage    1201 non-null   float64\n",
      " 4   LotArea        1460 non-null   int64  \n",
      " 5   Street         1460 non-null   object \n",
      " 6   Alley          91 non-null     object \n",
      " 7   LotShape       1460 non-null   object \n",
      " 8   LandContour    1460 non-null   object \n",
      " 9   Utilities      1460 non-null   object \n",
      " 10  LotConfig      1460 non-null   object \n",
      " 11  LandSlope      1460 non-null   object \n",
      " 12  Neighborhood   1460 non-null   object \n",
      " 13  Condition1     1460 non-null   object \n",
      " 14  Condition2     1460 non-null   object \n",
      " 15  BldgType       1460 non-null   object \n",
      " 16  HouseStyle     1460 non-null   object \n",
      " 17  OverallQual    1460 non-null   int64  \n",
      " 18  OverallCond    1460 non-null   int64  \n",
      " 19  YearBuilt      1460 non-null   int64  \n",
      " 20  YearRemodAdd   1460 non-null   int64  \n",
      " 21  RoofStyle      1460 non-null   object \n",
      " 22  RoofMatl       1460 non-null   object \n",
      " 23  Exterior1st    1460 non-null   object \n",
      " 24  Exterior2nd    1460 non-null   object \n",
      " 25  MasVnrType     1452 non-null   object \n",
      " 26  MasVnrArea     1452 non-null   float64\n",
      " 27  ExterQual      1460 non-null   object \n",
      " 28  ExterCond      1460 non-null   object \n",
      " 29  Foundation     1460 non-null   object \n",
      " 30  BsmtQual       1423 non-null   object \n",
      " 31  BsmtCond       1423 non-null   object \n",
      " 32  BsmtExposure   1422 non-null   object \n",
      " 33  BsmtFinType1   1423 non-null   object \n",
      " 34  BsmtFinSF1     1460 non-null   int64  \n",
      " 35  BsmtFinType2   1422 non-null   object \n",
      " 36  BsmtFinSF2     1460 non-null   int64  \n",
      " 37  BsmtUnfSF      1460 non-null   int64  \n",
      " 38  TotalBsmtSF    1460 non-null   int64  \n",
      " 39  Heating        1460 non-null   object \n",
      " 40  HeatingQC      1460 non-null   object \n",
      " 41  CentralAir     1460 non-null   object \n",
      " 42  Electrical     1459 non-null   object \n",
      " 43  1stFlrSF       1460 non-null   int64  \n",
      " 44  2ndFlrSF       1460 non-null   int64  \n",
      " 45  LowQualFinSF   1460 non-null   int64  \n",
      " 46  GrLivArea      1460 non-null   int64  \n",
      " 47  BsmtFullBath   1460 non-null   int64  \n",
      " 48  BsmtHalfBath   1460 non-null   int64  \n",
      " 49  FullBath       1460 non-null   int64  \n",
      " 50  HalfBath       1460 non-null   int64  \n",
      " 51  BedroomAbvGr   1460 non-null   int64  \n",
      " 52  KitchenAbvGr   1460 non-null   int64  \n",
      " 53  KitchenQual    1460 non-null   object \n",
      " 54  TotRmsAbvGrd   1460 non-null   int64  \n",
      " 55  Functional     1460 non-null   object \n",
      " 56  Fireplaces     1460 non-null   int64  \n",
      " 57  FireplaceQu    770 non-null    object \n",
      " 58  GarageType     1379 non-null   object \n",
      " 59  GarageYrBlt    1379 non-null   float64\n",
      " 60  GarageFinish   1379 non-null   object \n",
      " 61  GarageCars     1460 non-null   int64  \n",
      " 62  GarageArea     1460 non-null   int64  \n",
      " 63  GarageQual     1379 non-null   object \n",
      " 64  GarageCond     1379 non-null   object \n",
      " 65  PavedDrive     1460 non-null   object \n",
      " 66  WoodDeckSF     1460 non-null   int64  \n",
      " 67  OpenPorchSF    1460 non-null   int64  \n",
      " 68  EnclosedPorch  1460 non-null   int64  \n",
      " 69  3SsnPorch      1460 non-null   int64  \n",
      " 70  ScreenPorch    1460 non-null   int64  \n",
      " 71  PoolArea       1460 non-null   int64  \n",
      " 72  PoolQC         7 non-null      object \n",
      " 73  Fence          281 non-null    object \n",
      " 74  MiscFeature    54 non-null     object \n",
      " 75  MiscVal        1460 non-null   int64  \n",
      " 76  MoSold         1460 non-null   int64  \n",
      " 77  YrSold         1460 non-null   int64  \n",
      " 78  SaleType       1460 non-null   object \n",
      " 79  SaleCondition  1460 non-null   object \n",
      " 80  SalePrice      1460 non-null   int64  \n",
      "dtypes: float64(3), int64(35), object(43)\n",
      "memory usage: 924.0+ KB\n"
     ]
    }
   ],
   "source": [
    "train_data.info()"
   ]
  },
  {
   "cell_type": "code",
   "execution_count": 4,
   "id": "ad328905",
   "metadata": {},
   "outputs": [
    {
     "name": "stdout",
     "output_type": "stream",
     "text": [
      "          column  rows  missing_pct\n",
      "72        PoolQC  1453    99.520548\n",
      "74   MiscFeature  1406    96.301370\n",
      "6          Alley  1369    93.767123\n",
      "73         Fence  1179    80.753425\n",
      "57   FireplaceQu   690    47.260274\n",
      "3    LotFrontage   259    17.739726\n",
      "58    GarageType    81     5.547945\n",
      "59   GarageYrBlt    81     5.547945\n",
      "60  GarageFinish    81     5.547945\n",
      "63    GarageQual    81     5.547945\n",
      "64    GarageCond    81     5.547945\n",
      "32  BsmtExposure    38     2.602740\n",
      "35  BsmtFinType2    38     2.602740\n",
      "33  BsmtFinType1    37     2.534247\n",
      "31      BsmtCond    37     2.534247\n",
      "30      BsmtQual    37     2.534247\n",
      "26    MasVnrArea     8     0.547945\n",
      "25    MasVnrType     8     0.547945\n",
      "42    Electrical     1     0.068493\n"
     ]
    }
   ],
   "source": [
    "def show_missing_info(df):\n",
    "    missing_info = df.isna().sum().reset_index(drop=False)\n",
    "    missing_info.columns = [\"column\",\"rows\"]\n",
    "    missing_info[\"missing_pct\"] = (missing_info[\"rows\"]/train_data.shape[0])*100\n",
    "    missing_info = missing_info[missing_info[\"rows\"]>0].sort_values(by=\"missing_pct\",ascending=False)\n",
    "    return missing_info\n",
    "\n",
    "missing_df = show_missing_info(train_data)\n",
    "print(missing_df)"
   ]
  },
  {
   "cell_type": "markdown",
   "id": "a558fbe2",
   "metadata": {},
   "source": [
    "As the first 5 features ('Alley','PoolQC','Fence','MiscFeature','FireplaceQu') include a lot of missing data, we decided to drop the columns of this features from the data set."
   ]
  },
  {
   "cell_type": "markdown",
   "id": "1bf0ae3a",
   "metadata": {},
   "source": [
    "## Visualize sale prices"
   ]
  },
  {
   "cell_type": "code",
   "execution_count": 5,
   "id": "64184387",
   "metadata": {},
   "outputs": [
    {
     "name": "stderr",
     "output_type": "stream",
     "text": [
      "/Users/veerleblom/opt/anaconda3/envs/progLab/lib/python3.7/site-packages/seaborn/distributions.py:2619: FutureWarning: `distplot` is a deprecated function and will be removed in a future version. Please adapt your code to use either `displot` (a figure-level function with similar flexibility) or `histplot` (an axes-level function for histograms).\n",
      "  warnings.warn(msg, FutureWarning)\n",
      "/Users/veerleblom/opt/anaconda3/envs/progLab/lib/python3.7/site-packages/seaborn/distributions.py:2619: FutureWarning: `distplot` is a deprecated function and will be removed in a future version. Please adapt your code to use either `displot` (a figure-level function with similar flexibility) or `histplot` (an axes-level function for histograms).\n",
      "  warnings.warn(msg, FutureWarning)\n"
     ]
    },
    {
     "data": {
      "text/plain": [
       "<AxesSubplot:xlabel='SalePrice', ylabel='Density'>"
      ]
     },
     "execution_count": 5,
     "metadata": {},
     "output_type": "execute_result"
    },
    {
     "data": {
      "image/png": "[encoded data removed]",
      "text/plain": [
       "<Figure size 432x288 with 1 Axes>"
      ]
     },
     "metadata": {
      "needs_background": "light"
     },
     "output_type": "display_data"
    }
   ],
   "source": [
    "# select the Sale price from the training data = y \n",
    "y_train = train_data['SalePrice']\n",
    "\n",
    "# select the Sale price from the test data = y \n",
    "y_test = test_data_submission['SalePrice']\n",
    "\n",
    "# create histogram with seaborn of the Sale price (y) from train and test data\n",
    "sns.distplot(y_train)\n",
    "sns.distplot(y_test)"
   ]
  },
  {
   "cell_type": "markdown",
   "id": "ee0c83f0",
   "metadata": {},
   "source": [
    "## Prepare data\n",
    "\n",
    "Because it has been discovered that the test data is distributed very differently than the training data, we are going to redivide the data set. In addition, we will make some adjustments in the data set in order to make the data useful as input to the model.\n",
    "\n",
    "1. Merge train and test data set\n",
    "1. One hot encode the categorical data\n",
    "2. Clean data\n",
    "    - Replace missing numerical data with the mean value of that feature\n",
    "    - Replace missing categorical data with the most common category of that feature)\n",
    "3. Ramdomly devide merged data set into 70% train data and 30% test data"
   ]
  },
  {
   "cell_type": "code",
   "execution_count": 6,
   "id": "cdcbb04a",
   "metadata": {},
   "outputs": [],
   "source": [
    "def cleaning(dataframe):\n",
    "    \"\"\"\n",
    "    This function corrects any missing values in a pandas dataframe\n",
    "    returns the cleaned dataframe\n",
    "    \"\"\"\n",
    "    \n",
    "    # loop through all the features/columns in the training data\n",
    "    for column in dataframe:\n",
    "        \n",
    "        # if column is in top 5 of columns with most missing data, drop column\n",
    "        if column in ['Alley','PoolQC','Fence','MiscFeature','FireplaceQu']:\n",
    "            dataframe.drop[column]\n",
    "        \n",
    "        # check whether the data in each column is numerical\n",
    "        if is_numeric_dtype(dataframe[column]):\n",
    "\n",
    "            # if the data is numerical compute the mean of the whole column values\n",
    "            column_mean = dataframe[column].mean()\n",
    "\n",
    "            # replace the missing values in this column with the mean of the column\n",
    "            dataframe[column] = dataframe[column].fillna(column_mean)\n",
    "\n",
    "        # also replace categorical missing values\n",
    "        # check this approach!\n",
    "        else:\n",
    "            dataframe[column] = dataframe[column].fillna(dataframe[column].value_counts().index[0])\n",
    "    \n",
    "    return dataframe\n"
   ]
  },
  {
   "cell_type": "markdown",
   "id": "d9a84f3b",
   "metadata": {},
   "source": [
    "## One hot encode categorical data"
   ]
  },
  {
   "cell_type": "code",
   "execution_count": 7,
   "id": "1ed3d77a",
   "metadata": {},
   "outputs": [],
   "source": [
    "def one_hot_encoding(df):\n",
    "    \n",
    "    \"\"\"One hot encode categorical data from a dataframe.\"\"\"\n",
    "        \n",
    "    # select all categorical features\n",
    "    cat_data = df.select_dtypes(include=[object])\n",
    "    num_data = df.select_dtypes(exclude=[object])\n",
    "    \n",
    "    # create a LabelEncoder object and apply it to each categorical feature in the data\n",
    "    le = preprocessing.LabelEncoder()\n",
    "    cat_data_2 = cat_data.apply(le.fit_transform)\n",
    "    \n",
    "    # create a OneHotEncoder object and fit it to all categorical data\n",
    "    enc = preprocessing.OneHotEncoder()\n",
    "    enc.fit(cat_data_2)\n",
    "    onehotlabels = enc.transform(cat_data_2).toarray()\n",
    "    \n",
    "    # get all possible categories from the data\n",
    "    all_categories = enc.get_feature_names(cat_data_2.columns)\n",
    "\n",
    "    # create new dataframe with all possible categories as columns\n",
    "    cat_data = pd.DataFrame(onehotlabels, columns = all_categories)\n",
    "    \n",
    "    num_data = num_data.set_index('Id')\n",
    "    \n",
    "    # merge the numerical data with the one hot encoded categorical data again\n",
    "    result = pd.concat([cat_data, num_data], axis=1).reindex(cat_data.index)\n",
    "        \n",
    "    return result\n"
   ]
  },
  {
   "cell_type": "markdown",
   "id": "78187c09",
   "metadata": {},
   "source": [
    "## Redivide the dataset"
   ]
  },
  {
   "cell_type": "code",
   "execution_count": 8,
   "id": "90872102",
   "metadata": {},
   "outputs": [
    {
     "name": "stderr",
     "output_type": "stream",
     "text": [
      "/Users/veerleblom/opt/anaconda3/envs/progLab/lib/python3.7/site-packages/sklearn/utils/deprecation.py:87: FutureWarning: Function get_feature_names is deprecated; get_feature_names is deprecated in 1.0 and will be removed in 1.2. Please use get_feature_names_out instead.\n",
      "  warnings.warn(msg, category=FutureWarning)\n"
     ]
    }
   ],
   "source": [
    "def shuffle_data(train_data_df, test_data_df, test_data_submission_df):\n",
    "    \"\"\"\n",
    "    Function to randomly shuffle the train and test data\n",
    "    \"\"\"\n",
    "    # drop the house Id, as this is already in the test_data_df\n",
    "    test_data_submission_df = test_data_submission_df.drop('Id', axis=1)\n",
    "\n",
    "    # add the saleprice (y) to the test data\n",
    "    test_data_df.insert(80, \"SalePrice\", test_data_submission_df, True)\n",
    "        \n",
    "    # 'glue' the test data and train data together\n",
    "    merged_df = pd.concat([train_data_df, test_data_df])\n",
    "    \n",
    "    # one hot encode categorical data in dataframe\n",
    "    total_df = one_hot_encoding(merged_df)   \n",
    "    \n",
    "    # clean data in dataframe\n",
    "    total_df = cleaning(total_df)\n",
    "        \n",
    "    # create SalePrice list\n",
    "    y = total_df['SalePrice'].tolist()\n",
    "\n",
    "    # remove the Saleprice from the total dataframe \n",
    "    X = total_df.drop('SalePrice', axis=1)\n",
    "\n",
    "    # split between test data and train data\n",
    "    X_train, X_test, y_train, y_test = train_test_split(X, y, test_size=0.33, random_state=42)\n",
    "    \n",
    "    return X_train, X_test, y_train, y_test\n",
    "\n",
    "\n",
    "X_train, X_test, y_train, y_test = shuffle_data(train_data, test_data, test_data_submission)\n"
   ]
  },
  {
   "cell_type": "markdown",
   "id": "7fd8f752",
   "metadata": {},
   "source": [
    "## Visualize sale prices"
   ]
  },
  {
   "cell_type": "code",
   "execution_count": 9,
   "id": "a768f1bc",
   "metadata": {},
   "outputs": [
    {
     "name": "stderr",
     "output_type": "stream",
     "text": [
      "/Users/veerleblom/opt/anaconda3/envs/progLab/lib/python3.7/site-packages/seaborn/distributions.py:2619: FutureWarning: `distplot` is a deprecated function and will be removed in a future version. Please adapt your code to use either `displot` (a figure-level function with similar flexibility) or `histplot` (an axes-level function for histograms).\n",
      "  warnings.warn(msg, FutureWarning)\n",
      "/Users/veerleblom/opt/anaconda3/envs/progLab/lib/python3.7/site-packages/seaborn/distributions.py:2619: FutureWarning: `distplot` is a deprecated function and will be removed in a future version. Please adapt your code to use either `displot` (a figure-level function with similar flexibility) or `histplot` (an axes-level function for histograms).\n",
      "  warnings.warn(msg, FutureWarning)\n"
     ]
    },
    {
     "data": {
      "text/plain": [
       "<AxesSubplot:ylabel='Density'>"
      ]
     },
     "execution_count": 9,
     "metadata": {},
     "output_type": "execute_result"
    },
    {
     "data": {
      "image/png": "[encoded data removed]",
      "text/plain": [
       "<Figure size 432x288 with 1 Axes>"
      ]
     },
     "metadata": {
      "needs_background": "light"
     },
     "output_type": "display_data"
    }
   ],
   "source": [
    "# create histogram with seaborn of the Sale price (y) from train and test data\n",
    "sns.distplot(y_train)\n",
    "sns.distplot(y_test)"
   ]
  },
  {
   "cell_type": "markdown",
   "id": "5de812a1",
   "metadata": {},
   "source": [
    "## Regression tree\n",
    "\n",
    "* Have a look at possible parameters!!!! https://scikit-learn.org/stable/modules/generated/sklearn.tree.DecisionTreeRegressor.html"
   ]
  },
  {
   "cell_type": "code",
   "execution_count": 10,
   "id": "da0c8c2c",
   "metadata": {},
   "outputs": [
    {
     "name": "stdout",
     "output_type": "stream",
     "text": [
      "RMSE: 50052.755786053145\n",
      "|--- feature_278 <= 7.50\n",
      "|   |--- feature_290 <= 1416.50\n",
      "|   |   |--- feature_287 <= 1080.50\n",
      "|   |   |   |--- feature_290 <= 790.50\n",
      "|   |   |   |   |--- feature_192 <= 0.50\n",
      "|   |   |   |   |   |--- value: [103397.57]\n",
      "|   |   |   |   |--- feature_192 >  0.50\n",
      "|   |   |   |   |   |--- value: [164954.43]\n",
      "|   |   |   |--- feature_290 >  790.50\n",
      "|   |   |   |   |--- feature_278 <= 4.50\n",
      "|   |   |   |   |   |--- value: [133676.46]\n",
      "|   |   |   |   |--- feature_278 >  4.50\n",
      "|   |   |   |   |   |--- value: [150635.25]\n",
      "|   |   |--- feature_287 >  1080.50\n",
      "|   |   |   |--- feature_286 <= 1150.00\n",
      "|   |   |   |   |--- feature_277 <= 9241.00\n",
      "|   |   |   |   |   |--- value: [148060.96]\n",
      "|   |   |   |   |--- feature_277 >  9241.00\n",
      "|   |   |   |   |   |--- value: [166548.24]\n",
      "|   |   |   |--- feature_286 >  1150.00\n",
      "|   |   |   |   |--- feature_8 <= 0.50\n",
      "|   |   |   |   |   |--- value: [173763.21]\n",
      "|   |   |   |   |--- feature_8 >  0.50\n",
      "|   |   |   |   |   |--- value: [118800.00]\n",
      "|   |--- feature_290 >  1416.50\n",
      "|   |   |--- feature_290 <= 1945.50\n",
      "|   |   |   |--- feature_301 <= 411.50\n",
      "|   |   |   |   |--- feature_279 <= 4.50\n",
      "|   |   |   |   |   |--- value: [135129.76]\n",
      "|   |   |   |   |--- feature_279 >  4.50\n",
      "|   |   |   |   |   |--- value: [169000.58]\n",
      "|   |   |   |--- feature_301 >  411.50\n",
      "|   |   |   |   |--- feature_277 <= 14430.50\n",
      "|   |   |   |   |   |--- value: [185029.78]\n",
      "|   |   |   |   |--- feature_277 >  14430.50\n",
      "|   |   |   |   |   |--- value: [207837.05]\n",
      "|   |   |--- feature_290 >  1945.50\n",
      "|   |   |   |--- feature_281 <= 1979.50\n",
      "|   |   |   |   |--- feature_286 <= 1166.50\n",
      "|   |   |   |   |   |--- value: [176781.67]\n",
      "|   |   |   |   |--- feature_286 >  1166.50\n",
      "|   |   |   |   |   |--- value: [218471.03]\n",
      "|   |   |   |--- feature_281 >  1979.50\n",
      "|   |   |   |   |--- feature_280 <= 2006.50\n",
      "|   |   |   |   |   |--- value: [221747.55]\n",
      "|   |   |   |   |--- feature_280 >  2006.50\n",
      "|   |   |   |   |   |--- value: [383970.00]\n",
      "|--- feature_278 >  7.50\n",
      "|   |--- feature_288 <= 1563.50\n",
      "|   |   |--- feature_140 <= 0.50\n",
      "|   |   |   |--- feature_277 <= 14139.50\n",
      "|   |   |   |   |--- feature_269 <= 0.50\n",
      "|   |   |   |   |   |--- value: [197777.78]\n",
      "|   |   |   |   |--- feature_269 >  0.50\n",
      "|   |   |   |   |   |--- value: [356200.00]\n",
      "|   |   |   |--- feature_277 >  14139.50\n",
      "|   |   |   |   |--- feature_273 <= 0.50\n",
      "|   |   |   |   |   |--- value: [190731.19]\n",
      "|   |   |   |   |--- feature_273 >  0.50\n",
      "|   |   |   |   |   |--- value: [262057.83]\n",
      "|   |   |--- feature_140 >  0.50\n",
      "|   |   |   |--- feature_278 <= 8.50\n",
      "|   |   |   |   |--- feature_288 <= 1216.50\n",
      "|   |   |   |   |   |--- value: [234232.16]\n",
      "|   |   |   |   |--- feature_288 >  1216.50\n",
      "|   |   |   |   |   |--- value: [336443.55]\n",
      "|   |   |   |--- feature_278 >  8.50\n",
      "|   |   |   |   |--- feature_290 <= 2013.50\n",
      "|   |   |   |   |   |--- value: [300337.26]\n",
      "|   |   |   |   |--- feature_290 >  2013.50\n",
      "|   |   |   |   |   |--- value: [416388.03]\n",
      "|   |--- feature_288 >  1563.50\n",
      "|   |   |--- feature_187 <= 0.50\n",
      "|   |   |   |--- feature_218 <= 0.50\n",
      "|   |   |   |   |--- value: [625000.00]\n",
      "|   |   |   |--- feature_218 >  0.50\n",
      "|   |   |   |   |--- value: [538000.00]\n",
      "|   |   |--- feature_187 >  0.50\n",
      "|   |   |   |--- feature_155 <= 0.50\n",
      "|   |   |   |   |--- value: [755000.00]\n",
      "|   |   |   |--- feature_155 >  0.50\n",
      "|   |   |   |   |--- value: [745000.00]\n",
      "\n"
     ]
    }
   ],
   "source": [
    "# Fit regression model\n",
    "regr_1 = DecisionTreeRegressor(max_depth=5, splitter=\"best\")\n",
    "regr_1.fit(X_train, y_train)\n",
    "\n",
    "# Predict\n",
    "y_pred1 = regr_1.predict(X_test)\n",
    "\n",
    "# Compute root mean squared error \n",
    "rmse = np.sqrt(mean_squared_error(y_pred1, y_test))\n",
    "print(\"RMSE:\", rmse)\n",
    "\n",
    "# Visualize the Decision Tree\n",
    "text_representation = tree.export_text(regr_1)\n",
    "print(text_representation)\n"
   ]
  },
  {
   "cell_type": "markdown",
   "id": "f966ab48",
   "metadata": {},
   "source": [
    "### Determine the optimal max_depth"
   ]
  },
  {
   "cell_type": "code",
   "execution_count": 11,
   "id": "46b6d2f4",
   "metadata": {},
   "outputs": [
    {
     "name": "stdout",
     "output_type": "stream",
     "text": [
      "Optimal max_depth = 4\n",
      "Optimal RMSE = 46023.80343232945\n"
     ]
    },
    {
     "data": {
      "image/png": "[encoded data removed]",
      "text/plain": [
       "<Figure size 432x288 with 1 Axes>"
      ]
     },
     "metadata": {
      "needs_background": "light"
     },
     "output_type": "display_data"
    }
   ],
   "source": [
    "model = DecisionTreeRegressor()\n",
    "estimators = np.arange(1, 50)\n",
    "rmses = []\n",
    "optimal_rmse = float(\"inf\")\n",
    "optimal_max_depth = 0\n",
    "\n",
    "for n in estimators:\n",
    "    \n",
    "    # Fit regression model\n",
    "    model.set_params(max_depth=n)\n",
    "    model.fit(X_train, y_train)\n",
    "    \n",
    "    # Predict\n",
    "    y_pred = model.predict(X_test)\n",
    "    \n",
    "    # Compute root mean squared error \n",
    "    rmse = np.sqrt(mean_squared_error(y_pred, y_test))\n",
    "    rmses.append(rmse)\n",
    "    \n",
    "    if rmse < optimal_rmse:\n",
    "        optimal_rmse = rmse\n",
    "        optimal_max_depth = n\n",
    "        \n",
    "    \n",
    "plt.title(\"Effect of max_depth\")\n",
    "plt.xlabel(\"max_depth\")\n",
    "plt.ylabel(\"RMSE\")\n",
    "plt.plot(estimators, rmses)\n",
    "\n",
    "print(f\"Optimal max_depth =\", optimal_max_depth)\n",
    "print(f\"Optimal RMSE =\", optimal_rmse)\n"
   ]
  },
  {
   "cell_type": "markdown",
   "id": "61a90309",
   "metadata": {},
   "source": [
    "## Random forest regression"
   ]
  },
  {
   "cell_type": "code",
   "execution_count": 12,
   "id": "759b6c09",
   "metadata": {},
   "outputs": [
    {
     "name": "stdout",
     "output_type": "stream",
     "text": [
      "RMSE: 37507.10089813428\n"
     ]
    },
    {
     "name": "stderr",
     "output_type": "stream",
     "text": [
      "/Users/veerleblom/opt/anaconda3/envs/progLab/lib/python3.7/site-packages/sklearn/base.py:439: UserWarning: X has feature names, but RandomForestRegressor was fitted without feature names\n",
      "  f\"X has feature names, but {self.__class__.__name__} was fitted without\"\n"
     ]
    }
   ],
   "source": [
    "regressor = RandomForestRegressor(n_estimators=140, random_state=0)\n",
    "regressor.fit(X_train.values, y_train)\n",
    "\n",
    "y_pred = regressor.predict(X_test)\n",
    "\n",
    "# compute root mean squared error \n",
    "rmse = np.sqrt(mean_squared_error(y_pred, y_test))\n",
    "print(\"RMSE:\", rmse)\n"
   ]
  },
  {
   "cell_type": "markdown",
   "id": "b2bd02d8",
   "metadata": {},
   "source": [
    "### Determine the optimal number of estimators"
   ]
  },
  {
   "cell_type": "code",
   "execution_count": 13,
   "id": "5993418c",
   "metadata": {},
   "outputs": [
    {
     "name": "stdout",
     "output_type": "stream",
     "text": [
      "Optimal n_estimators = 80\n",
      "Optimal RMSE = 37484.16963940001\n"
     ]
    },
    {
     "data": {
      "image/png": "[encoded data removed]",
      "text/plain": [
       "<Figure size 432x288 with 1 Axes>"
      ]
     },
     "metadata": {
      "needs_background": "light"
     },
     "output_type": "display_data"
    }
   ],
   "source": [
    "model = RandomForestRegressor()\n",
    "estimators = np.arange(10, 200, 10)\n",
    "rmses = []\n",
    "optimal_rmse = float(\"inf\")\n",
    "optimal_n_estimators = 0\n",
    "\n",
    "for n in estimators:\n",
    "    \n",
    "    # Fit regression model\n",
    "    model.set_params(n_estimators=n)\n",
    "    model.fit(X_train, y_train)\n",
    "    \n",
    "    # Predict\n",
    "    y_pred = model.predict(X_test)\n",
    "    \n",
    "    # Compute root mean squared error \n",
    "    rmse = np.sqrt(mean_squared_error(y_pred, y_test))\n",
    "    rmses.append(rmse)\n",
    "    \n",
    "    if rmse < optimal_rmse:\n",
    "        optimal_rmse = rmse\n",
    "        optimal_n_estimators = n\n",
    "    \n",
    "plt.title(\"Effect of n_estimators\")\n",
    "plt.xlabel(\"n_estimator\")\n",
    "plt.ylabel(\"RMSE\")\n",
    "plt.plot(estimators, rmses)\n",
    "\n",
    "print(f\"Optimal n_estimators =\", optimal_n_estimators)\n",
    "print(f\"Optimal RMSE =\", optimal_rmse)"
   ]
  },
  {
   "cell_type": "code",
   "execution_count": null,
   "id": "50540748",
   "metadata": {},
   "outputs": [],
   "source": []
  }
 ],
 "metadata": {
  "kernelspec": {
   "display_name": "Python 3 (ipykernel)",
   "language": "python",
   "name": "python3"
  },
  "language_info": {
   "codemirror_mode": {
    "name": "ipython",
    "version": 3
   },
   "file_extension": ".py",
   "mimetype": "text/x-python",
   "name": "python",
   "nbconvert_exporter": "python",
   "pygments_lexer": "ipython3",
   "version": "3.7.11"
  }
 },
 "nbformat": 4,
 "nbformat_minor": 5
}
