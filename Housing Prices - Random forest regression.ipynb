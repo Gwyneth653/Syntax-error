{
 "cells": [
  {
   "cell_type": "markdown",
   "id": "f4fb96f9",
   "metadata": {},
   "source": [
    "# Predicting House Prices"
   ]
  },
  {
   "cell_type": "code",
   "execution_count": 25,
   "id": "13743a01",
   "metadata": {},
   "outputs": [],
   "source": [
    "# Import the necessary modules and libraries\n",
    "import pandas as pd \n",
    "\n",
    "import seaborn as sns\n",
    "\n",
    "import matplotlib.pyplot as plt\n",
    "\n",
    "import numpy as np\n",
    "\n",
    "from math import sqrt\n",
    "\n",
    "from pandas.api.types import is_string_dtype\n",
    "from pandas.api.types import is_numeric_dtype\n",
    "\n",
    "from sklearn import preprocessing\n",
    "from sklearn.preprocessing import OneHotEncoder\n",
    "from sklearn.preprocessing import MinMaxScaler\n",
    "from sklearn.linear_model import LinearRegression\n",
    "from sklearn.metrics import mean_squared_error\n",
    "from sklearn.utils import shuffle\n",
    "from sklearn.model_selection import train_test_split\n",
    "from sklearn.ensemble import RandomForestRegressor\n",
    "from sklearn import tree\n",
    "from sklearn.tree import DecisionTreeRegressor\n"
   ]
  },
  {
   "cell_type": "markdown",
   "id": "ba1c546d",
   "metadata": {},
   "source": [
    "## Import data"
   ]
  },
  {
   "cell_type": "code",
   "execution_count": 2,
   "id": "e48cf275",
   "metadata": {},
   "outputs": [],
   "source": [
    "train_data = pd.read_csv('train.csv')\n",
    "test_data = pd.read_csv('test.csv')\n",
    "test_data_submission = pd.read_csv('sample_submission.csv')\n"
   ]
  },
  {
   "cell_type": "markdown",
   "id": "ee0c83f0",
   "metadata": {},
   "source": [
    "## Clean data"
   ]
  },
  {
   "cell_type": "code",
   "execution_count": 3,
   "id": "cdcbb04a",
   "metadata": {},
   "outputs": [],
   "source": [
    "def cleaning(dataframe):\n",
    "    \"\"\"\n",
    "    This function corrects any missing values in a pandas dataframe\n",
    "    returns the cleaned dataframe\n",
    "    \"\"\"\n",
    "    \n",
    "    # loop through all the features/columns in the training data\n",
    "    for column in dataframe:\n",
    "\n",
    "        # check whether the data in each column is numerical\n",
    "        if is_numeric_dtype(dataframe[column]):\n",
    "\n",
    "            # if the data is numerical compute the mean of the whole column values\n",
    "            column_mean = dataframe[column].mean()\n",
    "\n",
    "            # replace the missing values in this column with the mean of the column\n",
    "            dataframe[column] = dataframe[column].fillna(column_mean)\n",
    "\n",
    "        # also replace categorical missing values\n",
    "        # check this approach!\n",
    "        else:\n",
    "            dataframe[column] = dataframe[column].fillna(dataframe[column].value_counts().index[0])\n",
    "    \n",
    "    return dataframe\n"
   ]
  },
  {
   "cell_type": "markdown",
   "id": "d9a84f3b",
   "metadata": {},
   "source": [
    "## One hot encode categorical data"
   ]
  },
  {
   "cell_type": "code",
   "execution_count": 4,
   "id": "1ed3d77a",
   "metadata": {},
   "outputs": [],
   "source": [
    "def one_hot_encoding(df):\n",
    "    \n",
    "    \"\"\"One hot encode categorical data from a dataframe.\"\"\"\n",
    "        \n",
    "    # select all categorical features\n",
    "    cat_data = df.select_dtypes(include=[object])\n",
    "    num_data = df.select_dtypes(exclude=[object])\n",
    "    \n",
    "    # create a LabelEncoder object and apply it to each categorical feature in the data\n",
    "    le = preprocessing.LabelEncoder()\n",
    "    cat_data_2 = cat_data.apply(le.fit_transform)\n",
    "    \n",
    "    # create a OneHotEncoder object and fit it to all categorical data\n",
    "    enc = preprocessing.OneHotEncoder()\n",
    "    enc.fit(cat_data_2)\n",
    "    onehotlabels = enc.transform(cat_data_2).toarray()\n",
    "    \n",
    "    # get all possible categories from the data\n",
    "    all_categories = enc.get_feature_names(cat_data_2.columns)\n",
    "\n",
    "    # create new dataframe with all possible categories as columns\n",
    "    cat_data = pd.DataFrame(onehotlabels, columns = all_categories)\n",
    "    \n",
    "    num_data = num_data.set_index('Id')\n",
    "    \n",
    "    # merge the numerical data with the one hot encoded categorical data again\n",
    "    result = pd.concat([cat_data, num_data], axis=1).reindex(cat_data.index)\n",
    "        \n",
    "    return result\n"
   ]
  },
  {
   "cell_type": "markdown",
   "id": "78187c09",
   "metadata": {},
   "source": [
    "## Redivide the dataset"
   ]
  },
  {
   "cell_type": "code",
   "execution_count": 5,
   "id": "90872102",
   "metadata": {},
   "outputs": [
    {
     "name": "stderr",
     "output_type": "stream",
     "text": [
      "/Users/veerleblom/opt/anaconda3/envs/progLab/lib/python3.7/site-packages/sklearn/utils/deprecation.py:87: FutureWarning: Function get_feature_names is deprecated; get_feature_names is deprecated in 1.0 and will be removed in 1.2. Please use get_feature_names_out instead.\n",
      "  warnings.warn(msg, category=FutureWarning)\n"
     ]
    }
   ],
   "source": [
    "def shuffle_data(train_data_df, test_data_df, test_data_submission_df):\n",
    "    \"\"\"\n",
    "    Function to randomly shuffle the train and test data\n",
    "    \"\"\"\n",
    "    # drop the house Id, as this is already in the test_data_df\n",
    "    test_data_submission_df = test_data_submission_df.drop('Id', axis=1)\n",
    "\n",
    "    # add the saleprice (y) to the test data\n",
    "    test_data_df.insert(80, \"SalePrice\", test_data_submission_df, True)\n",
    "        \n",
    "    # 'glue' the test data and train data together\n",
    "    total_df = pd.concat([train_data_df, test_data_df])\n",
    "    \n",
    "    # one hot encode categorical data in dataframe\n",
    "    total_df_oh = one_hot_encoding(total_df)   \n",
    "    \n",
    "    # clean data in dataframe\n",
    "    total_df_cleaned = cleaning(total_df_oh)\n",
    "    \n",
    "    # shuffle the data randomly\n",
    "    total_df = shuffle(total_df_cleaned)\n",
    "    \n",
    "    # create SalePrice list\n",
    "    y = total_df['SalePrice'].tolist()\n",
    "\n",
    "    # remove the Saleprice from the total dataframe \n",
    "    X = total_df.drop('SalePrice', axis=1)\n",
    "\n",
    "    # split between test data and train data\n",
    "    X_train, X_test, y_train, y_test = train_test_split(X, y, test_size=0.33, random_state=42)\n",
    "    \n",
    "    return X_train, X_test, y_train, y_test\n",
    "\n",
    "\n",
    "X_train, X_test, y_train, y_test = shuffle_data(train_data, test_data, test_data_submission)\n"
   ]
  },
  {
   "cell_type": "markdown",
   "id": "7fd8f752",
   "metadata": {},
   "source": [
    "## Visualize sale prices"
   ]
  },
  {
   "cell_type": "code",
   "execution_count": 6,
   "id": "a768f1bc",
   "metadata": {},
   "outputs": [
    {
     "name": "stderr",
     "output_type": "stream",
     "text": [
      "/Users/veerleblom/opt/anaconda3/envs/progLab/lib/python3.7/site-packages/seaborn/distributions.py:2619: FutureWarning: `distplot` is a deprecated function and will be removed in a future version. Please adapt your code to use either `displot` (a figure-level function with similar flexibility) or `histplot` (an axes-level function for histograms).\n",
      "  warnings.warn(msg, FutureWarning)\n",
      "/Users/veerleblom/opt/anaconda3/envs/progLab/lib/python3.7/site-packages/seaborn/distributions.py:2619: FutureWarning: `distplot` is a deprecated function and will be removed in a future version. Please adapt your code to use either `displot` (a figure-level function with similar flexibility) or `histplot` (an axes-level function for histograms).\n",
      "  warnings.warn(msg, FutureWarning)\n"
     ]
    },
    {
     "data": {
      "text/plain": [
       "<AxesSubplot:ylabel='Density'>"
      ]
     },
     "execution_count": 6,
     "metadata": {},
     "output_type": "execute_result"
    },
    {
     "data": {
      "image/png": "[encoded data removed]",
      "text/plain": [
       "<Figure size 432x288 with 1 Axes>"
      ]
     },
     "metadata": {
      "needs_background": "light"
     },
     "output_type": "display_data"
    }
   ],
   "source": [
    "# create histogram with seaborn of the Sale price (y) from train and test data\n",
    "sns.distplot(y_train)\n",
    "sns.distplot(y_test)"
   ]
  },
  {
   "cell_type": "markdown",
   "id": "5de812a1",
   "metadata": {},
   "source": [
    "## Regression tree"
   ]
  },
  {
   "cell_type": "code",
   "execution_count": 26,
   "id": "da0c8c2c",
   "metadata": {},
   "outputs": [
    {
     "name": "stdout",
     "output_type": "stream",
     "text": [
      "RMSE: 45417.542800771764\n",
      "|--- feature_290 <= 1613.00\n",
      "|   |--- feature_290 <= 1158.50\n",
      "|   |   |--- feature_280 <= 1950.50\n",
      "|   |   |   |--- feature_4 <= 0.50\n",
      "|   |   |   |   |--- feature_14 <= 0.50\n",
      "|   |   |   |   |   |--- value: [99161.53]\n",
      "|   |   |   |   |--- feature_14 >  0.50\n",
      "|   |   |   |   |   |--- value: [127314.75]\n",
      "|   |   |   |--- feature_4 >  0.50\n",
      "|   |   |   |   |--- feature_277 <= 11760.00\n",
      "|   |   |   |   |   |--- value: [154399.38]\n",
      "|   |   |   |   |--- feature_277 >  11760.00\n",
      "|   |   |   |   |   |--- value: [80500.00]\n",
      "|   |   |--- feature_280 >  1950.50\n",
      "|   |   |   |--- feature_287 <= 905.50\n",
      "|   |   |   |   |--- feature_290 <= 681.00\n",
      "|   |   |   |   |   |--- value: [84700.00]\n",
      "|   |   |   |   |--- feature_290 >  681.00\n",
      "|   |   |   |   |   |--- value: [141743.57]\n",
      "|   |   |   |--- feature_287 >  905.50\n",
      "|   |   |   |   |--- feature_277 <= 10670.50\n",
      "|   |   |   |   |   |--- value: [153589.75]\n",
      "|   |   |   |   |--- feature_277 >  10670.50\n",
      "|   |   |   |   |   |--- value: [171465.73]\n",
      "|   |--- feature_290 >  1158.50\n",
      "|   |   |--- feature_280 <= 1993.50\n",
      "|   |   |   |--- feature_277 <= 28681.00\n",
      "|   |   |   |   |--- feature_301 <= 298.00\n",
      "|   |   |   |   |   |--- value: [150373.53]\n",
      "|   |   |   |   |--- feature_301 >  298.00\n",
      "|   |   |   |   |   |--- value: [166698.88]\n",
      "|   |   |   |--- feature_277 >  28681.00\n",
      "|   |   |   |   |--- feature_286 <= 1578.50\n",
      "|   |   |   |   |   |--- value: [259043.16]\n",
      "|   |   |   |   |--- feature_286 >  1578.50\n",
      "|   |   |   |   |   |--- value: [210153.71]\n",
      "|   |   |--- feature_280 >  1993.50\n",
      "|   |   |   |--- feature_286 <= 1416.00\n",
      "|   |   |   |   |--- feature_277 <= 4729.00\n",
      "|   |   |   |   |   |--- value: [168877.80]\n",
      "|   |   |   |   |--- feature_277 >  4729.00\n",
      "|   |   |   |   |   |--- value: [182767.36]\n",
      "|   |   |   |--- feature_286 >  1416.00\n",
      "|   |   |   |   |--- feature_277 <= 8041.00\n",
      "|   |   |   |   |   |--- value: [164522.97]\n",
      "|   |   |   |   |--- feature_277 >  8041.00\n",
      "|   |   |   |   |   |--- value: [206758.84]\n",
      "|--- feature_290 >  1613.00\n",
      "|   |--- feature_278 <= 7.50\n",
      "|   |   |--- feature_290 <= 2020.50\n",
      "|   |   |   |--- feature_275 <= 65.00\n",
      "|   |   |   |   |--- feature_301 <= 469.50\n",
      "|   |   |   |   |   |--- value: [181082.37]\n",
      "|   |   |   |   |--- feature_301 >  469.50\n",
      "|   |   |   |   |   |--- value: [201203.90]\n",
      "|   |   |   |--- feature_275 >  65.00\n",
      "|   |   |   |   |--- feature_148 <= 0.50\n",
      "|   |   |   |   |   |--- value: [182803.76]\n",
      "|   |   |   |   |--- feature_148 >  0.50\n",
      "|   |   |   |   |   |--- value: [154398.47]\n",
      "|   |   |--- feature_290 >  2020.50\n",
      "|   |   |   |--- feature_280 <= 1923.50\n",
      "|   |   |   |   |--- feature_281 <= 1976.00\n",
      "|   |   |   |   |   |--- value: [139862.77]\n",
      "|   |   |   |   |--- feature_281 >  1976.00\n",
      "|   |   |   |   |   |--- value: [200569.99]\n",
      "|   |   |   |--- feature_280 >  1923.50\n",
      "|   |   |   |   |--- feature_283 <= 934.50\n",
      "|   |   |   |   |   |--- value: [218887.71]\n",
      "|   |   |   |   |--- feature_283 >  934.50\n",
      "|   |   |   |   |   |--- value: [258589.63]\n",
      "|   |--- feature_278 >  7.50\n",
      "|   |   |--- feature_155 <= 0.50\n",
      "|   |   |   |--- feature_288 <= 1867.00\n",
      "|   |   |   |   |--- feature_290 <= 2861.50\n",
      "|   |   |   |   |   |--- value: [225570.81]\n",
      "|   |   |   |   |--- feature_290 >  2861.50\n",
      "|   |   |   |   |   |--- value: [338690.61]\n",
      "|   |   |   |--- feature_288 >  1867.00\n",
      "|   |   |   |   |--- value: [755000.00]\n",
      "|   |   |--- feature_155 >  0.50\n",
      "|   |   |   |--- feature_280 <= 2007.50\n",
      "|   |   |   |   |--- feature_287 <= 1100.00\n",
      "|   |   |   |   |   |--- value: [204811.73]\n",
      "|   |   |   |   |--- feature_287 >  1100.00\n",
      "|   |   |   |   |   |--- value: [309050.23]\n",
      "|   |   |   |--- feature_280 >  2007.50\n",
      "|   |   |   |   |--- feature_276 <= 98.50\n",
      "|   |   |   |   |   |--- value: [404959.60]\n",
      "|   |   |   |   |--- feature_276 >  98.50\n",
      "|   |   |   |   |   |--- value: [597295.00]\n",
      "\n"
     ]
    }
   ],
   "source": [
    "# Fit regression model\n",
    "regr_1 = DecisionTreeRegressor(max_depth=5)\n",
    "regr_1.fit(X_train, y_train)\n",
    "\n",
    "# Predict\n",
    "y_pred1 = regr_1.predict(X_test)\n",
    "\n",
    "# Compute root mean squared error \n",
    "rmse = np.sqrt(mean_squared_error(y_pred1, y_test))\n",
    "print(\"RMSE:\", rmse)\n",
    "\n",
    "# Visualize the Decision Tree\n",
    "text_representation = tree.export_text(regr_1)\n",
    "print(text_representation)\n"
   ]
  },
  {
   "cell_type": "code",
   "execution_count": 27,
   "id": "b0e3c6c1",
   "metadata": {},
   "outputs": [
    {
     "name": "stdout",
     "output_type": "stream",
     "text": [
      "RMSE: 44980.466485984856\n",
      "|--- feature_290 <= 1613.00\n",
      "|   |--- feature_290 <= 1158.50\n",
      "|   |   |--- feature_280 <= 1950.50\n",
      "|   |   |   |--- feature_4 <= 0.50\n",
      "|   |   |   |   |--- value: [117349.01]\n",
      "|   |   |   |--- feature_4 >  0.50\n",
      "|   |   |   |   |--- value: [150962.20]\n",
      "|   |   |--- feature_280 >  1950.50\n",
      "|   |   |   |--- feature_287 <= 905.50\n",
      "|   |   |   |   |--- value: [139405.72]\n",
      "|   |   |   |--- feature_287 >  905.50\n",
      "|   |   |   |   |--- value: [157934.11]\n",
      "|   |--- feature_290 >  1158.50\n",
      "|   |   |--- feature_280 <= 1993.50\n",
      "|   |   |   |--- feature_277 <= 28681.00\n",
      "|   |   |   |   |--- value: [162129.26]\n",
      "|   |   |   |--- feature_277 >  28681.00\n",
      "|   |   |   |   |--- value: [234598.44]\n",
      "|   |   |--- feature_280 >  1993.50\n",
      "|   |   |   |--- feature_286 <= 1416.00\n",
      "|   |   |   |   |--- value: [179313.74]\n",
      "|   |   |   |--- feature_286 >  1416.00\n",
      "|   |   |   |   |--- value: [199962.27]\n",
      "|--- feature_290 >  1613.00\n",
      "|   |--- feature_278 <= 7.50\n",
      "|   |   |--- feature_290 <= 2020.50\n",
      "|   |   |   |--- feature_275 <= 65.00\n",
      "|   |   |   |   |--- value: [193302.29]\n",
      "|   |   |   |--- feature_275 >  65.00\n",
      "|   |   |   |   |--- value: [169836.13]\n",
      "|   |   |--- feature_290 >  2020.50\n",
      "|   |   |   |--- feature_280 <= 1923.50\n",
      "|   |   |   |   |--- value: [173251.74]\n",
      "|   |   |   |--- feature_280 >  1923.50\n",
      "|   |   |   |   |--- value: [225953.30]\n",
      "|   |--- feature_278 >  7.50\n",
      "|   |   |--- feature_155 <= 0.50\n",
      "|   |   |   |--- feature_288 <= 1867.00\n",
      "|   |   |   |   |--- value: [231984.82]\n",
      "|   |   |   |--- feature_288 >  1867.00\n",
      "|   |   |   |   |--- value: [755000.00]\n",
      "|   |   |--- feature_155 >  0.50\n",
      "|   |   |   |--- feature_280 <= 2007.50\n",
      "|   |   |   |   |--- value: [294159.01]\n",
      "|   |   |   |--- feature_280 >  2007.50\n",
      "|   |   |   |   |--- value: [437015.50]\n",
      "\n"
     ]
    }
   ],
   "source": [
    "# Fit regression model\n",
    "regr_2 = DecisionTreeRegressor(max_depth=4)\n",
    "regr_2.fit(X_train, y_train)\n",
    "\n",
    "# Predict\n",
    "y_pred2 = regr_2.predict(X_test)\n",
    "\n",
    "# Compute root mean squared error \n",
    "rmse = np.sqrt(mean_squared_error(y_pred2, y_test))\n",
    "print(\"RMSE:\", rmse)\n",
    "\n",
    "# Visualize the Decision Tree\n",
    "text_representation = tree.export_text(regr_2)\n",
    "print(text_representation)"
   ]
  },
  {
   "cell_type": "markdown",
   "id": "61a90309",
   "metadata": {},
   "source": [
    "## Random forest regression"
   ]
  },
  {
   "cell_type": "code",
   "execution_count": 8,
   "id": "759b6c09",
   "metadata": {},
   "outputs": [
    {
     "name": "stdout",
     "output_type": "stream",
     "text": [
      "RMSE: 37254.672331524416\n"
     ]
    },
    {
     "name": "stderr",
     "output_type": "stream",
     "text": [
      "/Users/veerleblom/opt/anaconda3/envs/progLab/lib/python3.7/site-packages/sklearn/base.py:439: UserWarning: X has feature names, but RandomForestRegressor was fitted without feature names\n",
      "  f\"X has feature names, but {self.__class__.__name__} was fitted without\"\n"
     ]
    }
   ],
   "source": [
    "regressor = RandomForestRegressor(n_estimators = 80, random_state = 0)\n",
    "regressor.fit(X_train.values, y_train)\n",
    "\n",
    "y_pred = regressor.predict(X_test)\n",
    "\n",
    "# compute root mean squared error \n",
    "rmse = np.sqrt(mean_squared_error(y_pred, y_test))\n",
    "print(\"RMSE:\", rmse)\n"
   ]
  },
  {
   "cell_type": "code",
   "execution_count": null,
   "id": "a33c1185",
   "metadata": {},
   "outputs": [],
   "source": []
  },
  {
   "cell_type": "code",
   "execution_count": null,
   "id": "bd9128e8",
   "metadata": {},
   "outputs": [],
   "source": []
  }
 ],
 "metadata": {
  "kernelspec": {
   "display_name": "Python 3 (ipykernel)",
   "language": "python",
   "name": "python3"
  },
  "language_info": {
   "codemirror_mode": {
    "name": "ipython",
    "version": 3
   },
   "file_extension": ".py",
   "mimetype": "text/x-python",
   "name": "python",
   "nbconvert_exporter": "python",
   "pygments_lexer": "ipython3",
   "version": "3.7.11"
  }
 },
 "nbformat": 4,
 "nbformat_minor": 5
}
